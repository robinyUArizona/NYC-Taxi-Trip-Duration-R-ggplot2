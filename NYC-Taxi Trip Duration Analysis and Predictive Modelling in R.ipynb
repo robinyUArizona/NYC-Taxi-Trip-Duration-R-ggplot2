{
 "cells": [
  {
   "cell_type": "markdown",
   "metadata": {},
   "source": [
    "# NYC Trip Duration Analysis"
   ]
  },
  {
   "cell_type": "markdown",
   "metadata": {},
   "source": [
    "![](https://github.com/robinyUArizona/NYC-Taxi-Trip-Duration-R-ggplot2/blob/master/NYC-Taxi-Trip-Duration-Pic.PNG?raw=true)"
   ]
  },
  {
   "cell_type": "markdown",
   "metadata": {},
   "source": [
    "**In this competition, we are asked to build a model to predict trip duration type for distance travelled, pickup time, geo-coordinates, number of passengers, and several other variables.**"
   ]
  },
  {
   "cell_type": "code",
   "execution_count": null,
   "metadata": {},
   "outputs": [],
   "source": []
  },
  {
   "cell_type": "code",
   "execution_count": 1,
   "metadata": {},
   "outputs": [],
   "source": [
    "#### New York Taxi trip duration ####\n",
    "\n",
    "#### Libraries or Packages #####################################\n",
    "# install.packages('vcd')\n",
    "# install.packages('ggplot2')\n",
    "# install.packages('geosphere')\n",
    "# install.packages('lubridate')\n",
    "# install.packages('e1071')\n",
    "# install.packages('ggcorrplot')\n",
    "# install.packages('caret')\n",
    "# install.packages('gridExtra')\n",
    "# install.packages('dplyr') \n",
    "# install.packages('mice')\n",
    "# install.packages('VIM')\n",
    "# install.packages('Boruta')\n",
    "# install.packages('mlbench')\n",
    "# install.packages('caret')\n",
    "# install.packages('randomForest')\n",
    "# install.packages(\"varImp\")\n",
    "# install.packages(\"party\") \n",
    "# install.packages(\"ROSE\")\n"
   ]
  },
  {
   "cell_type": "code",
   "execution_count": 2,
   "metadata": {},
   "outputs": [],
   "source": [
    "options(warn=-1)"
   ]
  },
  {
   "cell_type": "code",
   "execution_count": 3,
   "metadata": {},
   "outputs": [
    {
     "name": "stderr",
     "output_type": "stream",
     "text": [
      "Loading required package: grid\n",
      "\n",
      "Attaching package: 'lubridate'\n",
      "\n",
      "The following object is masked from 'package:base':\n",
      "\n",
      "    date\n",
      "\n",
      "Loading required package: lattice\n",
      "\n",
      "Attaching package: 'dplyr'\n",
      "\n",
      "The following object is masked from 'package:gridExtra':\n",
      "\n",
      "    combine\n",
      "\n",
      "The following objects are masked from 'package:lubridate':\n",
      "\n",
      "    intersect, setdiff, union\n",
      "\n",
      "The following objects are masked from 'package:stats':\n",
      "\n",
      "    filter, lag\n",
      "\n",
      "The following objects are masked from 'package:base':\n",
      "\n",
      "    intersect, setdiff, setequal, union\n",
      "\n",
      "\n",
      "Attaching package: 'mice'\n",
      "\n",
      "The following objects are masked from 'package:base':\n",
      "\n",
      "    cbind, rbind\n",
      "\n",
      "Loading required package: colorspace\n",
      "Loading required package: data.table\n",
      "\n",
      "Attaching package: 'data.table'\n",
      "\n",
      "The following objects are masked from 'package:dplyr':\n",
      "\n",
      "    between, first, last\n",
      "\n",
      "The following objects are masked from 'package:lubridate':\n",
      "\n",
      "    hour, isoweek, mday, minute, month, quarter, second, wday, week,\n",
      "    yday, year\n",
      "\n",
      "VIM is ready to use. \n",
      " Since version 4.0.0 the GUI is in its own package VIMGUI.\n",
      "\n",
      "          Please use the package to use the new (and old) GUI.\n",
      "\n",
      "Suggestions and bug-reports can be submitted at: https://github.com/alexkowa/VIM/issues\n",
      "\n",
      "Attaching package: 'VIM'\n",
      "\n",
      "The following object is masked from 'package:datasets':\n",
      "\n",
      "    sleep\n",
      "\n",
      "Loading required package: measures\n",
      "\n",
      "Attaching package: 'measures'\n",
      "\n",
      "The following objects are masked from 'package:caret':\n",
      "\n",
      "    MAE, RMSE\n",
      "\n",
      "Loading required package: party\n",
      "Loading required package: mvtnorm\n",
      "Loading required package: modeltools\n",
      "Loading required package: stats4\n",
      "Loading required package: strucchange\n",
      "Loading required package: zoo\n",
      "\n",
      "Attaching package: 'zoo'\n",
      "\n",
      "The following objects are masked from 'package:base':\n",
      "\n",
      "    as.Date, as.Date.numeric\n",
      "\n",
      "Loading required package: sandwich\n",
      "\n",
      "Attaching package: 'varImp'\n",
      "\n",
      "The following object is masked from 'package:caret':\n",
      "\n",
      "    varImp\n",
      "\n",
      "Loading required package: ranger\n",
      "randomForest 4.6-14\n",
      "Type rfNews() to see new features/changes/bug fixes.\n",
      "\n",
      "Attaching package: 'randomForest'\n",
      "\n",
      "The following object is masked from 'package:ranger':\n",
      "\n",
      "    importance\n",
      "\n",
      "The following object is masked from 'package:dplyr':\n",
      "\n",
      "    combine\n",
      "\n",
      "The following object is masked from 'package:gridExtra':\n",
      "\n",
      "    combine\n",
      "\n",
      "The following object is masked from 'package:ggplot2':\n",
      "\n",
      "    margin\n",
      "\n",
      "Loaded ROSE 0.0-3\n",
      "\n",
      "\n",
      "Attaching package: 'neuralnet'\n",
      "\n",
      "The following object is masked from 'package:dplyr':\n",
      "\n",
      "    compute\n",
      "\n"
     ]
    }
   ],
   "source": [
    "## load packages ###############################################\n",
    "library(vcd) # for distribution plot\n",
    "library(ggplot2) # for visualisation\n",
    "library(geosphere) # for distance\n",
    "library(lubridate) # for date-time formatting\n",
    "library(e1071) # for naive bayes\n",
    "library(ggcorrplot) # for correlation matrix plot\n",
    "library(caret) # for confusion matrix\n",
    "library(gridExtra) # for grid for multiplot\n",
    "library(dplyr) # for %>%\n",
    "library(mice) # for md.pattern()\n",
    "library(VIM) # for visulaization of missing value\n",
    "\n",
    "library(varImp) # for feature selection\n",
    "library(party) # for feature selection\n",
    "library(Boruta) # for feature selection\n",
    "library(mlbench)\n",
    "library(randomForest) # for feature selection\n",
    "library(ROSE) # for ROC curve  \n",
    "library(neuralnet) # for neural network\n",
    "library(C50) # for decision tree\n",
    "\n",
    "library(repr) # for plot margin\n",
    "options(repr.plot.width=4, repr.plot.height=3)"
   ]
  },
  {
   "cell_type": "code",
   "execution_count": null,
   "metadata": {},
   "outputs": [],
   "source": []
  },
  {
   "cell_type": "code",
   "execution_count": 4,
   "metadata": {},
   "outputs": [
    {
     "name": "stdout",
     "output_type": "stream",
     "text": [
      "Dimension of Train Data: \n",
      "[1] 1458644      11\n",
      "         id            vendor_id                pickup_datetime   \n",
      " id0000001:      1   Min.   :1.000   2016-01-12 18:48:44:      5  \n",
      " id0000003:      1   1st Qu.:1.000   2016-02-09 21:03:38:      5  \n",
      " id0000005:      1   Median :2.000   2016-03-04 08:07:34:      5  \n",
      " id0000008:      1   Mean   :1.535   2016-04-05 18:55:21:      5  \n",
      " id0000009:      1   3rd Qu.:2.000   2016-05-07 13:18:07:      5  \n",
      " id0000011:      1   Max.   :2.000   2016-06-10 23:17:17:      5  \n",
      " (Other)  :1458638                   (Other)            :1458614  \n",
      "            dropoff_datetime   passenger_count pickup_longitude \n",
      " 2016-02-19 19:25:04:      5   Min.   :0.000   Min.   :-121.93  \n",
      " 2016-05-16 19:40:28:      5   1st Qu.:1.000   1st Qu.: -73.99  \n",
      " 2016-01-07 08:04:32:      4   Median :1.000   Median : -73.98  \n",
      " 2016-01-08 12:43:38:      4   Mean   :1.665   Mean   : -73.97  \n",
      " 2016-01-08 13:00:41:      4   3rd Qu.:2.000   3rd Qu.: -73.97  \n",
      " 2016-01-09 15:59:42:      4   Max.   :9.000   Max.   : -61.34  \n",
      " (Other)            :1458618                                    \n",
      " pickup_latitude dropoff_longitude dropoff_latitude store_and_fwd_flag\n",
      " Min.   :34.36   Min.   :-121.93   Min.   :32.18    N:1450599         \n",
      " 1st Qu.:40.74   1st Qu.: -73.99   1st Qu.:40.74    Y:   8045         \n",
      " Median :40.75   Median : -73.98   Median :40.75                      \n",
      " Mean   :40.75   Mean   : -73.97   Mean   :40.75                      \n",
      " 3rd Qu.:40.77   3rd Qu.: -73.96   3rd Qu.:40.77                      \n",
      " Max.   :51.88   Max.   : -61.34   Max.   :43.92                      \n",
      "                                                                      \n",
      " trip_duration    \n",
      " Min.   :      1  \n",
      " 1st Qu.:    397  \n",
      " Median :    662  \n",
      " Mean   :    959  \n",
      " 3rd Qu.:   1075  \n",
      " Max.   :3526282  \n",
      "                  \n"
     ]
    }
   ],
   "source": [
    "################################################################\n",
    "train_data <- read.csv('train.csv')\n",
    "cat('Dimension of Train Data: \\n')\n",
    "print(dim(train_data))\n",
    "print(summary(train_data))"
   ]
  },
  {
   "cell_type": "code",
   "execution_count": 5,
   "metadata": {},
   "outputs": [],
   "source": [
    "# ##### check duplicate rows in train_data #######\n",
    "# cat('Duplicate rows in train_data: ')\n",
    "# print(train_data[duplicated(train_data)])\n",
    "# ##-- Comment: No duplicate rows"
   ]
  },
  {
   "cell_type": "code",
   "execution_count": 6,
   "metadata": {},
   "outputs": [],
   "source": [
    "# #### Exploring missing value in train_data ####\n",
    "# cat('\\n Exploring missing value in train_data: \\n')\n",
    "\n",
    "# ## Check for missing value \"NA\"\n",
    "# cat('Check for missing value: \\n')\n",
    "# print(sum(is.na(train_data)))\n",
    "# cat('check missing value in each column: \\n')\n",
    "# print(colSums(is.na(train_data)))\n",
    "\n",
    "# ## Distribution of missing value\n",
    "# print(md.pattern(train_data))\n",
    "# ##-- comment: No missing values"
   ]
  },
  {
   "cell_type": "code",
   "execution_count": 7,
   "metadata": {},
   "outputs": [],
   "source": [
    "### train_data without missing rows -- complete case\n",
    "train_data <- na.omit(train_data)\n",
    "\n",
    "set.seed(123)\n",
    "sample_size <- 50000 \n",
    "sample_train_data <- train_data[sample(nrow(train_data), size=sample_size,\n",
    "                            replace=FALSE), ]\n",
    "\n",
    "## Save sample_train_data as 'sample_train.csv' file\n",
    "write.csv(sample_train_data, \"sample_train.csv\", row.names = FALSE)\n",
    "\n",
    "#####################################################################"
   ]
  },
  {
   "cell_type": "code",
   "execution_count": null,
   "metadata": {},
   "outputs": [],
   "source": []
  },
  {
   "cell_type": "code",
   "execution_count": 8,
   "metadata": {},
   "outputs": [
    {
     "name": "stdout",
     "output_type": "stream",
     "text": [
      "Dimension of Sample Train Data: \n",
      "[1] 50000    11\n",
      "\n",
      "\n",
      "Column Names: \n",
      " [1] \"id\"                 \"vendor_id\"          \"pickup_datetime\"   \n",
      " [4] \"dropoff_datetime\"   \"passenger_count\"    \"pickup_longitude\"  \n",
      " [7] \"pickup_latitude\"    \"dropoff_longitude\"  \"dropoff_latitude\"  \n",
      "[10] \"store_and_fwd_flag\" \"trip_duration\"     \n",
      "Summary of New Train Data: \n",
      "         id          vendor_id                pickup_datetime \n",
      " id0000107:    1   Min.   :1.000   2016-01-03 16:22:04:    2  \n",
      " id0000186:    1   1st Qu.:1.000   2016-01-10 01:22:15:    2  \n",
      " id0000278:    1   Median :2.000   2016-01-16 01:03:42:    2  \n",
      " id0000334:    1   Mean   :1.535   2016-01-21 22:40:59:    2  \n",
      " id0000337:    1   3rd Qu.:2.000   2016-01-22 05:16:58:    2  \n",
      " id0000375:    1   Max.   :2.000   2016-01-29 13:17:16:    2  \n",
      " (Other)  :49994                   (Other)            :49988  \n",
      "            dropoff_datetime passenger_count pickup_longitude pickup_latitude\n",
      " 2016-01-04 11:05:55:    2   Min.   :0.000   Min.   :-75.46   Min.   :39.80  \n",
      " 2016-01-04 13:31:08:    2   1st Qu.:1.000   1st Qu.:-73.99   1st Qu.:40.74  \n",
      " 2016-01-04 21:08:58:    2   Median :1.000   Median :-73.98   Median :40.75  \n",
      " 2016-01-05 13:36:36:    2   Mean   :1.666   Mean   :-73.97   Mean   :40.75  \n",
      " 2016-01-05 18:21:33:    2   3rd Qu.:2.000   3rd Qu.:-73.97   3rd Qu.:40.77  \n",
      " 2016-01-09 16:58:55:    2   Max.   :6.000   Max.   :-73.64   Max.   :41.06  \n",
      " (Other)            :49988                                                   \n",
      " dropoff_longitude dropoff_latitude store_and_fwd_flag trip_duration    \n",
      " Min.   :-74.46    Min.   :40.54    N:49719            Min.   :    1.0  \n",
      " 1st Qu.:-73.99    1st Qu.:40.74    Y:  281            1st Qu.:  398.0  \n",
      " Median :-73.98    Median :40.75                       Median :  662.0  \n",
      " Mean   :-73.97    Mean   :40.75                       Mean   :  933.4  \n",
      " 3rd Qu.:-73.96    3rd Qu.:40.77                       3rd Qu.: 1075.0  \n",
      " Max.   :-73.42    Max.   :41.19                       Max.   :86358.0  \n",
      "                                                                        \n",
      "\n",
      "\n",
      "Original Data Format: \n",
      "Classes 'tbl_df', 'tbl' and 'data.frame':\t50000 obs. of  11 variables:\n",
      " $ id                : Factor w/ 50000 levels \"id0000107\",\"id0000186\",..: 35480 6156 49420 49073 39750 25071 41839 37978 34187 47206 ...\n",
      " $ vendor_id         : int  1 1 2 2 1 1 1 2 1 2 ...\n",
      " $ pickup_datetime   : Factor w/ 49904 levels \"2016-01-01 00:06:56\",..: 44191 25850 12911 27995 11304 28356 30862 12288 20840 14847 ...\n",
      " $ dropoff_datetime  : Factor w/ 49907 levels \"2016-01-01 00:21:17\",..: 44191 25851 12902 28001 11299 28360 30862 12278 20844 14841 ...\n",
      " $ passenger_count   : int  1 4 1 1 1 1 1 2 1 1 ...\n",
      " $ pickup_longitude  : num  -74 -74 -74 -74 -74 ...\n",
      " $ pickup_latitude   : num  40.7 40.7 40.8 40.8 40.8 ...\n",
      " $ dropoff_longitude : num  -74 -74 -74 -74 -74 ...\n",
      " $ dropoff_latitude  : num  40.8 40.7 40.8 40.8 40.8 ...\n",
      " $ store_and_fwd_flag: Factor w/ 2 levels \"N\",\"Y\": 1 1 1 1 1 1 1 1 1 1 ...\n",
      " $ trip_duration     : int  1034 422 93 1518 532 303 239 263 581 387 ...\n",
      "NULL\n"
     ]
    },
    {
     "data": {
      "text/html": [
       "<table>\n",
       "<caption>A tibble: 6 × 11</caption>\n",
       "<thead>\n",
       "\t<tr><th scope=col>id</th><th scope=col>vendor_id</th><th scope=col>pickup_datetime</th><th scope=col>dropoff_datetime</th><th scope=col>passenger_count</th><th scope=col>pickup_longitude</th><th scope=col>pickup_latitude</th><th scope=col>dropoff_longitude</th><th scope=col>dropoff_latitude</th><th scope=col>store_and_fwd_flag</th><th scope=col>trip_duration</th></tr>\n",
       "\t<tr><th scope=col>&lt;fct&gt;</th><th scope=col>&lt;int&gt;</th><th scope=col>&lt;fct&gt;</th><th scope=col>&lt;fct&gt;</th><th scope=col>&lt;int&gt;</th><th scope=col>&lt;dbl&gt;</th><th scope=col>&lt;dbl&gt;</th><th scope=col>&lt;dbl&gt;</th><th scope=col>&lt;dbl&gt;</th><th scope=col>&lt;fct&gt;</th><th scope=col>&lt;int&gt;</th></tr>\n",
       "</thead>\n",
       "<tbody>\n",
       "\t<tr><td>id2826034</td><td>1</td><td>2016-06-09 08:28:09</td><td>2016-06-09 08:45:23</td><td>1</td><td>-73.99175</td><td>40.74547</td><td>-73.97902</td><td>40.76099</td><td>N</td><td>1034</td></tr>\n",
       "\t<tr><td>id0486626</td><td>1</td><td>2016-04-04 13:25:16</td><td>2016-04-04 13:32:18</td><td>4</td><td>-73.98820</td><td>40.74594</td><td>-74.00010</td><td>40.73305</td><td>N</td><td> 422</td></tr>\n",
       "\t<tr><td>id3953928</td><td>2</td><td>2016-02-19 00:51:25</td><td>2016-02-19 00:52:58</td><td>1</td><td>-73.96552</td><td>40.80609</td><td>-73.96155</td><td>40.80202</td><td>N</td><td>  93</td></tr>\n",
       "\t<tr><td>id3925513</td><td>2</td><td>2016-04-11 17:48:22</td><td>2016-04-11 18:13:40</td><td>1</td><td>-73.97545</td><td>40.75371</td><td>-73.97767</td><td>40.77701</td><td>N</td><td>1518</td></tr>\n",
       "\t<tr><td>id3176117</td><td>1</td><td>2016-02-13 13:48:27</td><td>2016-02-13 13:57:19</td><td>1</td><td>-73.95798</td><td>40.78236</td><td>-73.96026</td><td>40.76311</td><td>N</td><td> 532</td></tr>\n",
       "\t<tr><td>id1997857</td><td>1</td><td>2016-04-12 22:26:39</td><td>2016-04-12 22:31:42</td><td>1</td><td>-73.95249</td><td>40.78394</td><td>-73.94897</td><td>40.77415</td><td>N</td><td> 303</td></tr>\n",
       "</tbody>\n",
       "</table>\n"
      ],
      "text/latex": [
       "A tibble: 6 × 11\n",
       "\\begin{tabular}{lllllllllll}\n",
       " id & vendor\\_id & pickup\\_datetime & dropoff\\_datetime & passenger\\_count & pickup\\_longitude & pickup\\_latitude & dropoff\\_longitude & dropoff\\_latitude & store\\_and\\_fwd\\_flag & trip\\_duration\\\\\n",
       " <fct> & <int> & <fct> & <fct> & <int> & <dbl> & <dbl> & <dbl> & <dbl> & <fct> & <int>\\\\\n",
       "\\hline\n",
       "\t id2826034 & 1 & 2016-06-09 08:28:09 & 2016-06-09 08:45:23 & 1 & -73.99175 & 40.74547 & -73.97902 & 40.76099 & N & 1034\\\\\n",
       "\t id0486626 & 1 & 2016-04-04 13:25:16 & 2016-04-04 13:32:18 & 4 & -73.98820 & 40.74594 & -74.00010 & 40.73305 & N &  422\\\\\n",
       "\t id3953928 & 2 & 2016-02-19 00:51:25 & 2016-02-19 00:52:58 & 1 & -73.96552 & 40.80609 & -73.96155 & 40.80202 & N &   93\\\\\n",
       "\t id3925513 & 2 & 2016-04-11 17:48:22 & 2016-04-11 18:13:40 & 1 & -73.97545 & 40.75371 & -73.97767 & 40.77701 & N & 1518\\\\\n",
       "\t id3176117 & 1 & 2016-02-13 13:48:27 & 2016-02-13 13:57:19 & 1 & -73.95798 & 40.78236 & -73.96026 & 40.76311 & N &  532\\\\\n",
       "\t id1997857 & 1 & 2016-04-12 22:26:39 & 2016-04-12 22:31:42 & 1 & -73.95249 & 40.78394 & -73.94897 & 40.77415 & N &  303\\\\\n",
       "\\end{tabular}\n"
      ],
      "text/markdown": [
       "\n",
       "A tibble: 6 × 11\n",
       "\n",
       "| id &lt;fct&gt; | vendor_id &lt;int&gt; | pickup_datetime &lt;fct&gt; | dropoff_datetime &lt;fct&gt; | passenger_count &lt;int&gt; | pickup_longitude &lt;dbl&gt; | pickup_latitude &lt;dbl&gt; | dropoff_longitude &lt;dbl&gt; | dropoff_latitude &lt;dbl&gt; | store_and_fwd_flag &lt;fct&gt; | trip_duration &lt;int&gt; |\n",
       "|---|---|---|---|---|---|---|---|---|---|---|\n",
       "| id2826034 | 1 | 2016-06-09 08:28:09 | 2016-06-09 08:45:23 | 1 | -73.99175 | 40.74547 | -73.97902 | 40.76099 | N | 1034 |\n",
       "| id0486626 | 1 | 2016-04-04 13:25:16 | 2016-04-04 13:32:18 | 4 | -73.98820 | 40.74594 | -74.00010 | 40.73305 | N |  422 |\n",
       "| id3953928 | 2 | 2016-02-19 00:51:25 | 2016-02-19 00:52:58 | 1 | -73.96552 | 40.80609 | -73.96155 | 40.80202 | N |   93 |\n",
       "| id3925513 | 2 | 2016-04-11 17:48:22 | 2016-04-11 18:13:40 | 1 | -73.97545 | 40.75371 | -73.97767 | 40.77701 | N | 1518 |\n",
       "| id3176117 | 1 | 2016-02-13 13:48:27 | 2016-02-13 13:57:19 | 1 | -73.95798 | 40.78236 | -73.96026 | 40.76311 | N |  532 |\n",
       "| id1997857 | 1 | 2016-04-12 22:26:39 | 2016-04-12 22:31:42 | 1 | -73.95249 | 40.78394 | -73.94897 | 40.77415 | N |  303 |\n",
       "\n"
      ],
      "text/plain": [
       "  id        vendor_id pickup_datetime     dropoff_datetime    passenger_count\n",
       "1 id2826034 1         2016-06-09 08:28:09 2016-06-09 08:45:23 1              \n",
       "2 id0486626 1         2016-04-04 13:25:16 2016-04-04 13:32:18 4              \n",
       "3 id3953928 2         2016-02-19 00:51:25 2016-02-19 00:52:58 1              \n",
       "4 id3925513 2         2016-04-11 17:48:22 2016-04-11 18:13:40 1              \n",
       "5 id3176117 1         2016-02-13 13:48:27 2016-02-13 13:57:19 1              \n",
       "6 id1997857 1         2016-04-12 22:26:39 2016-04-12 22:31:42 1              \n",
       "  pickup_longitude pickup_latitude dropoff_longitude dropoff_latitude\n",
       "1 -73.99175        40.74547        -73.97902         40.76099        \n",
       "2 -73.98820        40.74594        -74.00010         40.73305        \n",
       "3 -73.96552        40.80609        -73.96155         40.80202        \n",
       "4 -73.97545        40.75371        -73.97767         40.77701        \n",
       "5 -73.95798        40.78236        -73.96026         40.76311        \n",
       "6 -73.95249        40.78394        -73.94897         40.77415        \n",
       "  store_and_fwd_flag trip_duration\n",
       "1 N                  1034         \n",
       "2 N                   422         \n",
       "3 N                    93         \n",
       "4 N                  1518         \n",
       "5 N                   532         \n",
       "6 N                   303         "
      ]
     },
     "metadata": {},
     "output_type": "display_data"
    }
   ],
   "source": [
    "## Sample_train.csv\n",
    "new_train_data <- read.csv('sample_train.csv')\n",
    "new_train_data <- as_data_frame(new_train_data)\n",
    "\n",
    "cat('Dimension of Sample Train Data: \\n')\n",
    "print(dim(new_train_data))\n",
    "cat('\\n\\nColumn Names: \\n')\n",
    "print(colnames(new_train_data))\n",
    "\n",
    "# Summary of data\n",
    "cat('Summary of New Train Data: \\n')\n",
    "print(summary(new_train_data))\n",
    "cat('\\n\\nOriginal Data Format: \\n')\n",
    "print(str(new_train_data))\n",
    "\n",
    "head(new_train_data)"
   ]
  },
  {
   "cell_type": "code",
   "execution_count": 9,
   "metadata": {},
   "outputs": [
    {
     "data": {
      "text/html": [
       "<style>\n",
       ".dl-inline {width: auto; margin:0; padding: 0}\n",
       ".dl-inline>dt, .dl-inline>dd {float: none; width: auto; display: inline-block}\n",
       ".dl-inline>dt::after {content: \":\\0020\"; padding-right: .5ex}\n",
       ".dl-inline>dt:not(:first-of-type) {padding-left: .5ex}\n",
       "</style><dl class=dl-inline><dt>id</dt><dd>'factor'</dd><dt>vendor_id</dt><dd>'integer'</dd><dt>pickup_datetime</dt><dd>'factor'</dd><dt>dropoff_datetime</dt><dd>'factor'</dd><dt>passenger_count</dt><dd>'integer'</dd><dt>pickup_longitude</dt><dd>'numeric'</dd><dt>pickup_latitude</dt><dd>'numeric'</dd><dt>dropoff_longitude</dt><dd>'numeric'</dd><dt>dropoff_latitude</dt><dd>'numeric'</dd><dt>store_and_fwd_flag</dt><dd>'factor'</dd><dt>trip_duration</dt><dd>'integer'</dd></dl>\n"
      ],
      "text/latex": [
       "\\begin{description*}\n",
       "\\item[id] 'factor'\n",
       "\\item[vendor\\textbackslash{}\\_id] 'integer'\n",
       "\\item[pickup\\textbackslash{}\\_datetime] 'factor'\n",
       "\\item[dropoff\\textbackslash{}\\_datetime] 'factor'\n",
       "\\item[passenger\\textbackslash{}\\_count] 'integer'\n",
       "\\item[pickup\\textbackslash{}\\_longitude] 'numeric'\n",
       "\\item[pickup\\textbackslash{}\\_latitude] 'numeric'\n",
       "\\item[dropoff\\textbackslash{}\\_longitude] 'numeric'\n",
       "\\item[dropoff\\textbackslash{}\\_latitude] 'numeric'\n",
       "\\item[store\\textbackslash{}\\_and\\textbackslash{}\\_fwd\\textbackslash{}\\_flag] 'factor'\n",
       "\\item[trip\\textbackslash{}\\_duration] 'integer'\n",
       "\\end{description*}\n"
      ],
      "text/markdown": [
       "id\n",
       ":   'factor'vendor_id\n",
       ":   'integer'pickup_datetime\n",
       ":   'factor'dropoff_datetime\n",
       ":   'factor'passenger_count\n",
       ":   'integer'pickup_longitude\n",
       ":   'numeric'pickup_latitude\n",
       ":   'numeric'dropoff_longitude\n",
       ":   'numeric'dropoff_latitude\n",
       ":   'numeric'store_and_fwd_flag\n",
       ":   'factor'trip_duration\n",
       ":   'integer'\n",
       "\n"
      ],
      "text/plain": [
       "                id          vendor_id    pickup_datetime   dropoff_datetime \n",
       "          \"factor\"          \"integer\"           \"factor\"           \"factor\" \n",
       "   passenger_count   pickup_longitude    pickup_latitude  dropoff_longitude \n",
       "         \"integer\"          \"numeric\"          \"numeric\"          \"numeric\" \n",
       "  dropoff_latitude store_and_fwd_flag      trip_duration \n",
       "         \"numeric\"           \"factor\"          \"integer\" "
      ]
     },
     "metadata": {},
     "output_type": "display_data"
    }
   ],
   "source": [
    "sapply(new_train_data, class)"
   ]
  },
  {
   "cell_type": "code",
   "execution_count": 10,
   "metadata": {},
   "outputs": [
    {
     "name": "stdout",
     "output_type": "stream",
     "text": [
      "\n",
      "Exploring missing value in train_data: \n",
      "Check for missing value: \n",
      "[1] 0\n",
      "check missing value in each column: \n",
      "                id          vendor_id    pickup_datetime   dropoff_datetime \n",
      "                 0                  0                  0                  0 \n",
      "   passenger_count   pickup_longitude    pickup_latitude  dropoff_longitude \n",
      "                 0                  0                  0                  0 \n",
      "  dropoff_latitude store_and_fwd_flag      trip_duration \n",
      "                 0                  0                  0 \n",
      "\n",
      " Missings in variables:\n",
      "[1] Variable Count   \n",
      "<0 rows> (or 0-length row.names)\n",
      "\n",
      " Missings in variables:\n",
      "[1] Variable Count   \n",
      "<0 rows> (or 0-length row.names)\n"
     ]
    },
    {
     "data": {
      "image/png": "[encoded data removed]",
      "text/plain": [
       "plot without title"
      ]
     },
     "metadata": {},
     "output_type": "display_data"
    }
   ],
   "source": [
    "##### check duplicate rows in sample_train_data #######\n",
    "# cat('Duplicate rows in train_data: \\n')\n",
    "# print(new_train_data[duplicated(new_train_data)])\n",
    "\n",
    "#-- Comment: No duplicate rows\n",
    "\n",
    "#### Exploring missing value in train_data ####\n",
    "cat('\\nExploring missing value in train_data: \\n')\n",
    "\n",
    "## Check for missing value \"NA\"\n",
    "cat('Check for missing value: \\n')\n",
    "print(sum(is.na(new_train_data)))\n",
    "cat('check missing value in each column: \\n')\n",
    "print(colSums(is.na(new_train_data)))\n",
    "\n",
    "# Visualization of missing value\n",
    "#  call function aggr (), prop = FALSE convert percentage value into counts\n",
    "# Function aggr() returns a bar-chart and a heat-map showing the distribution of missing value\n",
    "options(repr.plot.width = 4, repr.plot.height = 3)\n",
    "print(aggr(new_train_data, prop = FALSE, numbers = TRUE))\n",
    "\n",
    "##-- comment: No missing values\n",
    "\n",
    "\n",
    "### train_data without missing rows -- complete case\n",
    "## no need for this step\n",
    "new_train_data <- na.omit(new_train_data)\n",
    "\n",
    "\n",
    "# Function aggr() returns a bar-chart and a heat-map showing the distribution of missing value\n",
    "options(repr.plot.width = 7, repr.plot.height = 5)\n",
    "print(aggr(new_train_data, prop = FALSE, numbers = TRUE))"
   ]
  },
  {
   "cell_type": "code",
   "execution_count": 11,
   "metadata": {},
   "outputs": [
    {
     "name": "stdout",
     "output_type": "stream",
     "text": [
      "   Min. 1st Qu.  Median    Mean 3rd Qu.    Max. \n",
      "    1.0   398.0   662.0   933.4  1075.0 86358.0 \n",
      "Median of trip_duration in Seconds: \n",
      "Median \n",
      "   662 \n"
     ]
    }
   ],
   "source": [
    "## formatting target variable 'trip_duration'\n",
    "# Dr. Zhang suggestion comment, \"Since we mainly use classification-\n",
    "# methods, I suggest you convert your Ride Duration to Long/Short.\"\n",
    "\n",
    "############## Summary for target variable \"trip_duration\"\n",
    "summary_trip_duration <- summary(new_train_data$trip_duration)\n",
    "print(summary_trip_duration)\n",
    "median_trip_duration <- summary_trip_duration['Median']\n",
    "max_trip_duration <- summary_trip_duration['Max.']\n",
    "cat('Median of trip_duration in Seconds: \\n')\n",
    "print(median_trip_duration)"
   ]
  },
  {
   "cell_type": "code",
   "execution_count": 12,
   "metadata": {},
   "outputs": [
    {
     "data": {
      "image/png": "[encoded data removed]",
      "text/plain": [
       "plot without title"
      ]
     },
     "metadata": {},
     "output_type": "display_data"
    }
   ],
   "source": [
    "#### Some plots to decide where to cutoff for short and long -- 'trip_duration' ####\n",
    "# distribution plot\n",
    "options(repr.plot.width = 4, repr.plot.height = 4)\n",
    "distplot(new_train_data$trip_duration)"
   ]
  },
  {
   "cell_type": "code",
   "execution_count": 13,
   "metadata": {},
   "outputs": [
    {
     "data": {
      "image/png": "[encoded data removed]",
      "text/plain": [
       "plot without title"
      ]
     },
     "metadata": {},
     "output_type": "display_data"
    }
   ],
   "source": [
    "# density plot\n",
    "options(repr.plot.width = 4, repr.plot.height = 3)\n",
    "dens_dist <- ggplot(new_train_data, aes(x=trip_duration)) +\n",
    "  geom_density() + \n",
    "  ggtitle(\"Target Variable - Trip Duration Analysis\") +\n",
    "  xlab(\"Trip Duration\") +\n",
    "  theme(legend.position=\"none\")\n",
    "dens_dist"
   ]
  },
  {
   "cell_type": "code",
   "execution_count": 14,
   "metadata": {},
   "outputs": [
    {
     "data": {
      "image/png": "[encoded data removed]",
      "text/plain": [
       "plot without title"
      ]
     },
     "metadata": {},
     "output_type": "display_data"
    }
   ],
   "source": [
    "# histogram \n",
    "options(repr.plot.width = 4, repr.plot.height = 4)\n",
    "new_train_data %>%\n",
    "    sample_frac(size = 0.05) %>%\n",
    "    ggplot() +\n",
    "    geom_histogram(aes(trip_duration), binwidth = 5) +\n",
    "    ggtitle(\"Target Variable - Trip Duration Analysis\") +\n",
    "    xlab(\"Trip Duration\") +\n",
    "    theme(legend.position=\"none\")"
   ]
  },
  {
   "cell_type": "code",
   "execution_count": 15,
   "metadata": {},
   "outputs": [
    {
     "data": {
      "image/png": "[encoded data removed]",
      "text/plain": [
       "plot without title"
      ]
     },
     "metadata": {},
     "output_type": "display_data"
    }
   ],
   "source": [
    "# boxplot\n",
    "options(repr.plot.width = 4, repr.plot.height = 3)\n",
    "box_dist <- ggplot(data = new_train_data, aes(x=trip_duration)) +\n",
    "               geom_boxplot() +\n",
    "               ggtitle(\"Target Variable - Trip Duration Analysis\") +\n",
    "               xlab(\"Trip Duration\") +\n",
    "               theme(legend.position=\"none\")\n",
    "box_dist"
   ]
  },
  {
   "cell_type": "code",
   "execution_count": 16,
   "metadata": {},
   "outputs": [
    {
     "name": "stdout",
     "output_type": "stream",
     "text": [
      "\n",
      " Changing regression problem to classification problem: \n"
     ]
    }
   ],
   "source": [
    "#### Regression problem to Classification problem #####################\n",
    "cat('\\n Changing regression problem to classification problem: \\n')\n",
    "# Assuming trip duration more than 30 minutes is long trip --> 1800 seconds\n",
    "new_train_data$trip_duration <- cut(new_train_data$trip_duration,\n",
    "                                    breaks=c(0, 1800, max_trip_duration),\n",
    "                                    labels=c(\"Short Trip\",\"Long Trip\"))\n",
    "\n",
    "# changing target variable to factor\n",
    "new_train_data$trip_duration <- as.factor(new_train_data$trip_duration)\n"
   ]
  },
  {
   "cell_type": "code",
   "execution_count": 17,
   "metadata": {},
   "outputs": [
    {
     "name": "stdout",
     "output_type": "stream",
     "text": [
      "Short Trip  Long Trip \n",
      "     46191       3809 \n"
     ]
    },
    {
     "data": {
      "image/png": "[encoded data removed]",
      "text/plain": [
       "plot without title"
      ]
     },
     "metadata": {},
     "output_type": "display_data"
    }
   ],
   "source": [
    "## Analysis of target variable \n",
    "# 'trip_duration - short and long trip' feature\n",
    "## count the number of \"Short Trip\" and \"Long Trip\"\n",
    "print(summary(new_train_data$trip_duration))\n",
    "\n",
    "# print(str(new_train_data))\n",
    "\n",
    "trip <- new_train_data %>%\n",
    "  group_by(trip_duration) %>%\n",
    "  count() \n",
    "\n",
    "options(repr.plot.width = 3, repr.plot.height = 2.5)\n",
    "trip %>% ggplot(aes(x=factor(trip_duration), y=n))+\n",
    "  geom_col(aes(fill = factor(trip_duration))) +\n",
    "  ggtitle(\"Trip Types\") +\n",
    "  xlab(\"Trip Types\") +\n",
    "  ylab(\"No. of Passenger\") +\n",
    "  theme(legend.position = \"none\")"
   ]
  },
  {
   "cell_type": "code",
   "execution_count": 18,
   "metadata": {},
   "outputs": [
    {
     "data": {
      "text/html": [
       "<strong>Short Trip:</strong> 46191"
      ],
      "text/latex": [
       "\\textbf{Short Trip:} 46191"
      ],
      "text/markdown": [
       "**Short Trip:** 46191"
      ],
      "text/plain": [
       "Short Trip \n",
       "     46191 "
      ]
     },
     "metadata": {},
     "output_type": "display_data"
    },
    {
     "data": {
      "text/html": [
       "<strong>Long Trip:</strong> 3809"
      ],
      "text/latex": [
       "\\textbf{Long Trip:} 3809"
      ],
      "text/markdown": [
       "**Long Trip:** 3809"
      ],
      "text/plain": [
       "Long Trip \n",
       "     3809 "
      ]
     },
     "metadata": {},
     "output_type": "display_data"
    },
    {
     "name": "stdout",
     "output_type": "stream",
     "text": [
      "Base-line accuracy based on majority class: Short Trip \n",
      "    92.382 \n"
     ]
    }
   ],
   "source": [
    "## baseline accuracy\n",
    "# Assuming my model will classify all of my observations according to majority class\n",
    "num_short_trip <- summary(new_train_data$trip_duration)['Short Trip']\n",
    "num_short_trip\n",
    "num_long_trip <- summary(new_train_data$trip_duration)['Long Trip']\n",
    "num_long_trip\n",
    "\n",
    "base_accuracy <- (num_short_trip / (num_short_trip + num_long_trip)) * 100\n",
    "cat('Base-line accuracy based on majority class: ')\n",
    "print(base_accuracy)"
   ]
  },
  {
   "cell_type": "code",
   "execution_count": null,
   "metadata": {},
   "outputs": [],
   "source": []
  },
  {
   "cell_type": "code",
   "execution_count": 19,
   "metadata": {},
   "outputs": [
    {
     "data": {
      "text/html": [
       "<table>\n",
       "<caption>A tibble: 6 × 11</caption>\n",
       "<thead>\n",
       "\t<tr><th scope=col>id</th><th scope=col>vendor_id</th><th scope=col>pickup_datetime</th><th scope=col>dropoff_datetime</th><th scope=col>passenger_count</th><th scope=col>pickup_longitude</th><th scope=col>pickup_latitude</th><th scope=col>dropoff_longitude</th><th scope=col>dropoff_latitude</th><th scope=col>store_and_fwd_flag</th><th scope=col>trip_duration</th></tr>\n",
       "\t<tr><th scope=col>&lt;fct&gt;</th><th scope=col>&lt;int&gt;</th><th scope=col>&lt;fct&gt;</th><th scope=col>&lt;fct&gt;</th><th scope=col>&lt;int&gt;</th><th scope=col>&lt;dbl&gt;</th><th scope=col>&lt;dbl&gt;</th><th scope=col>&lt;dbl&gt;</th><th scope=col>&lt;dbl&gt;</th><th scope=col>&lt;fct&gt;</th><th scope=col>&lt;fct&gt;</th></tr>\n",
       "</thead>\n",
       "<tbody>\n",
       "\t<tr><td>id2826034</td><td>1</td><td>2016-06-09 08:28:09</td><td>2016-06-09 08:45:23</td><td>1</td><td>-73.99175</td><td>40.74547</td><td>-73.97902</td><td>40.76099</td><td>N</td><td>Short Trip</td></tr>\n",
       "\t<tr><td>id0486626</td><td>1</td><td>2016-04-04 13:25:16</td><td>2016-04-04 13:32:18</td><td>4</td><td>-73.98820</td><td>40.74594</td><td>-74.00010</td><td>40.73305</td><td>N</td><td>Short Trip</td></tr>\n",
       "\t<tr><td>id3953928</td><td>2</td><td>2016-02-19 00:51:25</td><td>2016-02-19 00:52:58</td><td>1</td><td>-73.96552</td><td>40.80609</td><td>-73.96155</td><td>40.80202</td><td>N</td><td>Short Trip</td></tr>\n",
       "\t<tr><td>id3925513</td><td>2</td><td>2016-04-11 17:48:22</td><td>2016-04-11 18:13:40</td><td>1</td><td>-73.97545</td><td>40.75371</td><td>-73.97767</td><td>40.77701</td><td>N</td><td>Short Trip</td></tr>\n",
       "\t<tr><td>id3176117</td><td>1</td><td>2016-02-13 13:48:27</td><td>2016-02-13 13:57:19</td><td>1</td><td>-73.95798</td><td>40.78236</td><td>-73.96026</td><td>40.76311</td><td>N</td><td>Short Trip</td></tr>\n",
       "\t<tr><td>id1997857</td><td>1</td><td>2016-04-12 22:26:39</td><td>2016-04-12 22:31:42</td><td>1</td><td>-73.95249</td><td>40.78394</td><td>-73.94897</td><td>40.77415</td><td>N</td><td>Short Trip</td></tr>\n",
       "</tbody>\n",
       "</table>\n"
      ],
      "text/latex": [
       "A tibble: 6 × 11\n",
       "\\begin{tabular}{lllllllllll}\n",
       " id & vendor\\_id & pickup\\_datetime & dropoff\\_datetime & passenger\\_count & pickup\\_longitude & pickup\\_latitude & dropoff\\_longitude & dropoff\\_latitude & store\\_and\\_fwd\\_flag & trip\\_duration\\\\\n",
       " <fct> & <int> & <fct> & <fct> & <int> & <dbl> & <dbl> & <dbl> & <dbl> & <fct> & <fct>\\\\\n",
       "\\hline\n",
       "\t id2826034 & 1 & 2016-06-09 08:28:09 & 2016-06-09 08:45:23 & 1 & -73.99175 & 40.74547 & -73.97902 & 40.76099 & N & Short Trip\\\\\n",
       "\t id0486626 & 1 & 2016-04-04 13:25:16 & 2016-04-04 13:32:18 & 4 & -73.98820 & 40.74594 & -74.00010 & 40.73305 & N & Short Trip\\\\\n",
       "\t id3953928 & 2 & 2016-02-19 00:51:25 & 2016-02-19 00:52:58 & 1 & -73.96552 & 40.80609 & -73.96155 & 40.80202 & N & Short Trip\\\\\n",
       "\t id3925513 & 2 & 2016-04-11 17:48:22 & 2016-04-11 18:13:40 & 1 & -73.97545 & 40.75371 & -73.97767 & 40.77701 & N & Short Trip\\\\\n",
       "\t id3176117 & 1 & 2016-02-13 13:48:27 & 2016-02-13 13:57:19 & 1 & -73.95798 & 40.78236 & -73.96026 & 40.76311 & N & Short Trip\\\\\n",
       "\t id1997857 & 1 & 2016-04-12 22:26:39 & 2016-04-12 22:31:42 & 1 & -73.95249 & 40.78394 & -73.94897 & 40.77415 & N & Short Trip\\\\\n",
       "\\end{tabular}\n"
      ],
      "text/markdown": [
       "\n",
       "A tibble: 6 × 11\n",
       "\n",
       "| id &lt;fct&gt; | vendor_id &lt;int&gt; | pickup_datetime &lt;fct&gt; | dropoff_datetime &lt;fct&gt; | passenger_count &lt;int&gt; | pickup_longitude &lt;dbl&gt; | pickup_latitude &lt;dbl&gt; | dropoff_longitude &lt;dbl&gt; | dropoff_latitude &lt;dbl&gt; | store_and_fwd_flag &lt;fct&gt; | trip_duration &lt;fct&gt; |\n",
       "|---|---|---|---|---|---|---|---|---|---|---|\n",
       "| id2826034 | 1 | 2016-06-09 08:28:09 | 2016-06-09 08:45:23 | 1 | -73.99175 | 40.74547 | -73.97902 | 40.76099 | N | Short Trip |\n",
       "| id0486626 | 1 | 2016-04-04 13:25:16 | 2016-04-04 13:32:18 | 4 | -73.98820 | 40.74594 | -74.00010 | 40.73305 | N | Short Trip |\n",
       "| id3953928 | 2 | 2016-02-19 00:51:25 | 2016-02-19 00:52:58 | 1 | -73.96552 | 40.80609 | -73.96155 | 40.80202 | N | Short Trip |\n",
       "| id3925513 | 2 | 2016-04-11 17:48:22 | 2016-04-11 18:13:40 | 1 | -73.97545 | 40.75371 | -73.97767 | 40.77701 | N | Short Trip |\n",
       "| id3176117 | 1 | 2016-02-13 13:48:27 | 2016-02-13 13:57:19 | 1 | -73.95798 | 40.78236 | -73.96026 | 40.76311 | N | Short Trip |\n",
       "| id1997857 | 1 | 2016-04-12 22:26:39 | 2016-04-12 22:31:42 | 1 | -73.95249 | 40.78394 | -73.94897 | 40.77415 | N | Short Trip |\n",
       "\n"
      ],
      "text/plain": [
       "  id        vendor_id pickup_datetime     dropoff_datetime    passenger_count\n",
       "1 id2826034 1         2016-06-09 08:28:09 2016-06-09 08:45:23 1              \n",
       "2 id0486626 1         2016-04-04 13:25:16 2016-04-04 13:32:18 4              \n",
       "3 id3953928 2         2016-02-19 00:51:25 2016-02-19 00:52:58 1              \n",
       "4 id3925513 2         2016-04-11 17:48:22 2016-04-11 18:13:40 1              \n",
       "5 id3176117 1         2016-02-13 13:48:27 2016-02-13 13:57:19 1              \n",
       "6 id1997857 1         2016-04-12 22:26:39 2016-04-12 22:31:42 1              \n",
       "  pickup_longitude pickup_latitude dropoff_longitude dropoff_latitude\n",
       "1 -73.99175        40.74547        -73.97902         40.76099        \n",
       "2 -73.98820        40.74594        -74.00010         40.73305        \n",
       "3 -73.96552        40.80609        -73.96155         40.80202        \n",
       "4 -73.97545        40.75371        -73.97767         40.77701        \n",
       "5 -73.95798        40.78236        -73.96026         40.76311        \n",
       "6 -73.95249        40.78394        -73.94897         40.77415        \n",
       "  store_and_fwd_flag trip_duration\n",
       "1 N                  Short Trip   \n",
       "2 N                  Short Trip   \n",
       "3 N                  Short Trip   \n",
       "4 N                  Short Trip   \n",
       "5 N                  Short Trip   \n",
       "6 N                  Short Trip   "
      ]
     },
     "metadata": {},
     "output_type": "display_data"
    },
    {
     "name": "stdout",
     "output_type": "stream",
     "text": [
      "Classes 'tbl_df', 'tbl' and 'data.frame':\t50000 obs. of  11 variables:\n",
      " $ id                : Factor w/ 50000 levels \"id0000107\",\"id0000186\",..: 35480 6156 49420 49073 39750 25071 41839 37978 34187 47206 ...\n",
      " $ vendor_id         : int  1 1 2 2 1 1 1 2 1 2 ...\n",
      " $ pickup_datetime   : Factor w/ 49904 levels \"2016-01-01 00:06:56\",..: 44191 25850 12911 27995 11304 28356 30862 12288 20840 14847 ...\n",
      " $ dropoff_datetime  : Factor w/ 49907 levels \"2016-01-01 00:21:17\",..: 44191 25851 12902 28001 11299 28360 30862 12278 20844 14841 ...\n",
      " $ passenger_count   : int  1 4 1 1 1 1 1 2 1 1 ...\n",
      " $ pickup_longitude  : num  -74 -74 -74 -74 -74 ...\n",
      " $ pickup_latitude   : num  40.7 40.7 40.8 40.8 40.8 ...\n",
      " $ dropoff_longitude : num  -74 -74 -74 -74 -74 ...\n",
      " $ dropoff_latitude  : num  40.8 40.7 40.8 40.8 40.8 ...\n",
      " $ store_and_fwd_flag: Factor w/ 2 levels \"N\",\"Y\": 1 1 1 1 1 1 1 1 1 1 ...\n",
      " $ trip_duration     : Factor w/ 2 levels \"Short Trip\",\"Long Trip\": 1 1 1 1 1 1 1 1 1 1 ...\n",
      "NULL\n",
      "         id          vendor_id                pickup_datetime \n",
      " id0000107:    1   Min.   :1.000   2016-01-03 16:22:04:    2  \n",
      " id0000186:    1   1st Qu.:1.000   2016-01-10 01:22:15:    2  \n",
      " id0000278:    1   Median :2.000   2016-01-16 01:03:42:    2  \n",
      " id0000334:    1   Mean   :1.535   2016-01-21 22:40:59:    2  \n",
      " id0000337:    1   3rd Qu.:2.000   2016-01-22 05:16:58:    2  \n",
      " id0000375:    1   Max.   :2.000   2016-01-29 13:17:16:    2  \n",
      " (Other)  :49994                   (Other)            :49988  \n",
      "            dropoff_datetime passenger_count pickup_longitude pickup_latitude\n",
      " 2016-01-04 11:05:55:    2   Min.   :0.000   Min.   :-75.46   Min.   :39.80  \n",
      " 2016-01-04 13:31:08:    2   1st Qu.:1.000   1st Qu.:-73.99   1st Qu.:40.74  \n",
      " 2016-01-04 21:08:58:    2   Median :1.000   Median :-73.98   Median :40.75  \n",
      " 2016-01-05 13:36:36:    2   Mean   :1.666   Mean   :-73.97   Mean   :40.75  \n",
      " 2016-01-05 18:21:33:    2   3rd Qu.:2.000   3rd Qu.:-73.97   3rd Qu.:40.77  \n",
      " 2016-01-09 16:58:55:    2   Max.   :6.000   Max.   :-73.64   Max.   :41.06  \n",
      " (Other)            :49988                                                   \n",
      " dropoff_longitude dropoff_latitude store_and_fwd_flag    trip_duration  \n",
      " Min.   :-74.46    Min.   :40.54    N:49719            Short Trip:46191  \n",
      " 1st Qu.:-73.99    1st Qu.:40.74    Y:  281            Long Trip : 3809  \n",
      " Median :-73.98    Median :40.75                                         \n",
      " Mean   :-73.97    Mean   :40.75                                         \n",
      " 3rd Qu.:-73.96    3rd Qu.:40.77                                         \n",
      " Max.   :-73.42    Max.   :41.19                                         \n",
      "                                                                         \n"
     ]
    }
   ],
   "source": [
    "### Lets check dataset\n",
    "head(new_train_data)\n",
    "print(str(new_train_data))\n",
    "print(summary(new_train_data))"
   ]
  },
  {
   "cell_type": "code",
   "execution_count": null,
   "metadata": {},
   "outputs": [],
   "source": []
  },
  {
   "cell_type": "markdown",
   "metadata": {},
   "source": [
    "## Exploration of datasets"
   ]
  },
  {
   "cell_type": "markdown",
   "metadata": {},
   "source": [
    "### Analysis of Independent Features"
   ]
  },
  {
   "cell_type": "code",
   "execution_count": 20,
   "metadata": {},
   "outputs": [
    {
     "data": {
      "image/png": "[encoded data removed]",
      "text/plain": [
       "plot without title"
      ]
     },
     "metadata": {},
     "output_type": "display_data"
    }
   ],
   "source": [
    "# 'vender_id' feature\n",
    "vendorID <- new_train_data %>%\n",
    "  group_by(vendor_id) %>%\n",
    "  count() \n",
    "\n",
    "options(repr.plot.width = 3, repr.plot.height = 2.5)\n",
    "vendorID %>% ggplot(aes(x=factor(vendor_id), y=n))+\n",
    "  geom_col(aes(fill = factor(vendor_id))) +\n",
    "  ggtitle(\"Vendor ID Feature\") +\n",
    "  xlab(\"vendor_id\") +\n",
    "  ylab(\"No. of Observation\") +\n",
    "  theme(legend.position = \"none\")"
   ]
  },
  {
   "cell_type": "code",
   "execution_count": 21,
   "metadata": {},
   "outputs": [],
   "source": [
    "#### Formatting Features: #####################################################\n",
    "##  “store_and_fwd_flag” variable to numeric, from character.\n",
    "new_train_data$store_and_fwd_flag <- as.numeric(as.factor(new_train_data$store_and_fwd_flag))\n",
    "# print(str(new_train_data))"
   ]
  },
  {
   "cell_type": "code",
   "execution_count": 22,
   "metadata": {},
   "outputs": [
    {
     "data": {
      "image/png": "[encoded data removed]",
      "text/plain": [
       "plot without title"
      ]
     },
     "metadata": {},
     "output_type": "display_data"
    }
   ],
   "source": [
    "# 'store_and_fwd_flag' feature\n",
    "store_flag <- new_train_data %>%\n",
    "  group_by(store_and_fwd_flag) %>%\n",
    "  count()\n",
    "\n",
    "options(repr.plot.width = 3, repr.plot.height = 2.5)\n",
    "store_flag %>% ggplot(aes(x=factor(store_and_fwd_flag), y=n))+\n",
    "  geom_col(aes(fill = factor(store_and_fwd_flag))) +\n",
    "  ggtitle(\"Store and Forward Feature\") +\n",
    "  xlab(\"store_and_fwd_flag\") +\n",
    "  ylab(\"No. of Observation\") +\n",
    "  theme(legend.position = \"none\")\n"
   ]
  },
  {
   "cell_type": "code",
   "execution_count": 23,
   "metadata": {},
   "outputs": [
    {
     "data": {
      "image/png": "[encoded data removed]",
      "text/plain": [
       "plot without title"
      ]
     },
     "metadata": {},
     "output_type": "display_data"
    }
   ],
   "source": [
    "# 'passenger_count' feature\n",
    "passeng_count <- new_train_data %>%\n",
    "  group_by(passenger_count) %>%\n",
    "  count() \n",
    "\n",
    "options(repr.plot.width = 3, repr.plot.height = 2.5)\n",
    "passeng_count %>% ggplot(aes(x=passenger_count, y=n))+\n",
    "  geom_col(aes(fill = factor(passenger_count)))+\n",
    "  ggtitle(\"Passenger Count in Each Pick Up\") +\n",
    "  xlab(\"passenger_count\") +\n",
    "  ylab(\"No. of Pick Up\") +\n",
    "  theme(legend.position = \"none\")"
   ]
  },
  {
   "cell_type": "code",
   "execution_count": null,
   "metadata": {},
   "outputs": [],
   "source": []
  },
  {
   "cell_type": "code",
   "execution_count": null,
   "metadata": {},
   "outputs": [],
   "source": []
  },
  {
   "cell_type": "code",
   "execution_count": 24,
   "metadata": {},
   "outputs": [],
   "source": [
    "###### Distance ####################################################\n",
    "## 'Distance Travelled during each Trip' using\n",
    "# 'pickup_latitude', 'pickup_longitude', 'dropoff_latitude', 'dropoff_longitude' features\n",
    "\n",
    "i  <- cbind(pick_longitude = new_train_data$pickup_longitude,\n",
    "            pick_latitude = new_train_data$pickup_latitude)\n",
    "j <- cbind(drop_longitude = new_train_data$dropoff_longitude,\n",
    "           drop_latitude = new_train_data$dropoff_latitude)\n",
    "\n",
    "## computing haversine distance from co-ordinates\n",
    "# distance column is added at the end\n",
    "new_train_data$distance <- distHaversine(i, j)"
   ]
  },
  {
   "cell_type": "code",
   "execution_count": 25,
   "metadata": {},
   "outputs": [
    {
     "data": {
      "image/png": "[encoded data removed]",
      "text/plain": [
       "plot without title"
      ]
     },
     "metadata": {},
     "output_type": "display_data"
    }
   ],
   "source": [
    "# 'pickup_latitude', pickup_longitude', dropoff_latitude', 'dropoff_longitude' features\n",
    "options(repr.plot.width = 6, repr.plot.height = 5)\n",
    "p1 <- new_train_data %>%\n",
    "  filter(pickup_latitude > min(new_train_data$pickup_latitude) &\n",
    "          pickup_latitude < max(new_train_data$pickup_latitude)) %>%\n",
    "  ggplot(aes(x=pickup_latitude)) +\n",
    "  geom_histogram(bins=40)\n",
    "\n",
    "p2 <- new_train_data %>%\n",
    "  filter(pickup_longitude > min(new_train_data$pickup_longitude) &\n",
    "           pickup_longitude < max(new_train_data$pickup_longitude)) %>%\n",
    "  ggplot(aes(x=pickup_longitude)) +\n",
    "  geom_histogram(bins=40)\n",
    "\n",
    "p3 <- new_train_data %>%\n",
    "  filter(dropoff_latitude > min(new_train_data$dropoff_latitude) &\n",
    "           dropoff_latitude < max(new_train_data$dropoff_latitude)) %>%\n",
    "  ggplot(aes(x=dropoff_latitude)) +\n",
    "  geom_histogram(bins=40)\n",
    "\n",
    "p4 <- new_train_data %>%\n",
    "  filter(dropoff_longitude > min(new_train_data$dropoff_longitude) &\n",
    "           dropoff_longitude < max(new_train_data$dropoff_longitude)) %>%\n",
    "  ggplot(aes(x=dropoff_longitude)) +\n",
    "  geom_histogram(bins=40)\n",
    "\n",
    "grid.arrange(p1, p2, p3, p4)"
   ]
  },
  {
   "cell_type": "code",
   "execution_count": null,
   "metadata": {},
   "outputs": [],
   "source": []
  },
  {
   "cell_type": "code",
   "execution_count": null,
   "metadata": {},
   "outputs": [],
   "source": []
  },
  {
   "cell_type": "code",
   "execution_count": 26,
   "metadata": {},
   "outputs": [
    {
     "name": "stdout",
     "output_type": "stream",
     "text": [
      "Classes 'tbl_df', 'tbl' and 'data.frame':\t50000 obs. of  19 variables:\n",
      " $ id                : Factor w/ 50000 levels \"id0000107\",\"id0000186\",..: 35480 6156 49420 49073 39750 25071 41839 37978 34187 47206 ...\n",
      " $ vendor_id         : int  1 1 2 2 1 1 1 2 1 2 ...\n",
      " $ pickup_datetime   : POSIXct, format: \"2016-06-09 08:28:09\" \"2016-04-04 13:25:16\" ...\n",
      " $ dropoff_datetime  : POSIXct, format: \"2016-06-09 08:45:23\" \"2016-04-04 13:32:18\" ...\n",
      " $ passenger_count   : int  1 4 1 1 1 1 1 2 1 1 ...\n",
      " $ pickup_longitude  : num  -74 -74 -74 -74 -74 ...\n",
      " $ pickup_latitude   : num  40.7 40.7 40.8 40.8 40.8 ...\n",
      " $ dropoff_longitude : num  -74 -74 -74 -74 -74 ...\n",
      " $ dropoff_latitude  : num  40.8 40.7 40.8 40.8 40.8 ...\n",
      " $ store_and_fwd_flag: num  1 1 1 1 1 1 1 1 1 1 ...\n",
      " $ trip_duration     : Factor w/ 2 levels \"Short Trip\",\"Long Trip\": 1 1 1 1 1 1 1 1 1 1 ...\n",
      " $ distance          : num  2034 1751 563 2601 2152 ...\n",
      " $ pickup_month      : int  6 4 2 4 2 4 4 2 3 2 ...\n",
      " $ pickup_day        : int  9 4 19 11 13 12 21 16 17 25 ...\n",
      " $ pickup_hour       : int  8 13 0 17 13 22 18 23 21 21 ...\n",
      " $ pickup_minutes    : int  28 25 51 48 48 26 42 19 25 10 ...\n",
      " $ pickup_week       : int  24 14 8 15 7 15 17 7 12 9 ...\n",
      " $ pickup_weekdays   : int  5 2 6 2 7 3 5 3 5 5 ...\n",
      " $ pickup_weekend    : Factor w/ 2 levels \"not-Weekend\",..: 1 1 2 1 2 1 1 1 1 1 ...\n",
      "NULL\n",
      "not-Weekend     Weekend \n",
      "      34644       15356 \n"
     ]
    }
   ],
   "source": [
    "## 'pickup_datetime' and 'dropoff_datetime'\n",
    "# convert 'Factor' into 'data/time' data type\n",
    "new_train_data$pickup_datetime <- ymd_hms(new_train_data$pickup_datetime)\n",
    "new_train_data$dropoff_datetime <- ymd_hms(new_train_data$dropoff_datetime)\n",
    "\n",
    "new_train_data$pickup_month <- month(new_train_data$pickup_datetime)\n",
    "new_train_data$pickup_day <- day(new_train_data$pickup_datetime)\n",
    "new_train_data$pickup_hour <- hour(new_train_data$pickup_datetime)\n",
    "new_train_data$pickup_minutes <- minute(new_train_data$pickup_datetime)\n",
    "\n",
    "\n",
    "new_train_data$pickup_week <- week(new_train_data$pickup_datetime)\n",
    "new_train_data$pickup_weekdays <- wday(new_train_data$pickup_datetime)\n",
    "new_train_data$pickup_weekend <- ifelse(new_train_data$pickup_weekdays==6 | new_train_data$pickup_weekdays==7,\n",
    "                               \"Weekend\",\"not-Weekend\")\n",
    "\n",
    "new_train_data$pickup_weekend <- as.factor(new_train_data$pickup_weekend)\n",
    "print(str(new_train_data))\n",
    "print(summary(new_train_data$pickup_weekend))\n"
   ]
  },
  {
   "cell_type": "code",
   "execution_count": 27,
   "metadata": {},
   "outputs": [
    {
     "data": {
      "text/html": [
       "<table>\n",
       "<caption>A tibble: 6 × 19</caption>\n",
       "<thead>\n",
       "\t<tr><th scope=col>id</th><th scope=col>vendor_id</th><th scope=col>pickup_datetime</th><th scope=col>dropoff_datetime</th><th scope=col>passenger_count</th><th scope=col>pickup_longitude</th><th scope=col>pickup_latitude</th><th scope=col>dropoff_longitude</th><th scope=col>dropoff_latitude</th><th scope=col>store_and_fwd_flag</th><th scope=col>trip_duration</th><th scope=col>distance</th><th scope=col>pickup_month</th><th scope=col>pickup_day</th><th scope=col>pickup_hour</th><th scope=col>pickup_minutes</th><th scope=col>pickup_week</th><th scope=col>pickup_weekdays</th><th scope=col>pickup_weekend</th></tr>\n",
       "\t<tr><th scope=col>&lt;fct&gt;</th><th scope=col>&lt;int&gt;</th><th scope=col>&lt;dttm&gt;</th><th scope=col>&lt;dttm&gt;</th><th scope=col>&lt;int&gt;</th><th scope=col>&lt;dbl&gt;</th><th scope=col>&lt;dbl&gt;</th><th scope=col>&lt;dbl&gt;</th><th scope=col>&lt;dbl&gt;</th><th scope=col>&lt;dbl&gt;</th><th scope=col>&lt;fct&gt;</th><th scope=col>&lt;dbl&gt;</th><th scope=col>&lt;int&gt;</th><th scope=col>&lt;int&gt;</th><th scope=col>&lt;int&gt;</th><th scope=col>&lt;int&gt;</th><th scope=col>&lt;int&gt;</th><th scope=col>&lt;int&gt;</th><th scope=col>&lt;fct&gt;</th></tr>\n",
       "</thead>\n",
       "<tbody>\n",
       "\t<tr><td>id2826034</td><td>1</td><td>2016-06-09 08:28:09</td><td>2016-06-09 08:45:23</td><td>1</td><td>-73.99175</td><td>40.74547</td><td>-73.97902</td><td>40.76099</td><td>1</td><td>Short Trip</td><td>2034.3679</td><td>6</td><td> 9</td><td> 8</td><td>28</td><td>24</td><td>5</td><td>not-Weekend</td></tr>\n",
       "\t<tr><td>id0486626</td><td>1</td><td>2016-04-04 13:25:16</td><td>2016-04-04 13:32:18</td><td>4</td><td>-73.98820</td><td>40.74594</td><td>-74.00010</td><td>40.73305</td><td>1</td><td>Short Trip</td><td>1751.1668</td><td>4</td><td> 4</td><td>13</td><td>25</td><td>14</td><td>2</td><td>not-Weekend</td></tr>\n",
       "\t<tr><td>id3953928</td><td>2</td><td>2016-02-19 00:51:25</td><td>2016-02-19 00:52:58</td><td>1</td><td>-73.96552</td><td>40.80609</td><td>-73.96155</td><td>40.80202</td><td>1</td><td>Short Trip</td><td> 563.4582</td><td>2</td><td>19</td><td> 0</td><td>51</td><td> 8</td><td>6</td><td>Weekend    </td></tr>\n",
       "\t<tr><td>id3925513</td><td>2</td><td>2016-04-11 17:48:22</td><td>2016-04-11 18:13:40</td><td>1</td><td>-73.97545</td><td>40.75371</td><td>-73.97767</td><td>40.77701</td><td>1</td><td>Short Trip</td><td>2600.5088</td><td>4</td><td>11</td><td>17</td><td>48</td><td>15</td><td>2</td><td>not-Weekend</td></tr>\n",
       "\t<tr><td>id3176117</td><td>1</td><td>2016-02-13 13:48:27</td><td>2016-02-13 13:57:19</td><td>1</td><td>-73.95798</td><td>40.78236</td><td>-73.96026</td><td>40.76311</td><td>1</td><td>Short Trip</td><td>2151.7627</td><td>2</td><td>13</td><td>13</td><td>48</td><td> 7</td><td>7</td><td>Weekend    </td></tr>\n",
       "\t<tr><td>id1997857</td><td>1</td><td>2016-04-12 22:26:39</td><td>2016-04-12 22:31:42</td><td>1</td><td>-73.95249</td><td>40.78394</td><td>-73.94897</td><td>40.77415</td><td>1</td><td>Short Trip</td><td>1130.2542</td><td>4</td><td>12</td><td>22</td><td>26</td><td>15</td><td>3</td><td>not-Weekend</td></tr>\n",
       "</tbody>\n",
       "</table>\n"
      ],
      "text/latex": [
       "A tibble: 6 × 19\n",
       "\\begin{tabular}{lllllllllllllllllll}\n",
       " id & vendor\\_id & pickup\\_datetime & dropoff\\_datetime & passenger\\_count & pickup\\_longitude & pickup\\_latitude & dropoff\\_longitude & dropoff\\_latitude & store\\_and\\_fwd\\_flag & trip\\_duration & distance & pickup\\_month & pickup\\_day & pickup\\_hour & pickup\\_minutes & pickup\\_week & pickup\\_weekdays & pickup\\_weekend\\\\\n",
       " <fct> & <int> & <dttm> & <dttm> & <int> & <dbl> & <dbl> & <dbl> & <dbl> & <dbl> & <fct> & <dbl> & <int> & <int> & <int> & <int> & <int> & <int> & <fct>\\\\\n",
       "\\hline\n",
       "\t id2826034 & 1 & 2016-06-09 08:28:09 & 2016-06-09 08:45:23 & 1 & -73.99175 & 40.74547 & -73.97902 & 40.76099 & 1 & Short Trip & 2034.3679 & 6 &  9 &  8 & 28 & 24 & 5 & not-Weekend\\\\\n",
       "\t id0486626 & 1 & 2016-04-04 13:25:16 & 2016-04-04 13:32:18 & 4 & -73.98820 & 40.74594 & -74.00010 & 40.73305 & 1 & Short Trip & 1751.1668 & 4 &  4 & 13 & 25 & 14 & 2 & not-Weekend\\\\\n",
       "\t id3953928 & 2 & 2016-02-19 00:51:25 & 2016-02-19 00:52:58 & 1 & -73.96552 & 40.80609 & -73.96155 & 40.80202 & 1 & Short Trip &  563.4582 & 2 & 19 &  0 & 51 &  8 & 6 & Weekend    \\\\\n",
       "\t id3925513 & 2 & 2016-04-11 17:48:22 & 2016-04-11 18:13:40 & 1 & -73.97545 & 40.75371 & -73.97767 & 40.77701 & 1 & Short Trip & 2600.5088 & 4 & 11 & 17 & 48 & 15 & 2 & not-Weekend\\\\\n",
       "\t id3176117 & 1 & 2016-02-13 13:48:27 & 2016-02-13 13:57:19 & 1 & -73.95798 & 40.78236 & -73.96026 & 40.76311 & 1 & Short Trip & 2151.7627 & 2 & 13 & 13 & 48 &  7 & 7 & Weekend    \\\\\n",
       "\t id1997857 & 1 & 2016-04-12 22:26:39 & 2016-04-12 22:31:42 & 1 & -73.95249 & 40.78394 & -73.94897 & 40.77415 & 1 & Short Trip & 1130.2542 & 4 & 12 & 22 & 26 & 15 & 3 & not-Weekend\\\\\n",
       "\\end{tabular}\n"
      ],
      "text/markdown": [
       "\n",
       "A tibble: 6 × 19\n",
       "\n",
       "| id &lt;fct&gt; | vendor_id &lt;int&gt; | pickup_datetime &lt;dttm&gt; | dropoff_datetime &lt;dttm&gt; | passenger_count &lt;int&gt; | pickup_longitude &lt;dbl&gt; | pickup_latitude &lt;dbl&gt; | dropoff_longitude &lt;dbl&gt; | dropoff_latitude &lt;dbl&gt; | store_and_fwd_flag &lt;dbl&gt; | trip_duration &lt;fct&gt; | distance &lt;dbl&gt; | pickup_month &lt;int&gt; | pickup_day &lt;int&gt; | pickup_hour &lt;int&gt; | pickup_minutes &lt;int&gt; | pickup_week &lt;int&gt; | pickup_weekdays &lt;int&gt; | pickup_weekend &lt;fct&gt; |\n",
       "|---|---|---|---|---|---|---|---|---|---|---|---|---|---|---|---|---|---|---|\n",
       "| id2826034 | 1 | 2016-06-09 08:28:09 | 2016-06-09 08:45:23 | 1 | -73.99175 | 40.74547 | -73.97902 | 40.76099 | 1 | Short Trip | 2034.3679 | 6 |  9 |  8 | 28 | 24 | 5 | not-Weekend |\n",
       "| id0486626 | 1 | 2016-04-04 13:25:16 | 2016-04-04 13:32:18 | 4 | -73.98820 | 40.74594 | -74.00010 | 40.73305 | 1 | Short Trip | 1751.1668 | 4 |  4 | 13 | 25 | 14 | 2 | not-Weekend |\n",
       "| id3953928 | 2 | 2016-02-19 00:51:25 | 2016-02-19 00:52:58 | 1 | -73.96552 | 40.80609 | -73.96155 | 40.80202 | 1 | Short Trip |  563.4582 | 2 | 19 |  0 | 51 |  8 | 6 | Weekend     |\n",
       "| id3925513 | 2 | 2016-04-11 17:48:22 | 2016-04-11 18:13:40 | 1 | -73.97545 | 40.75371 | -73.97767 | 40.77701 | 1 | Short Trip | 2600.5088 | 4 | 11 | 17 | 48 | 15 | 2 | not-Weekend |\n",
       "| id3176117 | 1 | 2016-02-13 13:48:27 | 2016-02-13 13:57:19 | 1 | -73.95798 | 40.78236 | -73.96026 | 40.76311 | 1 | Short Trip | 2151.7627 | 2 | 13 | 13 | 48 |  7 | 7 | Weekend     |\n",
       "| id1997857 | 1 | 2016-04-12 22:26:39 | 2016-04-12 22:31:42 | 1 | -73.95249 | 40.78394 | -73.94897 | 40.77415 | 1 | Short Trip | 1130.2542 | 4 | 12 | 22 | 26 | 15 | 3 | not-Weekend |\n",
       "\n"
      ],
      "text/plain": [
       "  id        vendor_id pickup_datetime     dropoff_datetime    passenger_count\n",
       "1 id2826034 1         2016-06-09 08:28:09 2016-06-09 08:45:23 1              \n",
       "2 id0486626 1         2016-04-04 13:25:16 2016-04-04 13:32:18 4              \n",
       "3 id3953928 2         2016-02-19 00:51:25 2016-02-19 00:52:58 1              \n",
       "4 id3925513 2         2016-04-11 17:48:22 2016-04-11 18:13:40 1              \n",
       "5 id3176117 1         2016-02-13 13:48:27 2016-02-13 13:57:19 1              \n",
       "6 id1997857 1         2016-04-12 22:26:39 2016-04-12 22:31:42 1              \n",
       "  pickup_longitude pickup_latitude dropoff_longitude dropoff_latitude\n",
       "1 -73.99175        40.74547        -73.97902         40.76099        \n",
       "2 -73.98820        40.74594        -74.00010         40.73305        \n",
       "3 -73.96552        40.80609        -73.96155         40.80202        \n",
       "4 -73.97545        40.75371        -73.97767         40.77701        \n",
       "5 -73.95798        40.78236        -73.96026         40.76311        \n",
       "6 -73.95249        40.78394        -73.94897         40.77415        \n",
       "  store_and_fwd_flag trip_duration distance  pickup_month pickup_day\n",
       "1 1                  Short Trip    2034.3679 6             9        \n",
       "2 1                  Short Trip    1751.1668 4             4        \n",
       "3 1                  Short Trip     563.4582 2            19        \n",
       "4 1                  Short Trip    2600.5088 4            11        \n",
       "5 1                  Short Trip    2151.7627 2            13        \n",
       "6 1                  Short Trip    1130.2542 4            12        \n",
       "  pickup_hour pickup_minutes pickup_week pickup_weekdays pickup_weekend\n",
       "1  8          28             24          5               not-Weekend   \n",
       "2 13          25             14          2               not-Weekend   \n",
       "3  0          51              8          6               Weekend       \n",
       "4 17          48             15          2               not-Weekend   \n",
       "5 13          48              7          7               Weekend       \n",
       "6 22          26             15          3               not-Weekend   "
      ]
     },
     "metadata": {},
     "output_type": "display_data"
    }
   ],
   "source": [
    "head(new_train_data)"
   ]
  },
  {
   "cell_type": "code",
   "execution_count": 28,
   "metadata": {},
   "outputs": [],
   "source": [
    "# install.packages('RColorBrewer')\n",
    "library(RColorBrewer)"
   ]
  },
  {
   "cell_type": "code",
   "execution_count": 29,
   "metadata": {},
   "outputs": [
    {
     "data": {
      "image/png": "[encoded data removed]",
      "text/plain": [
       "plot without title"
      ]
     },
     "metadata": {},
     "output_type": "display_data"
    }
   ],
   "source": [
    "# 'Number of Pickup' in 24-Hours\n",
    "num_pickup_24 <- new_train_data %>%\n",
    "  group_by(pickup_hour) %>%\n",
    "  count()\n",
    "\n",
    "options(repr.plot.width = 3, repr.plot.height = 2.5)\n",
    "num_pickup_24 %>%\n",
    "  ggplot(aes(x=pickup_hour, y=n)) +\n",
    "  geom_col(aes(fill = factor(pickup_hour))) +\n",
    "  ggtitle(\"No. of Pick Up During 24-Hours\") +\n",
    "  xlab(\"Hours of a Day\") +\n",
    "  ylab(\"No. of Pickups\") +\n",
    "  theme(legend.position = \"none\") +\n",
    "  scale_color_brewer(palette=\"Dark1\")\n"
   ]
  },
  {
   "cell_type": "code",
   "execution_count": 30,
   "metadata": {
    "scrolled": false
   },
   "outputs": [
    {
     "data": {
      "image/png": "[encoded data removed]",
      "text/plain": [
       "plot without title"
      ]
     },
     "metadata": {},
     "output_type": "display_data"
    }
   ],
   "source": [
    "##### 'pickup_datetime' feature\n",
    "num_pickup_24hours_day <- new_train_data %>%\n",
    "  group_by(pickup_hour, pickup_weekdays) %>%\n",
    "  count()\n",
    "\n",
    "options(repr.plot.width = 6, repr.plot.height = 3)\n",
    "num_pickup_24hours_day %>% ggplot(aes(x=pickup_hour, y=n, color= pickup_weekdays)) +\n",
    "  geom_point(size=1, aes(color = factor(pickup_weekdays))) +\n",
    "  ggtitle(\"Pick Up Hours by Day\") +\n",
    "  xlab(\"Hours of a Day\") +\n",
    "  ylab(\"No. of pick up\") +\n",
    "  scale_color_brewer(palette=\"Dark2\")\n",
    "\n",
    "## Sunday is '1'"
   ]
  },
  {
   "cell_type": "code",
   "execution_count": 31,
   "metadata": {},
   "outputs": [
    {
     "data": {
      "image/png": "[encoded data removed]",
      "text/plain": [
       "plot without title"
      ]
     },
     "metadata": {},
     "output_type": "display_data"
    }
   ],
   "source": [
    "num_pickup_24hours_month <- new_train_data %>%\n",
    "  group_by(pickup_hour, pickup_month) %>%\n",
    "  count()\n",
    "\n",
    "options(repr.plot.width = 6, repr.plot.height = 3)\n",
    "num_pickup_24hours_month %>% ggplot(aes(x=pickup_hour, y=n, color=pickup_month)) +\n",
    "  geom_point(size=1, aes(color = factor(pickup_month))) +\n",
    "  ggtitle(\"Pick Up Hours by Month\") +\n",
    "  xlab(\"Hours of a Day\") +\n",
    "  ylab(\"No. of pick up\") + \n",
    "  scale_color_brewer(palette=\"Dark2\")\n"
   ]
  },
  {
   "cell_type": "code",
   "execution_count": 32,
   "metadata": {},
   "outputs": [
    {
     "data": {
      "image/png": "[encoded data removed]",
      "text/plain": [
       "plot without title"
      ]
     },
     "metadata": {},
     "output_type": "display_data"
    }
   ],
   "source": [
    "## Realtionship between distance vs. passenger count\n",
    "# This is important--> By intuition distance should increase with passenger count\n",
    "\n",
    "ggplot(new_train_data, aes(distance, passenger_count)) + \n",
    "geom_col(aes(fill = factor(passenger_count))) +\n",
    "ggtitle(\"No. of Pick Up During 24-Hours\") +\n",
    "  xlab(\"Distance in meters\") +\n",
    "  ylab(\"Passenger Count\") +\n",
    "  theme(legend.position = \"none\") "
   ]
  },
  {
   "cell_type": "code",
   "execution_count": null,
   "metadata": {},
   "outputs": [],
   "source": []
  },
  {
   "cell_type": "code",
   "execution_count": 33,
   "metadata": {},
   "outputs": [
    {
     "data": {
      "image/png": "[encoded data removed]",
      "text/plain": [
       "plot without title"
      ]
     },
     "metadata": {},
     "output_type": "display_data"
    }
   ],
   "source": [
    "## Visualization after changing time format \"pickup_datetime\", \"dropoff_datetime\"\n",
    "\n",
    "## Relationship between \"pickup_datetime\", \"dropoff_datetime\" with 'trip_duration'\n",
    "options(repr.plot.width = 6, repr.plot.height = 5)\n",
    "b1 <- ggplot(data = new_train_data,\n",
    "             aes(x=trip_duration, y=pickup_hour,\n",
    "                 fill=trip_duration)) +\n",
    "  geom_boxplot() +\n",
    "  ggtitle(\"Trip Duration for 24-Hours\") +\n",
    "  xlab(\"Trip Duration Class\") +\n",
    "  ylab(\"Hours of the Day\") +\n",
    "  theme(legend.position=\"none\")\n",
    "\n",
    "b2 <- ggplot(data = new_train_data,\n",
    "             aes(x=trip_duration, y=pickup_day,\n",
    "                 fill=trip_duration)) +\n",
    "  geom_boxplot() +\n",
    "  ggtitle(\"Trip Duration for Day\") +\n",
    "  xlab(\"Trip Duration Class\") +\n",
    "  ylab(\"Day\") +\n",
    "  theme(legend.position=\"none\")\n",
    "\n",
    "b3 <- ggplot(data = new_train_data,\n",
    "             aes(x=trip_duration, y=pickup_month,\n",
    "                 fill=trip_duration)) +\n",
    "  geom_boxplot() +\n",
    "  ggtitle(\"Trip Duration for Month\") +\n",
    "  xlab(\"Trip Duration Class\") +\n",
    "  ylab(\"6-Months\") +\n",
    "  theme(legend.position=\"none\")\n",
    "\n",
    "grid.arrange(b1, b2, b3, ncol=2)"
   ]
  },
  {
   "cell_type": "code",
   "execution_count": 34,
   "metadata": {},
   "outputs": [
    {
     "data": {
      "text/html": [
       "<table>\n",
       "<caption>A tibble: 6 × 19</caption>\n",
       "<thead>\n",
       "\t<tr><th scope=col>id</th><th scope=col>vendor_id</th><th scope=col>pickup_datetime</th><th scope=col>dropoff_datetime</th><th scope=col>passenger_count</th><th scope=col>pickup_longitude</th><th scope=col>pickup_latitude</th><th scope=col>dropoff_longitude</th><th scope=col>dropoff_latitude</th><th scope=col>store_and_fwd_flag</th><th scope=col>trip_duration</th><th scope=col>distance</th><th scope=col>pickup_month</th><th scope=col>pickup_day</th><th scope=col>pickup_hour</th><th scope=col>pickup_minutes</th><th scope=col>pickup_week</th><th scope=col>pickup_weekdays</th><th scope=col>pickup_weekend</th></tr>\n",
       "\t<tr><th scope=col>&lt;fct&gt;</th><th scope=col>&lt;int&gt;</th><th scope=col>&lt;dttm&gt;</th><th scope=col>&lt;dttm&gt;</th><th scope=col>&lt;int&gt;</th><th scope=col>&lt;dbl&gt;</th><th scope=col>&lt;dbl&gt;</th><th scope=col>&lt;dbl&gt;</th><th scope=col>&lt;dbl&gt;</th><th scope=col>&lt;dbl&gt;</th><th scope=col>&lt;fct&gt;</th><th scope=col>&lt;dbl&gt;</th><th scope=col>&lt;int&gt;</th><th scope=col>&lt;int&gt;</th><th scope=col>&lt;int&gt;</th><th scope=col>&lt;int&gt;</th><th scope=col>&lt;int&gt;</th><th scope=col>&lt;int&gt;</th><th scope=col>&lt;fct&gt;</th></tr>\n",
       "</thead>\n",
       "<tbody>\n",
       "\t<tr><td>id2826034</td><td>1</td><td>2016-06-09 08:28:09</td><td>2016-06-09 08:45:23</td><td>1</td><td>-73.99175</td><td>40.74547</td><td>-73.97902</td><td>40.76099</td><td>1</td><td>Short Trip</td><td>2034.3679</td><td>6</td><td> 9</td><td> 8</td><td>28</td><td>24</td><td>5</td><td>not-Weekend</td></tr>\n",
       "\t<tr><td>id0486626</td><td>1</td><td>2016-04-04 13:25:16</td><td>2016-04-04 13:32:18</td><td>4</td><td>-73.98820</td><td>40.74594</td><td>-74.00010</td><td>40.73305</td><td>1</td><td>Short Trip</td><td>1751.1668</td><td>4</td><td> 4</td><td>13</td><td>25</td><td>14</td><td>2</td><td>not-Weekend</td></tr>\n",
       "\t<tr><td>id3953928</td><td>2</td><td>2016-02-19 00:51:25</td><td>2016-02-19 00:52:58</td><td>1</td><td>-73.96552</td><td>40.80609</td><td>-73.96155</td><td>40.80202</td><td>1</td><td>Short Trip</td><td> 563.4582</td><td>2</td><td>19</td><td> 0</td><td>51</td><td> 8</td><td>6</td><td>Weekend    </td></tr>\n",
       "\t<tr><td>id3925513</td><td>2</td><td>2016-04-11 17:48:22</td><td>2016-04-11 18:13:40</td><td>1</td><td>-73.97545</td><td>40.75371</td><td>-73.97767</td><td>40.77701</td><td>1</td><td>Short Trip</td><td>2600.5088</td><td>4</td><td>11</td><td>17</td><td>48</td><td>15</td><td>2</td><td>not-Weekend</td></tr>\n",
       "\t<tr><td>id3176117</td><td>1</td><td>2016-02-13 13:48:27</td><td>2016-02-13 13:57:19</td><td>1</td><td>-73.95798</td><td>40.78236</td><td>-73.96026</td><td>40.76311</td><td>1</td><td>Short Trip</td><td>2151.7627</td><td>2</td><td>13</td><td>13</td><td>48</td><td> 7</td><td>7</td><td>Weekend    </td></tr>\n",
       "\t<tr><td>id1997857</td><td>1</td><td>2016-04-12 22:26:39</td><td>2016-04-12 22:31:42</td><td>1</td><td>-73.95249</td><td>40.78394</td><td>-73.94897</td><td>40.77415</td><td>1</td><td>Short Trip</td><td>1130.2542</td><td>4</td><td>12</td><td>22</td><td>26</td><td>15</td><td>3</td><td>not-Weekend</td></tr>\n",
       "</tbody>\n",
       "</table>\n"
      ],
      "text/latex": [
       "A tibble: 6 × 19\n",
       "\\begin{tabular}{lllllllllllllllllll}\n",
       " id & vendor\\_id & pickup\\_datetime & dropoff\\_datetime & passenger\\_count & pickup\\_longitude & pickup\\_latitude & dropoff\\_longitude & dropoff\\_latitude & store\\_and\\_fwd\\_flag & trip\\_duration & distance & pickup\\_month & pickup\\_day & pickup\\_hour & pickup\\_minutes & pickup\\_week & pickup\\_weekdays & pickup\\_weekend\\\\\n",
       " <fct> & <int> & <dttm> & <dttm> & <int> & <dbl> & <dbl> & <dbl> & <dbl> & <dbl> & <fct> & <dbl> & <int> & <int> & <int> & <int> & <int> & <int> & <fct>\\\\\n",
       "\\hline\n",
       "\t id2826034 & 1 & 2016-06-09 08:28:09 & 2016-06-09 08:45:23 & 1 & -73.99175 & 40.74547 & -73.97902 & 40.76099 & 1 & Short Trip & 2034.3679 & 6 &  9 &  8 & 28 & 24 & 5 & not-Weekend\\\\\n",
       "\t id0486626 & 1 & 2016-04-04 13:25:16 & 2016-04-04 13:32:18 & 4 & -73.98820 & 40.74594 & -74.00010 & 40.73305 & 1 & Short Trip & 1751.1668 & 4 &  4 & 13 & 25 & 14 & 2 & not-Weekend\\\\\n",
       "\t id3953928 & 2 & 2016-02-19 00:51:25 & 2016-02-19 00:52:58 & 1 & -73.96552 & 40.80609 & -73.96155 & 40.80202 & 1 & Short Trip &  563.4582 & 2 & 19 &  0 & 51 &  8 & 6 & Weekend    \\\\\n",
       "\t id3925513 & 2 & 2016-04-11 17:48:22 & 2016-04-11 18:13:40 & 1 & -73.97545 & 40.75371 & -73.97767 & 40.77701 & 1 & Short Trip & 2600.5088 & 4 & 11 & 17 & 48 & 15 & 2 & not-Weekend\\\\\n",
       "\t id3176117 & 1 & 2016-02-13 13:48:27 & 2016-02-13 13:57:19 & 1 & -73.95798 & 40.78236 & -73.96026 & 40.76311 & 1 & Short Trip & 2151.7627 & 2 & 13 & 13 & 48 &  7 & 7 & Weekend    \\\\\n",
       "\t id1997857 & 1 & 2016-04-12 22:26:39 & 2016-04-12 22:31:42 & 1 & -73.95249 & 40.78394 & -73.94897 & 40.77415 & 1 & Short Trip & 1130.2542 & 4 & 12 & 22 & 26 & 15 & 3 & not-Weekend\\\\\n",
       "\\end{tabular}\n"
      ],
      "text/markdown": [
       "\n",
       "A tibble: 6 × 19\n",
       "\n",
       "| id &lt;fct&gt; | vendor_id &lt;int&gt; | pickup_datetime &lt;dttm&gt; | dropoff_datetime &lt;dttm&gt; | passenger_count &lt;int&gt; | pickup_longitude &lt;dbl&gt; | pickup_latitude &lt;dbl&gt; | dropoff_longitude &lt;dbl&gt; | dropoff_latitude &lt;dbl&gt; | store_and_fwd_flag &lt;dbl&gt; | trip_duration &lt;fct&gt; | distance &lt;dbl&gt; | pickup_month &lt;int&gt; | pickup_day &lt;int&gt; | pickup_hour &lt;int&gt; | pickup_minutes &lt;int&gt; | pickup_week &lt;int&gt; | pickup_weekdays &lt;int&gt; | pickup_weekend &lt;fct&gt; |\n",
       "|---|---|---|---|---|---|---|---|---|---|---|---|---|---|---|---|---|---|---|\n",
       "| id2826034 | 1 | 2016-06-09 08:28:09 | 2016-06-09 08:45:23 | 1 | -73.99175 | 40.74547 | -73.97902 | 40.76099 | 1 | Short Trip | 2034.3679 | 6 |  9 |  8 | 28 | 24 | 5 | not-Weekend |\n",
       "| id0486626 | 1 | 2016-04-04 13:25:16 | 2016-04-04 13:32:18 | 4 | -73.98820 | 40.74594 | -74.00010 | 40.73305 | 1 | Short Trip | 1751.1668 | 4 |  4 | 13 | 25 | 14 | 2 | not-Weekend |\n",
       "| id3953928 | 2 | 2016-02-19 00:51:25 | 2016-02-19 00:52:58 | 1 | -73.96552 | 40.80609 | -73.96155 | 40.80202 | 1 | Short Trip |  563.4582 | 2 | 19 |  0 | 51 |  8 | 6 | Weekend     |\n",
       "| id3925513 | 2 | 2016-04-11 17:48:22 | 2016-04-11 18:13:40 | 1 | -73.97545 | 40.75371 | -73.97767 | 40.77701 | 1 | Short Trip | 2600.5088 | 4 | 11 | 17 | 48 | 15 | 2 | not-Weekend |\n",
       "| id3176117 | 1 | 2016-02-13 13:48:27 | 2016-02-13 13:57:19 | 1 | -73.95798 | 40.78236 | -73.96026 | 40.76311 | 1 | Short Trip | 2151.7627 | 2 | 13 | 13 | 48 |  7 | 7 | Weekend     |\n",
       "| id1997857 | 1 | 2016-04-12 22:26:39 | 2016-04-12 22:31:42 | 1 | -73.95249 | 40.78394 | -73.94897 | 40.77415 | 1 | Short Trip | 1130.2542 | 4 | 12 | 22 | 26 | 15 | 3 | not-Weekend |\n",
       "\n"
      ],
      "text/plain": [
       "  id        vendor_id pickup_datetime     dropoff_datetime    passenger_count\n",
       "1 id2826034 1         2016-06-09 08:28:09 2016-06-09 08:45:23 1              \n",
       "2 id0486626 1         2016-04-04 13:25:16 2016-04-04 13:32:18 4              \n",
       "3 id3953928 2         2016-02-19 00:51:25 2016-02-19 00:52:58 1              \n",
       "4 id3925513 2         2016-04-11 17:48:22 2016-04-11 18:13:40 1              \n",
       "5 id3176117 1         2016-02-13 13:48:27 2016-02-13 13:57:19 1              \n",
       "6 id1997857 1         2016-04-12 22:26:39 2016-04-12 22:31:42 1              \n",
       "  pickup_longitude pickup_latitude dropoff_longitude dropoff_latitude\n",
       "1 -73.99175        40.74547        -73.97902         40.76099        \n",
       "2 -73.98820        40.74594        -74.00010         40.73305        \n",
       "3 -73.96552        40.80609        -73.96155         40.80202        \n",
       "4 -73.97545        40.75371        -73.97767         40.77701        \n",
       "5 -73.95798        40.78236        -73.96026         40.76311        \n",
       "6 -73.95249        40.78394        -73.94897         40.77415        \n",
       "  store_and_fwd_flag trip_duration distance  pickup_month pickup_day\n",
       "1 1                  Short Trip    2034.3679 6             9        \n",
       "2 1                  Short Trip    1751.1668 4             4        \n",
       "3 1                  Short Trip     563.4582 2            19        \n",
       "4 1                  Short Trip    2600.5088 4            11        \n",
       "5 1                  Short Trip    2151.7627 2            13        \n",
       "6 1                  Short Trip    1130.2542 4            12        \n",
       "  pickup_hour pickup_minutes pickup_week pickup_weekdays pickup_weekend\n",
       "1  8          28             24          5               not-Weekend   \n",
       "2 13          25             14          2               not-Weekend   \n",
       "3  0          51              8          6               Weekend       \n",
       "4 17          48             15          2               not-Weekend   \n",
       "5 13          48              7          7               Weekend       \n",
       "6 22          26             15          3               not-Weekend   "
      ]
     },
     "metadata": {},
     "output_type": "display_data"
    }
   ],
   "source": [
    "head(new_train_data)"
   ]
  },
  {
   "cell_type": "code",
   "execution_count": 35,
   "metadata": {},
   "outputs": [
    {
     "data": {
      "text/html": [
       "<style>\n",
       ".list-inline {list-style: none; margin:0; padding: 0}\n",
       ".list-inline>li {display: inline-block}\n",
       ".list-inline>li:not(:last-child)::after {content: \"\\00b7\"; padding: 0 .5ex}\n",
       "</style>\n",
       "<ol class=list-inline><li>'id'</li><li>'vendor_id'</li><li>'pickup_datetime'</li><li>'dropoff_datetime'</li><li>'passenger_count'</li><li>'pickup_longitude'</li><li>'pickup_latitude'</li><li>'dropoff_longitude'</li><li>'dropoff_latitude'</li><li>'store_and_fwd_flag'</li><li>'trip_duration'</li><li>'distance'</li><li>'pickup_month'</li><li>'pickup_day'</li><li>'pickup_hour'</li><li>'pickup_minutes'</li><li>'pickup_week'</li><li>'pickup_weekdays'</li><li>'pickup_weekend'</li></ol>\n"
      ],
      "text/latex": [
       "\\begin{enumerate*}\n",
       "\\item 'id'\n",
       "\\item 'vendor\\_id'\n",
       "\\item 'pickup\\_datetime'\n",
       "\\item 'dropoff\\_datetime'\n",
       "\\item 'passenger\\_count'\n",
       "\\item 'pickup\\_longitude'\n",
       "\\item 'pickup\\_latitude'\n",
       "\\item 'dropoff\\_longitude'\n",
       "\\item 'dropoff\\_latitude'\n",
       "\\item 'store\\_and\\_fwd\\_flag'\n",
       "\\item 'trip\\_duration'\n",
       "\\item 'distance'\n",
       "\\item 'pickup\\_month'\n",
       "\\item 'pickup\\_day'\n",
       "\\item 'pickup\\_hour'\n",
       "\\item 'pickup\\_minutes'\n",
       "\\item 'pickup\\_week'\n",
       "\\item 'pickup\\_weekdays'\n",
       "\\item 'pickup\\_weekend'\n",
       "\\end{enumerate*}\n"
      ],
      "text/markdown": [
       "1. 'id'\n",
       "2. 'vendor_id'\n",
       "3. 'pickup_datetime'\n",
       "4. 'dropoff_datetime'\n",
       "5. 'passenger_count'\n",
       "6. 'pickup_longitude'\n",
       "7. 'pickup_latitude'\n",
       "8. 'dropoff_longitude'\n",
       "9. 'dropoff_latitude'\n",
       "10. 'store_and_fwd_flag'\n",
       "11. 'trip_duration'\n",
       "12. 'distance'\n",
       "13. 'pickup_month'\n",
       "14. 'pickup_day'\n",
       "15. 'pickup_hour'\n",
       "16. 'pickup_minutes'\n",
       "17. 'pickup_week'\n",
       "18. 'pickup_weekdays'\n",
       "19. 'pickup_weekend'\n",
       "\n",
       "\n"
      ],
      "text/plain": [
       " [1] \"id\"                 \"vendor_id\"          \"pickup_datetime\"   \n",
       " [4] \"dropoff_datetime\"   \"passenger_count\"    \"pickup_longitude\"  \n",
       " [7] \"pickup_latitude\"    \"dropoff_longitude\"  \"dropoff_latitude\"  \n",
       "[10] \"store_and_fwd_flag\" \"trip_duration\"      \"distance\"          \n",
       "[13] \"pickup_month\"       \"pickup_day\"         \"pickup_hour\"       \n",
       "[16] \"pickup_minutes\"     \"pickup_week\"        \"pickup_weekdays\"   \n",
       "[19] \"pickup_weekend\"    "
      ]
     },
     "metadata": {},
     "output_type": "display_data"
    }
   ],
   "source": [
    "colnames(new_train_data)"
   ]
  },
  {
   "cell_type": "code",
   "execution_count": 36,
   "metadata": {},
   "outputs": [
    {
     "name": "stdout",
     "output_type": "stream",
     "text": [
      "\n",
      " After Removal of irrelevant attributes: \n",
      " [1] \"vendor_id\"       \"passenger_count\" \"trip_duration\"   \"distance\"       \n",
      " [5] \"pickup_month\"    \"pickup_day\"      \"pickup_hour\"     \"pickup_minutes\" \n",
      " [9] \"pickup_week\"     \"pickup_weekdays\"\n"
     ]
    },
    {
     "data": {
      "text/html": [
       "<table>\n",
       "<caption>A tibble: 6 × 10</caption>\n",
       "<thead>\n",
       "\t<tr><th scope=col>vendor_id</th><th scope=col>passenger_count</th><th scope=col>trip_duration</th><th scope=col>distance</th><th scope=col>pickup_month</th><th scope=col>pickup_day</th><th scope=col>pickup_hour</th><th scope=col>pickup_minutes</th><th scope=col>pickup_week</th><th scope=col>pickup_weekdays</th></tr>\n",
       "\t<tr><th scope=col>&lt;int&gt;</th><th scope=col>&lt;int&gt;</th><th scope=col>&lt;fct&gt;</th><th scope=col>&lt;dbl&gt;</th><th scope=col>&lt;int&gt;</th><th scope=col>&lt;int&gt;</th><th scope=col>&lt;int&gt;</th><th scope=col>&lt;int&gt;</th><th scope=col>&lt;int&gt;</th><th scope=col>&lt;int&gt;</th></tr>\n",
       "</thead>\n",
       "<tbody>\n",
       "\t<tr><td>1</td><td>1</td><td>Short Trip</td><td>2034.3679</td><td>6</td><td> 9</td><td> 8</td><td>28</td><td>24</td><td>5</td></tr>\n",
       "\t<tr><td>1</td><td>4</td><td>Short Trip</td><td>1751.1668</td><td>4</td><td> 4</td><td>13</td><td>25</td><td>14</td><td>2</td></tr>\n",
       "\t<tr><td>2</td><td>1</td><td>Short Trip</td><td> 563.4582</td><td>2</td><td>19</td><td> 0</td><td>51</td><td> 8</td><td>6</td></tr>\n",
       "\t<tr><td>2</td><td>1</td><td>Short Trip</td><td>2600.5088</td><td>4</td><td>11</td><td>17</td><td>48</td><td>15</td><td>2</td></tr>\n",
       "\t<tr><td>1</td><td>1</td><td>Short Trip</td><td>2151.7627</td><td>2</td><td>13</td><td>13</td><td>48</td><td> 7</td><td>7</td></tr>\n",
       "\t<tr><td>1</td><td>1</td><td>Short Trip</td><td>1130.2542</td><td>4</td><td>12</td><td>22</td><td>26</td><td>15</td><td>3</td></tr>\n",
       "</tbody>\n",
       "</table>\n"
      ],
      "text/latex": [
       "A tibble: 6 × 10\n",
       "\\begin{tabular}{llllllllll}\n",
       " vendor\\_id & passenger\\_count & trip\\_duration & distance & pickup\\_month & pickup\\_day & pickup\\_hour & pickup\\_minutes & pickup\\_week & pickup\\_weekdays\\\\\n",
       " <int> & <int> & <fct> & <dbl> & <int> & <int> & <int> & <int> & <int> & <int>\\\\\n",
       "\\hline\n",
       "\t 1 & 1 & Short Trip & 2034.3679 & 6 &  9 &  8 & 28 & 24 & 5\\\\\n",
       "\t 1 & 4 & Short Trip & 1751.1668 & 4 &  4 & 13 & 25 & 14 & 2\\\\\n",
       "\t 2 & 1 & Short Trip &  563.4582 & 2 & 19 &  0 & 51 &  8 & 6\\\\\n",
       "\t 2 & 1 & Short Trip & 2600.5088 & 4 & 11 & 17 & 48 & 15 & 2\\\\\n",
       "\t 1 & 1 & Short Trip & 2151.7627 & 2 & 13 & 13 & 48 &  7 & 7\\\\\n",
       "\t 1 & 1 & Short Trip & 1130.2542 & 4 & 12 & 22 & 26 & 15 & 3\\\\\n",
       "\\end{tabular}\n"
      ],
      "text/markdown": [
       "\n",
       "A tibble: 6 × 10\n",
       "\n",
       "| vendor_id &lt;int&gt; | passenger_count &lt;int&gt; | trip_duration &lt;fct&gt; | distance &lt;dbl&gt; | pickup_month &lt;int&gt; | pickup_day &lt;int&gt; | pickup_hour &lt;int&gt; | pickup_minutes &lt;int&gt; | pickup_week &lt;int&gt; | pickup_weekdays &lt;int&gt; |\n",
       "|---|---|---|---|---|---|---|---|---|---|\n",
       "| 1 | 1 | Short Trip | 2034.3679 | 6 |  9 |  8 | 28 | 24 | 5 |\n",
       "| 1 | 4 | Short Trip | 1751.1668 | 4 |  4 | 13 | 25 | 14 | 2 |\n",
       "| 2 | 1 | Short Trip |  563.4582 | 2 | 19 |  0 | 51 |  8 | 6 |\n",
       "| 2 | 1 | Short Trip | 2600.5088 | 4 | 11 | 17 | 48 | 15 | 2 |\n",
       "| 1 | 1 | Short Trip | 2151.7627 | 2 | 13 | 13 | 48 |  7 | 7 |\n",
       "| 1 | 1 | Short Trip | 1130.2542 | 4 | 12 | 22 | 26 | 15 | 3 |\n",
       "\n"
      ],
      "text/plain": [
       "  vendor_id passenger_count trip_duration distance  pickup_month pickup_day\n",
       "1 1         1               Short Trip    2034.3679 6             9        \n",
       "2 1         4               Short Trip    1751.1668 4             4        \n",
       "3 2         1               Short Trip     563.4582 2            19        \n",
       "4 2         1               Short Trip    2600.5088 4            11        \n",
       "5 1         1               Short Trip    2151.7627 2            13        \n",
       "6 1         1               Short Trip    1130.2542 4            12        \n",
       "  pickup_hour pickup_minutes pickup_week pickup_weekdays\n",
       "1  8          28             24          5              \n",
       "2 13          25             14          2              \n",
       "3  0          51              8          6              \n",
       "4 17          48             15          2              \n",
       "5 13          48              7          7              \n",
       "6 22          26             15          3              "
      ]
     },
     "metadata": {},
     "output_type": "display_data"
    }
   ],
   "source": [
    "## Lets select attriutes which is important\n",
    "##### Cleaning Data ############\n",
    "## Selecting columns or attributes which does not contribute to model learning\n",
    "\n",
    "## removing \"id\", \"pickup_datetime\", \"dropoff_datetime\", \"pickup_longitude\", \"pickup_latitude\", \n",
    "## \"dropoff_latitude\", \"dropoff_longitude\", \"store_and_fwd_flag\"\n",
    "train_data <- new_train_data[, -which(names(new_train_data) \n",
    "                                          %in% c(\"id\", \"pickup_datetime\", \"dropoff_datetime\", \n",
    "                                                 \"pickup_longitude\", \"pickup_latitude\", \n",
    "                                                 \"dropoff_latitude\", \"dropoff_longitude\", \n",
    "                                                 \"store_and_fwd_flag\", \"pickup_weekend\")) ]\n",
    "\n",
    "cat(\"\\n After Removal of irrelevant attributes: \\n\")\n",
    "print(colnames(train_data))\n",
    "head(train_data)"
   ]
  },
  {
   "cell_type": "code",
   "execution_count": null,
   "metadata": {},
   "outputs": [],
   "source": []
  },
  {
   "cell_type": "code",
   "execution_count": 37,
   "metadata": {},
   "outputs": [
    {
     "name": "stdout",
     "output_type": "stream",
     "text": [
      "Classes 'tbl_df', 'tbl' and 'data.frame':\t50000 obs. of  10 variables:\n",
      " $ vendor_id      : int  1 1 2 2 1 1 1 2 1 2 ...\n",
      " $ passenger_count: int  1 4 1 1 1 1 1 2 1 1 ...\n",
      " $ trip_duration  : Factor w/ 2 levels \"Short Trip\",\"Long Trip\": 1 1 1 1 1 1 1 1 1 1 ...\n",
      " $ distance       : num  2034 1751 563 2601 2152 ...\n",
      " $ pickup_month   : int  6 4 2 4 2 4 4 2 3 2 ...\n",
      " $ pickup_day     : int  9 4 19 11 13 12 21 16 17 25 ...\n",
      " $ pickup_hour    : int  8 13 0 17 13 22 18 23 21 21 ...\n",
      " $ pickup_minutes : int  28 25 51 48 48 26 42 19 25 10 ...\n",
      " $ pickup_week    : int  24 14 8 15 7 15 17 7 12 9 ...\n",
      " $ pickup_weekdays: int  5 2 6 2 7 3 5 3 5 5 ...\n",
      "NULL\n"
     ]
    },
    {
     "data": {
      "image/png": "[encoded data removed]",
      "text/plain": [
       "plot without title"
      ]
     },
     "metadata": {},
     "output_type": "display_data"
    }
   ],
   "source": [
    "### Correlation Matrix & Correlation Plot####\n",
    "print(str(train_data))\n",
    "\n",
    "corr_data <- train_data[, which(names(train_data)\n",
    "                                    %in% c(\"vendor_id\", \"passenger_count\", \"distance\",\n",
    "                                           \"pickup_month\", \"pickup_day\", \"pickup_hour\", \n",
    "                                           \"pickup_minutes\", \"pickup_week\", \"pickup_weekdays\"))]\n",
    "\n",
    "corr_matrix <- round(cor(corr_data), 4)\n",
    "# print(corr_matrix)\n",
    "\n",
    "options(repr.plot.width = 6, repr.plot.height = 4)\n",
    "ggcorrplot(corr_matrix, hc.order = TRUE, type = \"lower\", lab = TRUE)"
   ]
  },
  {
   "cell_type": "markdown",
   "metadata": {},
   "source": [
    "## Train & Test Split"
   ]
  },
  {
   "cell_type": "code",
   "execution_count": 38,
   "metadata": {},
   "outputs": [
    {
     "name": "stdout",
     "output_type": "stream",
     "text": [
      "\n",
      "Short Trip  Long Trip \n",
      "     32334       2667 \n",
      "\n",
      "Short Trip  Long Trip \n",
      "     13857       1142 \n",
      "[1] 35001    10\n",
      "[1] 14999    10\n"
     ]
    }
   ],
   "source": [
    "# 70 % train_data\n",
    "# set.seed(123)\n",
    "sample_size <- floor(0.7 * nrow(train_data))\n",
    "\n",
    "# randomly select index of observations for training\n",
    "# training_index <- sample(nrow(train_data), size=sample_size, replace=FALSE)\n",
    "# train <- train_data[training_index, ]\n",
    "# print(head(train))\n",
    "# test <- train_data[-training_index, ]\n",
    "# print(head(test))\n",
    "\n",
    "# install.packages('caret')\n",
    "\n",
    "library(caret)\n",
    "train.index <- createDataPartition(train_data$trip_duration, p = .7, list = FALSE)\n",
    "train <- train_data[ train.index,]\n",
    "test  <- train_data[-train.index,]\n",
    "\n",
    "\n",
    "\n",
    "print(table(train$trip_duration))\n",
    "print(table(test$trip_duration))\n",
    "print(dim(train))\n",
    "print(dim(test))"
   ]
  },
  {
   "cell_type": "code",
   "execution_count": null,
   "metadata": {},
   "outputs": [],
   "source": []
  },
  {
   "cell_type": "code",
   "execution_count": 39,
   "metadata": {},
   "outputs": [
    {
     "name": "stdout",
     "output_type": "stream",
     "text": [
      "3rd Qu. \n",
      "3799.11 \n",
      " 3rd Qu. \n",
      "7664.653 \n"
     ]
    },
    {
     "data": {
      "image/png": "[encoded data removed]",
      "text/plain": [
       "plot without title"
      ]
     },
     "metadata": {},
     "output_type": "display_data"
    }
   ],
   "source": [
    "## Analyze the distance feature\n",
    "# boxplot\n",
    "options(repr.plot.width = 4, repr.plot.height = 3)\n",
    "box_distance <- ggplot(data = train, aes(x=distance)) +\n",
    "               geom_boxplot() +\n",
    "               ggtitle(\"Distance Analysis\") +\n",
    "               xlab(\"Distance\") +\n",
    "               theme(legend.position=\"none\")\n",
    "box_distance \n",
    "\n",
    "sum_distance <- summary(train$distance)\n",
    "third_Q <- sum_distance['3rd Qu.']\n",
    "print(third_Q)\n",
    "bench <- third_Q + (1.5* IQR(train$distance))\n",
    "print(bench)\n",
    "\n"
   ]
  },
  {
   "cell_type": "code",
   "execution_count": 40,
   "metadata": {},
   "outputs": [
    {
     "data": {
      "image/png": "[encoded data removed]",
      "text/plain": [
       "plot without title"
      ]
     },
     "metadata": {},
     "output_type": "display_data"
    }
   ],
   "source": [
    "remove_outliers <- function(x, na.rm = TRUE, ...) {\n",
    "  qnt <- quantile(x, probs=c(.25, .75), na.rm = na.rm, ...)\n",
    "  H <- 2 * IQR(x, na.rm = na.rm)\n",
    "  y <- x\n",
    "  y[x < (qnt[1] - H)] <- NA\n",
    "  y[x > (qnt[2] + H)] <- NA\n",
    "  y\n",
    "}\n",
    "y1 <- remove_outliers(train$distance)\n",
    "y2 <- remove_outliers(test$distance)\n",
    "\n",
    "## png()\n",
    "par(mfrow = c(1, 2))\n",
    "\n",
    "options(repr.plot.width = 6, repr.plot.height = 3)\n",
    "box_dis1 <- ggplot(data = train, aes(x=distance)) +\n",
    "               geom_boxplot() +\n",
    "               ggtitle(\"Distance Before\") +\n",
    "               xlab(\"Distance in meters\") +\n",
    "               theme(legend.position=\"none\")\n",
    "\n",
    "box_dis2 <- ggplot(data = train, aes(x=y1)) +\n",
    "               geom_boxplot() +\n",
    "               ggtitle(\"Distance After\") +\n",
    "               xlab(\"Distance in meters\") +\n",
    "               theme(legend.position=\"none\")\n",
    "\n",
    "\n",
    "grid.arrange(box_dis1, box_dis2, ncol=2)\n",
    "\n",
    "## dev.off()\n"
   ]
  },
  {
   "cell_type": "code",
   "execution_count": 41,
   "metadata": {},
   "outputs": [
    {
     "name": "stdout",
     "output_type": "stream",
     "text": [
      "Check for missing value: \n",
      "[1] 2714\n",
      "[1] 1124\n",
      "# A tibble: 6 x 10\n",
      "  vendor_id passenger_count trip_duration distance pickup_month pickup_day\n",
      "      <int>           <int> <fct>            <dbl>        <int>      <int>\n",
      "1         1               1 Short Trip       2034.            6          9\n",
      "2         2               1 Short Trip        563.            2         19\n",
      "3         2               1 Short Trip       2601.            4         11\n",
      "4         1               1 Short Trip       2152.            2         13\n",
      "5         1               1 Short Trip       1130.            4         12\n",
      "6         1               1 Short Trip        513.            4         21\n",
      "# ... with 4 more variables: pickup_hour <int>, pickup_minutes <int>,\n",
      "#   pickup_week <int>, pickup_weekdays <int>\n",
      "# A tibble: 6 x 10\n",
      "  vendor_id passenger_count trip_duration distance pickup_month pickup_day\n",
      "      <int>           <int> <fct>            <dbl>        <int>      <int>\n",
      "1         1               4 Short Trip       1751.            4          4\n",
      "2         2               5 Short Trip       1587.            5          8\n",
      "3         2               1 Short Trip       1534.            6         12\n",
      "4         1               1 Short Trip        974.            1          1\n",
      "5         1               1 Short Trip       3391.            6         18\n",
      "6         2               5 Short Trip        909.            4         21\n",
      "# ... with 4 more variables: pickup_hour <int>, pickup_minutes <int>,\n",
      "#   pickup_week <int>, pickup_weekdays <int>\n"
     ]
    }
   ],
   "source": [
    "train$distance <- y1\n",
    "test$distance <- y2\n",
    "\n",
    "## remove NA from both train and test\n",
    "# ## Check for missing value \"NA\"\n",
    "cat('Check for missing value: \\n')\n",
    "print(sum(is.na(train)))\n",
    "print(sum(is.na(test)))\n",
    "\n",
    "# we can retain observation thta do not conatain NA(null) value\n",
    "train <- na.omit(train)\n",
    "print(head(train))\n",
    "test <- na.omit(test)\n",
    "print(head(test))"
   ]
  },
  {
   "cell_type": "code",
   "execution_count": 42,
   "metadata": {},
   "outputs": [
    {
     "data": {
      "text/html": [
       "<table>\n",
       "<caption>A tibble: 6 × 10</caption>\n",
       "<thead>\n",
       "\t<tr><th scope=col>vendor_id</th><th scope=col>passenger_count</th><th scope=col>trip_duration</th><th scope=col>distance</th><th scope=col>pickup_month</th><th scope=col>pickup_day</th><th scope=col>pickup_hour</th><th scope=col>pickup_minutes</th><th scope=col>pickup_week</th><th scope=col>pickup_weekdays</th></tr>\n",
       "\t<tr><th scope=col>&lt;int&gt;</th><th scope=col>&lt;int&gt;</th><th scope=col>&lt;fct&gt;</th><th scope=col>&lt;dbl&gt;</th><th scope=col>&lt;int&gt;</th><th scope=col>&lt;int&gt;</th><th scope=col>&lt;int&gt;</th><th scope=col>&lt;int&gt;</th><th scope=col>&lt;int&gt;</th><th scope=col>&lt;int&gt;</th></tr>\n",
       "</thead>\n",
       "<tbody>\n",
       "\t<tr><td>1</td><td>1</td><td>Short Trip</td><td>2034.3679</td><td>6</td><td> 9</td><td> 8</td><td>28</td><td>24</td><td>5</td></tr>\n",
       "\t<tr><td>2</td><td>1</td><td>Short Trip</td><td> 563.4582</td><td>2</td><td>19</td><td> 0</td><td>51</td><td> 8</td><td>6</td></tr>\n",
       "\t<tr><td>2</td><td>1</td><td>Short Trip</td><td>2600.5088</td><td>4</td><td>11</td><td>17</td><td>48</td><td>15</td><td>2</td></tr>\n",
       "\t<tr><td>1</td><td>1</td><td>Short Trip</td><td>2151.7627</td><td>2</td><td>13</td><td>13</td><td>48</td><td> 7</td><td>7</td></tr>\n",
       "\t<tr><td>1</td><td>1</td><td>Short Trip</td><td>1130.2542</td><td>4</td><td>12</td><td>22</td><td>26</td><td>15</td><td>3</td></tr>\n",
       "\t<tr><td>1</td><td>1</td><td>Short Trip</td><td> 513.3055</td><td>4</td><td>21</td><td>18</td><td>42</td><td>17</td><td>5</td></tr>\n",
       "</tbody>\n",
       "</table>\n"
      ],
      "text/latex": [
       "A tibble: 6 × 10\n",
       "\\begin{tabular}{llllllllll}\n",
       " vendor\\_id & passenger\\_count & trip\\_duration & distance & pickup\\_month & pickup\\_day & pickup\\_hour & pickup\\_minutes & pickup\\_week & pickup\\_weekdays\\\\\n",
       " <int> & <int> & <fct> & <dbl> & <int> & <int> & <int> & <int> & <int> & <int>\\\\\n",
       "\\hline\n",
       "\t 1 & 1 & Short Trip & 2034.3679 & 6 &  9 &  8 & 28 & 24 & 5\\\\\n",
       "\t 2 & 1 & Short Trip &  563.4582 & 2 & 19 &  0 & 51 &  8 & 6\\\\\n",
       "\t 2 & 1 & Short Trip & 2600.5088 & 4 & 11 & 17 & 48 & 15 & 2\\\\\n",
       "\t 1 & 1 & Short Trip & 2151.7627 & 2 & 13 & 13 & 48 &  7 & 7\\\\\n",
       "\t 1 & 1 & Short Trip & 1130.2542 & 4 & 12 & 22 & 26 & 15 & 3\\\\\n",
       "\t 1 & 1 & Short Trip &  513.3055 & 4 & 21 & 18 & 42 & 17 & 5\\\\\n",
       "\\end{tabular}\n"
      ],
      "text/markdown": [
       "\n",
       "A tibble: 6 × 10\n",
       "\n",
       "| vendor_id &lt;int&gt; | passenger_count &lt;int&gt; | trip_duration &lt;fct&gt; | distance &lt;dbl&gt; | pickup_month &lt;int&gt; | pickup_day &lt;int&gt; | pickup_hour &lt;int&gt; | pickup_minutes &lt;int&gt; | pickup_week &lt;int&gt; | pickup_weekdays &lt;int&gt; |\n",
       "|---|---|---|---|---|---|---|---|---|---|\n",
       "| 1 | 1 | Short Trip | 2034.3679 | 6 |  9 |  8 | 28 | 24 | 5 |\n",
       "| 2 | 1 | Short Trip |  563.4582 | 2 | 19 |  0 | 51 |  8 | 6 |\n",
       "| 2 | 1 | Short Trip | 2600.5088 | 4 | 11 | 17 | 48 | 15 | 2 |\n",
       "| 1 | 1 | Short Trip | 2151.7627 | 2 | 13 | 13 | 48 |  7 | 7 |\n",
       "| 1 | 1 | Short Trip | 1130.2542 | 4 | 12 | 22 | 26 | 15 | 3 |\n",
       "| 1 | 1 | Short Trip |  513.3055 | 4 | 21 | 18 | 42 | 17 | 5 |\n",
       "\n"
      ],
      "text/plain": [
       "  vendor_id passenger_count trip_duration distance  pickup_month pickup_day\n",
       "1 1         1               Short Trip    2034.3679 6             9        \n",
       "2 2         1               Short Trip     563.4582 2            19        \n",
       "3 2         1               Short Trip    2600.5088 4            11        \n",
       "4 1         1               Short Trip    2151.7627 2            13        \n",
       "5 1         1               Short Trip    1130.2542 4            12        \n",
       "6 1         1               Short Trip     513.3055 4            21        \n",
       "  pickup_hour pickup_minutes pickup_week pickup_weekdays\n",
       "1  8          28             24          5              \n",
       "2  0          51              8          6              \n",
       "3 17          48             15          2              \n",
       "4 13          48              7          7              \n",
       "5 22          26             15          3              \n",
       "6 18          42             17          5              "
      ]
     },
     "metadata": {},
     "output_type": "display_data"
    },
    {
     "name": "stdout",
     "output_type": "stream",
     "text": [
      "[1] 32287    10\n"
     ]
    }
   ],
   "source": [
    "head(train)\n",
    "print(dim(train))"
   ]
  },
  {
   "cell_type": "code",
   "execution_count": null,
   "metadata": {},
   "outputs": [],
   "source": []
  },
  {
   "cell_type": "code",
   "execution_count": null,
   "metadata": {},
   "outputs": [],
   "source": []
  },
  {
   "cell_type": "code",
   "execution_count": null,
   "metadata": {},
   "outputs": [],
   "source": []
  },
  {
   "cell_type": "markdown",
   "metadata": {},
   "source": [
    "## Scaling numeric attributes"
   ]
  },
  {
   "cell_type": "code",
   "execution_count": 43,
   "metadata": {},
   "outputs": [],
   "source": [
    "train <- train %>% mutate_if(is.numeric, scale)\n",
    "test <- test %>% mutate_if(is.numeric, scale)\n",
    "# train <- train %>% mutate_at(c('distance'), funs(c(scale(.))))\n",
    "# test <- test %>% mutate_at(c('distance'), funs(c(scale(.))))"
   ]
  },
  {
   "cell_type": "code",
   "execution_count": 44,
   "metadata": {},
   "outputs": [
    {
     "data": {
      "text/html": [
       "<table>\n",
       "<caption>A tibble: 6 × 10</caption>\n",
       "<thead>\n",
       "\t<tr><th scope=col>vendor_id</th><th scope=col>passenger_count</th><th scope=col>trip_duration</th><th scope=col>distance</th><th scope=col>pickup_month</th><th scope=col>pickup_day</th><th scope=col>pickup_hour</th><th scope=col>pickup_minutes</th><th scope=col>pickup_week</th><th scope=col>pickup_weekdays</th></tr>\n",
       "\t<tr><th scope=col>&lt;dbl[,1]&gt;</th><th scope=col>&lt;dbl[,1]&gt;</th><th scope=col>&lt;fct&gt;</th><th scope=col>&lt;dbl[,1]&gt;</th><th scope=col>&lt;dbl[,1]&gt;</th><th scope=col>&lt;dbl[,1]&gt;</th><th scope=col>&lt;dbl[,1]&gt;</th><th scope=col>&lt;dbl[,1]&gt;</th><th scope=col>&lt;dbl[,1]&gt;</th><th scope=col>&lt;dbl[,1]&gt;</th></tr>\n",
       "</thead>\n",
       "<tbody>\n",
       "\t<tr><td>-1.0683812</td><td>-0.5024187</td><td>Short Trip</td><td>-0.24069719</td><td> 1.4918808</td><td>-0.7496144</td><td>-0.8879978</td><td>-0.08043571</td><td> 1.4108254</td><td> 0.4296453</td></tr>\n",
       "\t<tr><td> 0.9359665</td><td>-0.5024187</td><td>Short Trip</td><td>-1.05075674</td><td>-0.9002703</td><td> 0.4020772</td><td>-2.1433548</td><td> 1.24861747</td><td>-0.7710516</td><td> 0.9307637</td></tr>\n",
       "\t<tr><td> 0.9359665</td><td>-0.5024187</td><td>Short Trip</td><td> 0.07108796</td><td> 0.2958052</td><td>-0.5192760</td><td> 0.5242788</td><td> 1.07526270</td><td> 0.1835196</td><td>-1.0737098</td></tr>\n",
       "\t<tr><td>-1.0683812</td><td>-0.5024187</td><td>Short Trip</td><td>-0.17604552</td><td>-0.9002703</td><td>-0.2889377</td><td>-0.1033997</td><td> 1.07526270</td><td>-0.9074189</td><td> 1.4318821</td></tr>\n",
       "\t<tr><td>-1.0683812</td><td>-0.5024187</td><td>Short Trip</td><td>-0.73861079</td><td> 0.2958052</td><td>-0.4041069</td><td> 1.3088769</td><td>-0.19600555</td><td> 0.1835196</td><td>-0.5725914</td></tr>\n",
       "\t<tr><td>-1.0683812</td><td>-0.5024187</td><td>Short Trip</td><td>-1.07837685</td><td> 0.2958052</td><td> 0.6324156</td><td> 0.6811985</td><td> 0.72855318</td><td> 0.4562542</td><td> 0.4296453</td></tr>\n",
       "</tbody>\n",
       "</table>\n"
      ],
      "text/latex": [
       "A tibble: 6 × 10\n",
       "\\begin{tabular}{llllllllll}\n",
       " vendor\\_id & passenger\\_count & trip\\_duration & distance & pickup\\_month & pickup\\_day & pickup\\_hour & pickup\\_minutes & pickup\\_week & pickup\\_weekdays\\\\\n",
       " <dbl{[},1{]}> & <dbl{[},1{]}> & <fct> & <dbl{[},1{]}> & <dbl{[},1{]}> & <dbl{[},1{]}> & <dbl{[},1{]}> & <dbl{[},1{]}> & <dbl{[},1{]}> & <dbl{[},1{]}>\\\\\n",
       "\\hline\n",
       "\t -1.0683812 & -0.5024187 & Short Trip & -0.24069719 &  1.4918808 & -0.7496144 & -0.8879978 & -0.08043571 &  1.4108254 &  0.4296453\\\\\n",
       "\t  0.9359665 & -0.5024187 & Short Trip & -1.05075674 & -0.9002703 &  0.4020772 & -2.1433548 &  1.24861747 & -0.7710516 &  0.9307637\\\\\n",
       "\t  0.9359665 & -0.5024187 & Short Trip &  0.07108796 &  0.2958052 & -0.5192760 &  0.5242788 &  1.07526270 &  0.1835196 & -1.0737098\\\\\n",
       "\t -1.0683812 & -0.5024187 & Short Trip & -0.17604552 & -0.9002703 & -0.2889377 & -0.1033997 &  1.07526270 & -0.9074189 &  1.4318821\\\\\n",
       "\t -1.0683812 & -0.5024187 & Short Trip & -0.73861079 &  0.2958052 & -0.4041069 &  1.3088769 & -0.19600555 &  0.1835196 & -0.5725914\\\\\n",
       "\t -1.0683812 & -0.5024187 & Short Trip & -1.07837685 &  0.2958052 &  0.6324156 &  0.6811985 &  0.72855318 &  0.4562542 &  0.4296453\\\\\n",
       "\\end{tabular}\n"
      ],
      "text/markdown": [
       "\n",
       "A tibble: 6 × 10\n",
       "\n",
       "| vendor_id &lt;dbl[,1]&gt; | passenger_count &lt;dbl[,1]&gt; | trip_duration &lt;fct&gt; | distance &lt;dbl[,1]&gt; | pickup_month &lt;dbl[,1]&gt; | pickup_day &lt;dbl[,1]&gt; | pickup_hour &lt;dbl[,1]&gt; | pickup_minutes &lt;dbl[,1]&gt; | pickup_week &lt;dbl[,1]&gt; | pickup_weekdays &lt;dbl[,1]&gt; |\n",
       "|---|---|---|---|---|---|---|---|---|---|\n",
       "| -1.0683812 | -0.5024187 | Short Trip | -0.24069719 |  1.4918808 | -0.7496144 | -0.8879978 | -0.08043571 |  1.4108254 |  0.4296453 |\n",
       "|  0.9359665 | -0.5024187 | Short Trip | -1.05075674 | -0.9002703 |  0.4020772 | -2.1433548 |  1.24861747 | -0.7710516 |  0.9307637 |\n",
       "|  0.9359665 | -0.5024187 | Short Trip |  0.07108796 |  0.2958052 | -0.5192760 |  0.5242788 |  1.07526270 |  0.1835196 | -1.0737098 |\n",
       "| -1.0683812 | -0.5024187 | Short Trip | -0.17604552 | -0.9002703 | -0.2889377 | -0.1033997 |  1.07526270 | -0.9074189 |  1.4318821 |\n",
       "| -1.0683812 | -0.5024187 | Short Trip | -0.73861079 |  0.2958052 | -0.4041069 |  1.3088769 | -0.19600555 |  0.1835196 | -0.5725914 |\n",
       "| -1.0683812 | -0.5024187 | Short Trip | -1.07837685 |  0.2958052 |  0.6324156 |  0.6811985 |  0.72855318 |  0.4562542 |  0.4296453 |\n",
       "\n"
      ],
      "text/plain": [
       "  vendor_id  passenger_count trip_duration distance    pickup_month pickup_day\n",
       "1 -1.0683812 -0.5024187      Short Trip    -0.24069719  1.4918808   -0.7496144\n",
       "2  0.9359665 -0.5024187      Short Trip    -1.05075674 -0.9002703    0.4020772\n",
       "3  0.9359665 -0.5024187      Short Trip     0.07108796  0.2958052   -0.5192760\n",
       "4 -1.0683812 -0.5024187      Short Trip    -0.17604552 -0.9002703   -0.2889377\n",
       "5 -1.0683812 -0.5024187      Short Trip    -0.73861079  0.2958052   -0.4041069\n",
       "6 -1.0683812 -0.5024187      Short Trip    -1.07837685  0.2958052    0.6324156\n",
       "  pickup_hour pickup_minutes pickup_week pickup_weekdays\n",
       "1 -0.8879978  -0.08043571     1.4108254   0.4296453     \n",
       "2 -2.1433548   1.24861747    -0.7710516   0.9307637     \n",
       "3  0.5242788   1.07526270     0.1835196  -1.0737098     \n",
       "4 -0.1033997   1.07526270    -0.9074189   1.4318821     \n",
       "5  1.3088769  -0.19600555     0.1835196  -0.5725914     \n",
       "6  0.6811985   0.72855318     0.4562542   0.4296453     "
      ]
     },
     "metadata": {},
     "output_type": "display_data"
    },
    {
     "data": {
      "text/html": [
       "<table>\n",
       "<caption>A tibble: 6 × 10</caption>\n",
       "<thead>\n",
       "\t<tr><th scope=col>vendor_id</th><th scope=col>passenger_count</th><th scope=col>trip_duration</th><th scope=col>distance</th><th scope=col>pickup_month</th><th scope=col>pickup_day</th><th scope=col>pickup_hour</th><th scope=col>pickup_minutes</th><th scope=col>pickup_week</th><th scope=col>pickup_weekdays</th></tr>\n",
       "\t<tr><th scope=col>&lt;dbl[,1]&gt;</th><th scope=col>&lt;dbl[,1]&gt;</th><th scope=col>&lt;fct&gt;</th><th scope=col>&lt;dbl[,1]&gt;</th><th scope=col>&lt;dbl[,1]&gt;</th><th scope=col>&lt;dbl[,1]&gt;</th><th scope=col>&lt;dbl[,1]&gt;</th><th scope=col>&lt;dbl[,1]&gt;</th><th scope=col>&lt;dbl[,1]&gt;</th><th scope=col>&lt;dbl[,1]&gt;</th></tr>\n",
       "</thead>\n",
       "<tbody>\n",
       "\t<tr><td>-1.0764653</td><td> 1.7541293</td><td>Short Trip</td><td>-0.4116403</td><td> 0.2830658</td><td>-1.3260863</td><td>-0.09446782</td><td>-0.2777550</td><td> 0.03680987</td><td>-1.0613537</td></tr>\n",
       "\t<tr><td> 0.9288994</td><td> 2.5088363</td><td>Short Trip</td><td>-0.5002507</td><td> 0.8757227</td><td>-0.8655273</td><td> 0.68703767</td><td> 0.2949591</td><td> 0.71113903</td><td>-1.5610070</td></tr>\n",
       "\t<tr><td> 0.9288994</td><td>-0.5099915</td><td>Short Trip</td><td>-0.5286993</td><td> 1.4683797</td><td>-0.4049683</td><td> 0.84333877</td><td> 1.0394875</td><td> 1.38546820</td><td>-1.5610070</td></tr>\n",
       "\t<tr><td>-1.0764653</td><td>-0.5099915</td><td>Short Trip</td><td>-0.8316926</td><td>-1.4949051</td><td>-1.6715055</td><td> 0.99963987</td><td> 0.5240448</td><td>-1.71644597</td><td> 0.9372596</td></tr>\n",
       "\t<tr><td>-1.0764653</td><td>-0.5099915</td><td>Short Trip</td><td> 0.4744572</td><td> 1.4683797</td><td> 0.2858702</td><td> 0.99963987</td><td>-1.3086404</td><td> 1.52033403</td><td> 1.4369129</td></tr>\n",
       "\t<tr><td> 0.9288994</td><td> 2.5088363</td><td>Short Trip</td><td>-0.8665462</td><td> 0.2830658</td><td> 0.6312895</td><td>-1.18857551</td><td> 1.4976588</td><td> 0.44140737</td><td> 0.4376063</td></tr>\n",
       "</tbody>\n",
       "</table>\n"
      ],
      "text/latex": [
       "A tibble: 6 × 10\n",
       "\\begin{tabular}{llllllllll}\n",
       " vendor\\_id & passenger\\_count & trip\\_duration & distance & pickup\\_month & pickup\\_day & pickup\\_hour & pickup\\_minutes & pickup\\_week & pickup\\_weekdays\\\\\n",
       " <dbl{[},1{]}> & <dbl{[},1{]}> & <fct> & <dbl{[},1{]}> & <dbl{[},1{]}> & <dbl{[},1{]}> & <dbl{[},1{]}> & <dbl{[},1{]}> & <dbl{[},1{]}> & <dbl{[},1{]}>\\\\\n",
       "\\hline\n",
       "\t -1.0764653 &  1.7541293 & Short Trip & -0.4116403 &  0.2830658 & -1.3260863 & -0.09446782 & -0.2777550 &  0.03680987 & -1.0613537\\\\\n",
       "\t  0.9288994 &  2.5088363 & Short Trip & -0.5002507 &  0.8757227 & -0.8655273 &  0.68703767 &  0.2949591 &  0.71113903 & -1.5610070\\\\\n",
       "\t  0.9288994 & -0.5099915 & Short Trip & -0.5286993 &  1.4683797 & -0.4049683 &  0.84333877 &  1.0394875 &  1.38546820 & -1.5610070\\\\\n",
       "\t -1.0764653 & -0.5099915 & Short Trip & -0.8316926 & -1.4949051 & -1.6715055 &  0.99963987 &  0.5240448 & -1.71644597 &  0.9372596\\\\\n",
       "\t -1.0764653 & -0.5099915 & Short Trip &  0.4744572 &  1.4683797 &  0.2858702 &  0.99963987 & -1.3086404 &  1.52033403 &  1.4369129\\\\\n",
       "\t  0.9288994 &  2.5088363 & Short Trip & -0.8665462 &  0.2830658 &  0.6312895 & -1.18857551 &  1.4976588 &  0.44140737 &  0.4376063\\\\\n",
       "\\end{tabular}\n"
      ],
      "text/markdown": [
       "\n",
       "A tibble: 6 × 10\n",
       "\n",
       "| vendor_id &lt;dbl[,1]&gt; | passenger_count &lt;dbl[,1]&gt; | trip_duration &lt;fct&gt; | distance &lt;dbl[,1]&gt; | pickup_month &lt;dbl[,1]&gt; | pickup_day &lt;dbl[,1]&gt; | pickup_hour &lt;dbl[,1]&gt; | pickup_minutes &lt;dbl[,1]&gt; | pickup_week &lt;dbl[,1]&gt; | pickup_weekdays &lt;dbl[,1]&gt; |\n",
       "|---|---|---|---|---|---|---|---|---|---|\n",
       "| -1.0764653 |  1.7541293 | Short Trip | -0.4116403 |  0.2830658 | -1.3260863 | -0.09446782 | -0.2777550 |  0.03680987 | -1.0613537 |\n",
       "|  0.9288994 |  2.5088363 | Short Trip | -0.5002507 |  0.8757227 | -0.8655273 |  0.68703767 |  0.2949591 |  0.71113903 | -1.5610070 |\n",
       "|  0.9288994 | -0.5099915 | Short Trip | -0.5286993 |  1.4683797 | -0.4049683 |  0.84333877 |  1.0394875 |  1.38546820 | -1.5610070 |\n",
       "| -1.0764653 | -0.5099915 | Short Trip | -0.8316926 | -1.4949051 | -1.6715055 |  0.99963987 |  0.5240448 | -1.71644597 |  0.9372596 |\n",
       "| -1.0764653 | -0.5099915 | Short Trip |  0.4744572 |  1.4683797 |  0.2858702 |  0.99963987 | -1.3086404 |  1.52033403 |  1.4369129 |\n",
       "|  0.9288994 |  2.5088363 | Short Trip | -0.8665462 |  0.2830658 |  0.6312895 | -1.18857551 |  1.4976588 |  0.44140737 |  0.4376063 |\n",
       "\n"
      ],
      "text/plain": [
       "  vendor_id  passenger_count trip_duration distance   pickup_month pickup_day\n",
       "1 -1.0764653  1.7541293      Short Trip    -0.4116403  0.2830658   -1.3260863\n",
       "2  0.9288994  2.5088363      Short Trip    -0.5002507  0.8757227   -0.8655273\n",
       "3  0.9288994 -0.5099915      Short Trip    -0.5286993  1.4683797   -0.4049683\n",
       "4 -1.0764653 -0.5099915      Short Trip    -0.8316926 -1.4949051   -1.6715055\n",
       "5 -1.0764653 -0.5099915      Short Trip     0.4744572  1.4683797    0.2858702\n",
       "6  0.9288994  2.5088363      Short Trip    -0.8665462  0.2830658    0.6312895\n",
       "  pickup_hour pickup_minutes pickup_week pickup_weekdays\n",
       "1 -0.09446782 -0.2777550      0.03680987 -1.0613537     \n",
       "2  0.68703767  0.2949591      0.71113903 -1.5610070     \n",
       "3  0.84333877  1.0394875      1.38546820 -1.5610070     \n",
       "4  0.99963987  0.5240448     -1.71644597  0.9372596     \n",
       "5  0.99963987 -1.3086404      1.52033403  1.4369129     \n",
       "6 -1.18857551  1.4976588      0.44140737  0.4376063     "
      ]
     },
     "metadata": {},
     "output_type": "display_data"
    }
   ],
   "source": [
    "# check after scaling numeric attributes\n",
    "head(train)\n",
    "head(test)"
   ]
  },
  {
   "cell_type": "code",
   "execution_count": null,
   "metadata": {},
   "outputs": [],
   "source": []
  },
  {
   "cell_type": "code",
   "execution_count": null,
   "metadata": {},
   "outputs": [],
   "source": []
  },
  {
   "cell_type": "markdown",
   "metadata": {},
   "source": [
    "## Feature Selection\n",
    "- Random Forest Method\n",
    "- Boruta"
   ]
  },
  {
   "cell_type": "code",
   "execution_count": 45,
   "metadata": {},
   "outputs": [
    {
     "data": {
      "text/html": [
       "<style>\n",
       ".dl-inline {width: auto; margin:0; padding: 0}\n",
       ".dl-inline>dt, .dl-inline>dd {float: none; width: auto; display: inline-block}\n",
       ".dl-inline>dt::after {content: \":\\0020\"; padding-right: .5ex}\n",
       ".dl-inline>dt:not(:first-of-type) {padding-left: .5ex}\n",
       "</style><dl class=dl-inline><dt>vendor_id</dt><dd>0.00296895375269067</dd><dt>passenger_count</dt><dd>0.00199687177576548</dd><dt>distance</dt><dd>-0.314902345465994</dd><dt>pickup_month</dt><dd>-0.00915885650969899</dd><dt>pickup_day</dt><dd>-0.00207152224308893</dd><dt>pickup_hour</dt><dd>-0.0530410947384895</dd><dt>pickup_minutes</dt><dd>-6.6252113298173e-05</dd><dt>pickup_week</dt><dd>-0.014372819989443</dd><dt>pickup_weekdays</dt><dd>-0.0265203132743074</dd></dl>\n"
      ],
      "text/latex": [
       "\\begin{description*}\n",
       "\\item[vendor\\textbackslash{}\\_id] 0.00296895375269067\n",
       "\\item[passenger\\textbackslash{}\\_count] 0.00199687177576548\n",
       "\\item[distance] -0.314902345465994\n",
       "\\item[pickup\\textbackslash{}\\_month] -0.00915885650969899\n",
       "\\item[pickup\\textbackslash{}\\_day] -0.00207152224308893\n",
       "\\item[pickup\\textbackslash{}\\_hour] -0.0530410947384895\n",
       "\\item[pickup\\textbackslash{}\\_minutes] -6.6252113298173e-05\n",
       "\\item[pickup\\textbackslash{}\\_week] -0.014372819989443\n",
       "\\item[pickup\\textbackslash{}\\_weekdays] -0.0265203132743074\n",
       "\\end{description*}\n"
      ],
      "text/markdown": [
       "vendor_id\n",
       ":   0.00296895375269067passenger_count\n",
       ":   0.00199687177576548distance\n",
       ":   -0.314902345465994pickup_month\n",
       ":   -0.00915885650969899pickup_day\n",
       ":   -0.00207152224308893pickup_hour\n",
       ":   -0.0530410947384895pickup_minutes\n",
       ":   -6.6252113298173e-05pickup_week\n",
       ":   -0.014372819989443pickup_weekdays\n",
       ":   -0.0265203132743074\n",
       "\n"
      ],
      "text/plain": [
       "      vendor_id passenger_count        distance    pickup_month      pickup_day \n",
       "   2.968954e-03    1.996872e-03   -3.149023e-01   -9.158857e-03   -2.071522e-03 \n",
       "    pickup_hour  pickup_minutes     pickup_week pickup_weekdays \n",
       "  -5.304109e-02   -6.625211e-05   -1.437282e-02   -2.652031e-02 "
      ]
     },
     "metadata": {},
     "output_type": "display_data"
    }
   ],
   "source": [
    "# load the random forest package\n",
    "# fit the random forest\n",
    "cf <- cforest(as.factor(trip_duration) ~ . , data= train, \n",
    "              control=cforest_unbiased(mtry=2,ntree=50)) \n",
    "# more robust towards class imbalance.\n",
    "varimpAUC(cf) "
   ]
  },
  {
   "cell_type": "code",
   "execution_count": 46,
   "metadata": {
    "scrolled": true
   },
   "outputs": [
    {
     "name": "stderr",
     "output_type": "stream",
     "text": [
      " 1. run of importance source...\n",
      " 2. run of importance source...\n",
      " 3. run of importance source...\n",
      " 4. run of importance source...\n",
      " 5. run of importance source...\n",
      " 6. run of importance source...\n",
      " 7. run of importance source...\n",
      " 8. run of importance source...\n",
      " 9. run of importance source...\n",
      " 10. run of importance source...\n",
      "After 10 iterations, +3 mins: \n",
      " confirmed 7 attributes: distance, passenger_count, pickup_day, pickup_hour, pickup_month and 2 more;\n",
      " rejected 1 attribute: pickup_minutes;\n",
      " still have 1 attribute left.\n",
      "\n",
      " 11. run of importance source...\n"
     ]
    },
    {
     "name": "stdout",
     "output_type": "stream",
     "text": [
      "                   meanImp medianImp     minImp     maxImp  normHits  decision\n",
      "vendor_id        2.3778175  2.267477  0.8577837   4.265794 0.8181818 Tentative\n",
      "passenger_count  3.6121274  3.259317  2.8232445   6.353742 1.0000000 Confirmed\n",
      "distance        99.3992918 99.274738 89.9275289 106.767600 1.0000000 Confirmed\n",
      "pickup_month    17.7473974 17.797654 15.9746648  20.322034 1.0000000 Confirmed\n",
      "pickup_day      10.4161515 10.318906  8.8682912  11.872940 1.0000000 Confirmed\n",
      "pickup_hour     46.8113708 46.246342 44.4277148  50.012304 1.0000000 Confirmed\n",
      "pickup_minutes  -0.1490511 -0.145078 -2.5455058   1.497194 0.0000000  Rejected\n",
      "pickup_week     20.5743642 20.276867 19.0733388  23.041414 1.0000000 Confirmed\n",
      "pickup_weekdays 18.1195483 17.954744 17.1815105  19.378260 1.0000000 Confirmed\n"
     ]
    }
   ],
   "source": [
    "## Feature selection - Boruta Algorithm\n",
    "\n",
    "boruta <- Boruta(trip_duration ~., data=train, doTrace=2, maxRuns = 12)\n",
    "print(attStats(boruta))"
   ]
  },
  {
   "cell_type": "code",
   "execution_count": 47,
   "metadata": {
    "scrolled": false
   },
   "outputs": [
    {
     "data": {
      "image/png": "[encoded data removed]",
      "text/plain": [
       "plot without title"
      ]
     },
     "metadata": {},
     "output_type": "display_data"
    }
   ],
   "source": [
    "options(repr.plot.width = 7, repr.plot.height = 5)\n",
    "# print(boruta)\n",
    "plot(boruta, las=2, cex=1)"
   ]
  },
  {
   "cell_type": "code",
   "execution_count": null,
   "metadata": {},
   "outputs": [],
   "source": []
  },
  {
   "cell_type": "code",
   "execution_count": 48,
   "metadata": {},
   "outputs": [],
   "source": [
    "## Save clean file \n",
    "write.csv(train,\"clean_train.csv\",row.names = FALSE)\n",
    "write.csv(test,\"clean_test.csv\",row.names = FALSE)"
   ]
  },
  {
   "cell_type": "code",
   "execution_count": null,
   "metadata": {
    "scrolled": false
   },
   "outputs": [],
   "source": []
  },
  {
   "cell_type": "markdown",
   "metadata": {},
   "source": [
    "## Model Training and Execution"
   ]
  },
  {
   "cell_type": "markdown",
   "metadata": {},
   "source": [
    "## Naive Bayes"
   ]
  },
  {
   "cell_type": "code",
   "execution_count": 49,
   "metadata": {},
   "outputs": [
    {
     "name": "stdout",
     "output_type": "stream",
     "text": [
      "[1] Short Trip Short Trip Short Trip Short Trip Short Trip Short Trip\n",
      "Levels: Short Trip Long Trip\n"
     ]
    }
   ],
   "source": [
    "## Training Naive Bayes using Train dataset\n",
    "model <- naiveBayes(as.factor(trip_duration) ~. , data=train)\n",
    "\n",
    "# Predicting \"trip types\" on test dataset using trained model\n",
    "y_predict <- predict(model, test, type = 'class')\n",
    "print(head(y_predict))"
   ]
  },
  {
   "cell_type": "code",
   "execution_count": 50,
   "metadata": {},
   "outputs": [
    {
     "data": {
      "text/plain": [
       "Confusion Matrix and Statistics\n",
       "\n",
       "            Reference\n",
       "Prediction   Short Trip Long Trip\n",
       "  Short Trip      13162       343\n",
       "  Long Trip         260       110\n",
       "                                         \n",
       "               Accuracy : 0.9565         \n",
       "                 95% CI : (0.953, 0.9599)\n",
       "    No Information Rate : 0.9674         \n",
       "    P-Value [Acc > NIR] : 1.0000000      \n",
       "                                         \n",
       "                  Kappa : 0.2452         \n",
       "                                         \n",
       " Mcnemar's Test P-Value : 0.0008399      \n",
       "                                         \n",
       "            Sensitivity : 0.9806         \n",
       "            Specificity : 0.2428         \n",
       "         Pos Pred Value : 0.9746         \n",
       "         Neg Pred Value : 0.2973         \n",
       "             Prevalence : 0.9674         \n",
       "         Detection Rate : 0.9486         \n",
       "   Detection Prevalence : 0.9733         \n",
       "      Balanced Accuracy : 0.6117         \n",
       "                                         \n",
       "       'Positive' Class : Short Trip     \n",
       "                                         "
      ]
     },
     "metadata": {},
     "output_type": "display_data"
    },
    {
     "data": {
      "text/plain": [
       "Area under the curve (AUC): 0.612"
      ]
     },
     "metadata": {},
     "output_type": "display_data"
    },
    {
     "data": {
      "image/png": "[encoded data removed]",
      "text/plain": [
       "Plot with title \"ROC curve\""
      ]
     },
     "metadata": {},
     "output_type": "display_data"
    }
   ],
   "source": [
    "## Confusion matrix\n",
    "confusionMatrix(y_predict, test$trip_duration, positive = 'Short Trip')\n",
    "\n",
    "## plot size settings\n",
    "options(repr.plot.width = 5, repr.plot.height = 5)\n",
    "\n",
    "## ROC curves - Relationship between Sensitivity and Specificity\n",
    "roc.curve(test$trip_duration, y_predict, plotit=T)\n",
    "\n",
    "\n",
    "# Sensitivity = (TP)/(TP+FN) =  43/(43+2625)\n",
    "# Specificity = (TN)/(TN+FP) = 20/(20+81)\n",
    "\n",
    "##                      Actual\n",
    "#                    Short  Long\n",
    "# Predicted Short    TP     FP\n",
    "#           Long     FN     TN\n",
    "\n",
    "# Precision = (TP)/(TP+FP)\n",
    "# Recall = (TP)/(TP+FN)\n"
   ]
  },
  {
   "cell_type": "code",
   "execution_count": 51,
   "metadata": {},
   "outputs": [
    {
     "data": {
      "text/html": [
       "12980"
      ],
      "text/latex": [
       "12980"
      ],
      "text/markdown": [
       "12980"
      ],
      "text/plain": [
       "[1] 12980"
      ]
     },
     "metadata": {},
     "output_type": "display_data"
    }
   ],
   "source": [
    "\n",
    "6490*2"
   ]
  },
  {
   "cell_type": "code",
   "execution_count": 54,
   "metadata": {},
   "outputs": [
    {
     "data": {
      "text/html": [
       "64668"
      ],
      "text/latex": [
       "64668"
      ],
      "text/markdown": [
       "64668"
      ],
      "text/plain": [
       "[1] 64668"
      ]
     },
     "metadata": {},
     "output_type": "display_data"
    }
   ],
   "source": [
    "32334*2"
   ]
  },
  {
   "cell_type": "code",
   "execution_count": 55,
   "metadata": {},
   "outputs": [
    {
     "name": "stdout",
     "output_type": "stream",
     "text": [
      "\n",
      "Short Trip  Long Trip \n",
      "     31252       1035 \n",
      "\n",
      "Short Trip  Long Trip \n",
      "     31252      33416 \n",
      "[1] Short Trip Short Trip Short Trip Short Trip Long Trip  Short Trip\n",
      "Levels: Short Trip Long Trip\n"
     ]
    },
    {
     "data": {
      "text/plain": [
       "Confusion Matrix and Statistics\n",
       "\n",
       "            Reference\n",
       "Prediction   Short Trip Long Trip\n",
       "  Short Trip      11360       108\n",
       "  Long Trip        2062       345\n",
       "                                          \n",
       "               Accuracy : 0.8436          \n",
       "                 95% CI : (0.8375, 0.8496)\n",
       "    No Information Rate : 0.9674          \n",
       "    P-Value [Acc > NIR] : 1               \n",
       "                                          \n",
       "                  Kappa : 0.1971          \n",
       "                                          \n",
       " Mcnemar's Test P-Value : <2e-16          \n",
       "                                          \n",
       "            Sensitivity : 0.8464          \n",
       "            Specificity : 0.7616          \n",
       "         Pos Pred Value : 0.9906          \n",
       "         Neg Pred Value : 0.1433          \n",
       "             Prevalence : 0.9674          \n",
       "         Detection Rate : 0.8187          \n",
       "   Detection Prevalence : 0.8265          \n",
       "      Balanced Accuracy : 0.8040          \n",
       "                                          \n",
       "       'Positive' Class : Short Trip      \n",
       "                                          "
      ]
     },
     "metadata": {},
     "output_type": "display_data"
    },
    {
     "data": {
      "text/plain": [
       "Area under the curve (AUC): 0.804"
      ]
     },
     "metadata": {},
     "output_type": "display_data"
    },
    {
     "data": {
      "image/png": "[encoded data removed]",
      "text/plain": [
       "Plot with title \"ROC curve\""
      ]
     },
     "metadata": {},
     "output_type": "display_data"
    }
   ],
   "source": [
    "\n",
    "print(table(train$trip_duration))\n",
    "## oversampling method\n",
    "over <- ovun.sample(trip_duration ~., data = train, method = \"over\", N=64668)$data\n",
    "print(table(over$trip_duration))\n",
    "\n",
    "# model training\n",
    "model_over <- naiveBayes(as.factor(trip_duration) ~. , data=over)\n",
    "\n",
    "# prediction\n",
    "y_predict_over <- predict(model_over, test, type = 'class')\n",
    "print(head(y_predict_over))\n",
    "\n",
    "## Confusion matrix\n",
    "confusionMatrix(y_predict_over, test$trip_duration, positive = 'Short Trip')\n",
    "\n",
    "# ROC curve\n",
    "options(repr.plot.width = 5, repr.plot.height = 5)\n",
    "roc.curve(test$trip_duration, y_predict_over, plotit=T)"
   ]
  },
  {
   "cell_type": "code",
   "execution_count": 56,
   "metadata": {},
   "outputs": [
    {
     "data": {
      "text/html": [
       "5334"
      ],
      "text/latex": [
       "5334"
      ],
      "text/markdown": [
       "5334"
      ],
      "text/plain": [
       "[1] 5334"
      ]
     },
     "metadata": {},
     "output_type": "display_data"
    }
   ],
   "source": [
    "2667*2"
   ]
  },
  {
   "cell_type": "code",
   "execution_count": 57,
   "metadata": {},
   "outputs": [
    {
     "name": "stdout",
     "output_type": "stream",
     "text": [
      "\n",
      "Short Trip  Long Trip \n",
      "     31252       1035 \n",
      "\n",
      "Short Trip  Long Trip \n",
      "      4299       1035 \n",
      "[1] Short Trip Short Trip Short Trip Short Trip Short Trip Short Trip\n",
      "Levels: Short Trip Long Trip\n"
     ]
    },
    {
     "data": {
      "text/plain": [
       "Confusion Matrix and Statistics\n",
       "\n",
       "            Reference\n",
       "Prediction   Short Trip Long Trip\n",
       "  Short Trip      12578       237\n",
       "  Long Trip         844       216\n",
       "                                          \n",
       "               Accuracy : 0.9221          \n",
       "                 95% CI : (0.9175, 0.9265)\n",
       "    No Information Rate : 0.9674          \n",
       "    P-Value [Acc > NIR] : 1               \n",
       "                                          \n",
       "                  Kappa : 0.2513          \n",
       "                                          \n",
       " Mcnemar's Test P-Value : <2e-16          \n",
       "                                          \n",
       "            Sensitivity : 0.9371          \n",
       "            Specificity : 0.4768          \n",
       "         Pos Pred Value : 0.9815          \n",
       "         Neg Pred Value : 0.2038          \n",
       "             Prevalence : 0.9674          \n",
       "         Detection Rate : 0.9065          \n",
       "   Detection Prevalence : 0.9236          \n",
       "      Balanced Accuracy : 0.7070          \n",
       "                                          \n",
       "       'Positive' Class : Short Trip      \n",
       "                                          "
      ]
     },
     "metadata": {},
     "output_type": "display_data"
    },
    {
     "data": {
      "text/plain": [
       "Area under the curve (AUC): 0.707"
      ]
     },
     "metadata": {},
     "output_type": "display_data"
    },
    {
     "data": {
      "image/png": "[encoded data removed]",
      "text/plain": [
       "Plot with title \"ROC curve\""
      ]
     },
     "metadata": {},
     "output_type": "display_data"
    }
   ],
   "source": [
    "print(table(train$trip_duration))\n",
    "under <- ovun.sample(trip_duration ~., data = train, method = \"under\", N=5334)$data\n",
    "print(table(under$trip_duration))\n",
    "\n",
    "\n",
    "model_under <- naiveBayes(as.factor(trip_duration) ~. , data=under)\n",
    "# print(model)\n",
    "\n",
    "# prediction\n",
    "y_predict_under <- predict(model_under, test, type = 'class')\n",
    "print(head(y_predict_under))\n",
    "\n",
    "## Confusion matrix\n",
    "confusionMatrix(y_predict_under, test$trip_duration, positive = 'Short Trip')\n",
    "\n",
    "# ROC curve\n",
    "options(repr.plot.width = 5, repr.plot.height = 5)\n",
    "roc.curve(test$trip_duration, y_predict_under, plotit=T)"
   ]
  },
  {
   "cell_type": "code",
   "execution_count": 58,
   "metadata": {},
   "outputs": [
    {
     "data": {
      "text/html": [
       "35001"
      ],
      "text/latex": [
       "35001"
      ],
      "text/markdown": [
       "35001"
      ],
      "text/plain": [
       "[1] 35001"
      ]
     },
     "metadata": {},
     "output_type": "display_data"
    }
   ],
   "source": [
    "32334+2667"
   ]
  },
  {
   "cell_type": "code",
   "execution_count": 59,
   "metadata": {},
   "outputs": [
    {
     "name": "stdout",
     "output_type": "stream",
     "text": [
      "\n",
      "Short Trip  Long Trip \n",
      "     31252       1035 \n",
      "\n",
      "Short Trip  Long Trip \n",
      "     17524      17477 \n",
      "[1] Short Trip Short Trip Short Trip Short Trip Long Trip  Short Trip\n",
      "Levels: Short Trip Long Trip\n"
     ]
    },
    {
     "data": {
      "text/plain": [
       "Confusion Matrix and Statistics\n",
       "\n",
       "            Reference\n",
       "Prediction   Short Trip Long Trip\n",
       "  Short Trip      11447       110\n",
       "  Long Trip        1975       343\n",
       "                                          \n",
       "               Accuracy : 0.8497          \n",
       "                 95% CI : (0.8437, 0.8556)\n",
       "    No Information Rate : 0.9674          \n",
       "    P-Value [Acc > NIR] : 1               \n",
       "                                          \n",
       "                  Kappa : 0.2041          \n",
       "                                          \n",
       " Mcnemar's Test P-Value : <2e-16          \n",
       "                                          \n",
       "            Sensitivity : 0.8529          \n",
       "            Specificity : 0.7572          \n",
       "         Pos Pred Value : 0.9905          \n",
       "         Neg Pred Value : 0.1480          \n",
       "             Prevalence : 0.9674          \n",
       "         Detection Rate : 0.8250          \n",
       "   Detection Prevalence : 0.8329          \n",
       "      Balanced Accuracy : 0.8050          \n",
       "                                          \n",
       "       'Positive' Class : Short Trip      \n",
       "                                          "
      ]
     },
     "metadata": {},
     "output_type": "display_data"
    },
    {
     "data": {
      "text/plain": [
       "Area under the curve (AUC): 0.805"
      ]
     },
     "metadata": {},
     "output_type": "display_data"
    },
    {
     "data": {
      "image/png": "[encoded data removed]",
      "text/plain": [
       "Plot with title \"ROC curve\""
      ]
     },
     "metadata": {},
     "output_type": "display_data"
    }
   ],
   "source": [
    "print(table(train$trip_duration))\n",
    "both <- ovun.sample(trip_duration ~., data = train, method = \"both\",\n",
    "                    seed = 222,\n",
    "                    N=35001)$data\n",
    "print(table(both$trip_duration))\n",
    "\n",
    "# model training\n",
    "model_both <- naiveBayes(as.factor(trip_duration) ~. , data=both)\n",
    "# print(model)\n",
    "\n",
    "# prediction\n",
    "y_predict_both <- predict(model_both, test, type = 'class')\n",
    "print(head(y_predict_both))\n",
    "\n",
    "## Confusion matrix\n",
    "confusionMatrix(y_predict_both, test$trip_duration, positive = 'Short Trip')\n",
    "\n",
    "# ROC curve\n",
    "options(repr.plot.width = 5, repr.plot.height = 5)\n",
    "roc.curve(test$trip_duration, y_predict_both, plotit=T)"
   ]
  },
  {
   "cell_type": "markdown",
   "metadata": {},
   "source": [
    "## Decision Trees"
   ]
  },
  {
   "cell_type": "code",
   "execution_count": 60,
   "metadata": {},
   "outputs": [
    {
     "data": {
      "text/plain": [
       "Confusion Matrix and Statistics\n",
       "\n",
       "            Reference\n",
       "Prediction   Short Trip Long Trip\n",
       "  Short Trip      13422       453\n",
       "  Long Trip           0         0\n",
       "                                          \n",
       "               Accuracy : 0.9674          \n",
       "                 95% CI : (0.9643, 0.9702)\n",
       "    No Information Rate : 0.9674          \n",
       "    P-Value [Acc > NIR] : 0.5125          \n",
       "                                          \n",
       "                  Kappa : 0               \n",
       "                                          \n",
       " Mcnemar's Test P-Value : <2e-16          \n",
       "                                          \n",
       "            Sensitivity : 1.0000          \n",
       "            Specificity : 0.0000          \n",
       "         Pos Pred Value : 0.9674          \n",
       "         Neg Pred Value :    NaN          \n",
       "             Prevalence : 0.9674          \n",
       "         Detection Rate : 0.9674          \n",
       "   Detection Prevalence : 1.0000          \n",
       "      Balanced Accuracy : 0.5000          \n",
       "                                          \n",
       "       'Positive' Class : Short Trip      \n",
       "                                          "
      ]
     },
     "metadata": {},
     "output_type": "display_data"
    },
    {
     "data": {
      "text/plain": [
       "Area under the curve (AUC): 0.500"
      ]
     },
     "metadata": {},
     "output_type": "display_data"
    },
    {
     "data": {
      "image/png": "[encoded data removed]",
      "text/plain": [
       "Plot with title \"ROC curve\""
      ]
     },
     "metadata": {},
     "output_type": "display_data"
    }
   ],
   "source": [
    "# predictors -- independent variables\n",
    "predictors <- train[, -which(names(train) %in% c('trip_duration')) ]\n",
    "\n",
    "# Predicting \"trip types\" on test dataset using trained model\n",
    "dt_model <- C5.0.default(x = predictors, y = train$trip_duration)\n",
    "\n",
    "# prediction \n",
    "y_predict_dt <- predict(dt_model, test, type = 'class')\n",
    "# print(head(y_predict_dt))\n",
    "\n",
    "## Confusion matrix\n",
    "confusionMatrix(y_predict_dt, test$trip_duration, positive = 'Short Trip')\n",
    "\n",
    "# ROC curve\n",
    "options(repr.plot.width = 5, repr.plot.height = 5)\n",
    "roc.curve(test$trip_duration, y_predict_dt, plotit=T)"
   ]
  },
  {
   "cell_type": "markdown",
   "metadata": {},
   "source": [
    "### Decision Tree - over"
   ]
  },
  {
   "cell_type": "code",
   "execution_count": 61,
   "metadata": {},
   "outputs": [
    {
     "name": "stdout",
     "output_type": "stream",
     "text": [
      "[1] Short Trip Short Trip Short Trip Short Trip Short Trip Short Trip\n",
      "Levels: Short Trip Long Trip\n"
     ]
    },
    {
     "data": {
      "text/plain": [
       "Confusion Matrix and Statistics\n",
       "\n",
       "            Reference\n",
       "Prediction   Short Trip Long Trip\n",
       "  Short Trip      12777       308\n",
       "  Long Trip         645       145\n",
       "                                         \n",
       "               Accuracy : 0.9313         \n",
       "                 95% CI : (0.927, 0.9355)\n",
       "    No Information Rate : 0.9674         \n",
       "    P-Value [Acc > NIR] : 1              \n",
       "                                         \n",
       "                  Kappa : 0.2001         \n",
       "                                         \n",
       " Mcnemar's Test P-Value : <2e-16         \n",
       "                                         \n",
       "            Sensitivity : 0.9519         \n",
       "            Specificity : 0.3201         \n",
       "         Pos Pred Value : 0.9765         \n",
       "         Neg Pred Value : 0.1835         \n",
       "             Prevalence : 0.9674         \n",
       "         Detection Rate : 0.9209         \n",
       "   Detection Prevalence : 0.9431         \n",
       "      Balanced Accuracy : 0.6360         \n",
       "                                         \n",
       "       'Positive' Class : Short Trip     \n",
       "                                         "
      ]
     },
     "metadata": {},
     "output_type": "display_data"
    },
    {
     "data": {
      "text/plain": [
       "Area under the curve (AUC): 0.636"
      ]
     },
     "metadata": {},
     "output_type": "display_data"
    },
    {
     "data": {
      "image/png": "[encoded data removed]",
      "text/plain": [
       "Plot with title \"ROC curve\""
      ]
     },
     "metadata": {},
     "output_type": "display_data"
    }
   ],
   "source": [
    "# predictors -- independent variables\n",
    "\n",
    "# over\n",
    "predictors_over <- over[, -which(names(over) %in% c('trip_duration')) ]\n",
    "\n",
    "# Predicting \"trip types\" on test dataset using trained model\n",
    "dt_model_over <- C5.0.default(x = predictors_over, y = over$trip_duration)\n",
    "\n",
    "# prediction \n",
    "y_predict_dt_over <- predict(dt_model_over, test, type = 'class')\n",
    "print(head(y_predict_dt_over))\n",
    "\n",
    "## Confusion matrix\n",
    "confusionMatrix(y_predict_dt_over, test$trip_duration, positive = 'Short Trip')\n",
    "\n",
    "# ROC curve\n",
    "options(repr.plot.width = 5, repr.plot.height = 5)\n",
    "roc.curve(test$trip_duration, y_predict_dt_over, plotit=T)\n"
   ]
  },
  {
   "cell_type": "markdown",
   "metadata": {},
   "source": [
    "### Decision Tree - down"
   ]
  },
  {
   "cell_type": "code",
   "execution_count": 62,
   "metadata": {},
   "outputs": [
    {
     "name": "stdout",
     "output_type": "stream",
     "text": [
      "[1] Short Trip Short Trip Short Trip Short Trip Short Trip Short Trip\n",
      "Levels: Short Trip Long Trip\n"
     ]
    },
    {
     "data": {
      "text/plain": [
       "Confusion Matrix and Statistics\n",
       "\n",
       "            Reference\n",
       "Prediction   Short Trip Long Trip\n",
       "  Short Trip      12449       187\n",
       "  Long Trip         973       266\n",
       "                                         \n",
       "               Accuracy : 0.9164         \n",
       "                 95% CI : (0.9117, 0.921)\n",
       "    No Information Rate : 0.9674         \n",
       "    P-Value [Acc > NIR] : 1              \n",
       "                                         \n",
       "                  Kappa : 0.28           \n",
       "                                         \n",
       " Mcnemar's Test P-Value : <2e-16         \n",
       "                                         \n",
       "            Sensitivity : 0.9275         \n",
       "            Specificity : 0.5872         \n",
       "         Pos Pred Value : 0.9852         \n",
       "         Neg Pred Value : 0.2147         \n",
       "             Prevalence : 0.9674         \n",
       "         Detection Rate : 0.8972         \n",
       "   Detection Prevalence : 0.9107         \n",
       "      Balanced Accuracy : 0.7574         \n",
       "                                         \n",
       "       'Positive' Class : Short Trip     \n",
       "                                         "
      ]
     },
     "metadata": {},
     "output_type": "display_data"
    },
    {
     "data": {
      "text/plain": [
       "Area under the curve (AUC): 0.757"
      ]
     },
     "metadata": {},
     "output_type": "display_data"
    },
    {
     "data": {
      "image/png": "[encoded data removed]",
      "text/plain": [
       "Plot with title \"ROC curve\""
      ]
     },
     "metadata": {},
     "output_type": "display_data"
    }
   ],
   "source": [
    "# predictors -- independent variables\n",
    "\n",
    "# down\n",
    "predictors_under <- under[, -which(names(under) %in% c('trip_duration')) ]\n",
    "\n",
    "# Predicting \"trip types\" on test dataset using trained model\n",
    "dt_model_under <- C5.0.default(x = predictors_under, y = under$trip_duration)\n",
    "\n",
    "# prediction \n",
    "y_predict_dt_under <- predict(dt_model_under, test, type = 'class')\n",
    "print(head(y_predict_dt_under))\n",
    "\n",
    "## Confusion matrix\n",
    "confusionMatrix(y_predict_dt_under, test$trip_duration, positive = 'Short Trip')\n",
    "\n",
    "# ROC curve\n",
    "options(repr.plot.width = 5, repr.plot.height = 5)\n",
    "roc.curve(test$trip_duration, y_predict_dt_under, plotit=T)"
   ]
  },
  {
   "cell_type": "markdown",
   "metadata": {},
   "source": [
    "### Decision Tree - Both"
   ]
  },
  {
   "cell_type": "code",
   "execution_count": 63,
   "metadata": {},
   "outputs": [
    {
     "name": "stdout",
     "output_type": "stream",
     "text": [
      "[1] Short Trip Short Trip Short Trip Short Trip Long Trip  Short Trip\n",
      "Levels: Short Trip Long Trip\n"
     ]
    },
    {
     "data": {
      "text/plain": [
       "Confusion Matrix and Statistics\n",
       "\n",
       "            Reference\n",
       "Prediction   Short Trip Long Trip\n",
       "  Short Trip      12472       267\n",
       "  Long Trip         950       186\n",
       "                                          \n",
       "               Accuracy : 0.9123          \n",
       "                 95% CI : (0.9075, 0.9169)\n",
       "    No Information Rate : 0.9674          \n",
       "    P-Value [Acc > NIR] : 1               \n",
       "                                          \n",
       "                  Kappa : 0.1966          \n",
       "                                          \n",
       " Mcnemar's Test P-Value : <2e-16          \n",
       "                                          \n",
       "            Sensitivity : 0.9292          \n",
       "            Specificity : 0.4106          \n",
       "         Pos Pred Value : 0.9790          \n",
       "         Neg Pred Value : 0.1637          \n",
       "             Prevalence : 0.9674          \n",
       "         Detection Rate : 0.8989          \n",
       "   Detection Prevalence : 0.9181          \n",
       "      Balanced Accuracy : 0.6699          \n",
       "                                          \n",
       "       'Positive' Class : Short Trip      \n",
       "                                          "
      ]
     },
     "metadata": {},
     "output_type": "display_data"
    },
    {
     "data": {
      "text/plain": [
       "Area under the curve (AUC): 0.670"
      ]
     },
     "metadata": {},
     "output_type": "display_data"
    },
    {
     "data": {
      "image/png": "[encoded data removed]",
      "text/plain": [
       "Plot with title \"ROC curve\""
      ]
     },
     "metadata": {},
     "output_type": "display_data"
    }
   ],
   "source": [
    "# predictors -- independent variables\n",
    "\n",
    "# both\n",
    "predictors_both <- both[, -which(names(both) %in% c('trip_duration')) ]\n",
    "\n",
    "# Predicting \"trip types\" on test dataset using trained model\n",
    "dt_model_both <- C5.0.default(x = predictors_both, y = both$trip_duration)\n",
    "\n",
    "# prediction \n",
    "y_predict_dt_both <- predict(dt_model_both, test, type = 'class')\n",
    "print(head(y_predict_dt_both))\n",
    "\n",
    "## Confusion matrix\n",
    "confusionMatrix(y_predict_dt_both, test$trip_duration, positive = 'Short Trip')\n",
    "\n",
    "# ROC curve\n",
    "options(repr.plot.width = 5, repr.plot.height = 5)\n",
    "roc.curve(test$trip_duration, y_predict_dt_both, plotit=T)"
   ]
  },
  {
   "cell_type": "code",
   "execution_count": null,
   "metadata": {},
   "outputs": [],
   "source": []
  },
  {
   "cell_type": "code",
   "execution_count": null,
   "metadata": {},
   "outputs": [],
   "source": []
  },
  {
   "cell_type": "markdown",
   "metadata": {},
   "source": [
    "## Neural Network"
   ]
  },
  {
   "cell_type": "code",
   "execution_count": 64,
   "metadata": {},
   "outputs": [],
   "source": [
    "\n",
    "# # Features creation\n",
    "# features <- names(train[, -which(names(train) %in% c('trip_duration'))])\n",
    "# features\n",
    "\n",
    "# f <- paste(features, collapse=' + ')\n",
    "# f <- paste('trip_duration ~', f)\n",
    "# f\n",
    "\n",
    "# # Convert to formula\n",
    "# f <- as.formula(f)\n",
    "# f\n",
    "\n",
    "# nn <- neuralnet(f, train, hidden = 5, linear.output = FALSE )\n"
   ]
  },
  {
   "cell_type": "code",
   "execution_count": 65,
   "metadata": {},
   "outputs": [],
   "source": [
    "# # install.packages('plyr')\n",
    "# library(plyr)"
   ]
  },
  {
   "cell_type": "code",
   "execution_count": 66,
   "metadata": {},
   "outputs": [],
   "source": [
    "# # Compute Predictions off Test Set\n",
    "# predicted <- compute(nn, test[,-3])\n",
    "\n",
    "# # Check out net.result\n",
    "# # head(predicted$net.result)\n",
    "\n",
    "# predicted$net.result <- sapply(predicted$net.result, round, digits = 0)\n",
    "# # head(predicted$net.result)\n",
    "\n",
    "# evaluation <- data.frame(test$trip_duration, predicted$net.result)\n",
    "# # head(evaluation)\n",
    "# colnames(evaluation) <- c(\"actual\", \"predict\")\n",
    "# head(evaluation)\n",
    "\n",
    "# evaluation$predict <- mapvalues(evaluation$predict, c(0, 1), c(\"Short Trip\", \"Long Trip\"))\n",
    "# evaluation$predict <- as.factor(evaluation$predict)\n",
    "# head(evaluation)\n",
    "# table(evaluation$actual, evaluation$predict)\n",
    "\n",
    "# # Confusion matrix\n",
    "# confusionMatrix(evaluation$predict, evaluation$actual, positive = 'Short Trip')\n",
    "\n",
    "# # # ROC curve\n",
    "# # options(repr.plot.width = 5, repr.plot.height = 5)\n",
    "# # roc.curve(test$trip_duration, predicted$net.result, plotit=T)"
   ]
  },
  {
   "cell_type": "code",
   "execution_count": null,
   "metadata": {},
   "outputs": [],
   "source": []
  },
  {
   "cell_type": "code",
   "execution_count": 67,
   "metadata": {},
   "outputs": [],
   "source": [
    "# # Features creation\n",
    "# features_over <- names(over[, -which(names(over) %in% c('trip_duration'))])\n",
    "# features_over\n",
    "\n",
    "# f_over <- paste(features_over, collapse=' + ')\n",
    "# f_over <- paste('trip_duration ~', f_over)\n",
    "# f_over\n",
    "\n",
    "# # Convert to formula\n",
    "# f_over <- as.formula(f_over)\n",
    "# f_over\n",
    "\n",
    "# nn <- neuralnet(f_over, over, hidden = 5, linear.output = FALSE )"
   ]
  },
  {
   "cell_type": "code",
   "execution_count": null,
   "metadata": {},
   "outputs": [],
   "source": []
  },
  {
   "cell_type": "code",
   "execution_count": null,
   "metadata": {},
   "outputs": [],
   "source": []
  },
  {
   "cell_type": "code",
   "execution_count": null,
   "metadata": {},
   "outputs": [],
   "source": []
  },
  {
   "cell_type": "markdown",
   "metadata": {},
   "source": [
    "## SVM"
   ]
  },
  {
   "cell_type": "code",
   "execution_count": 68,
   "metadata": {},
   "outputs": [],
   "source": [
    "set.seed(123)"
   ]
  },
  {
   "cell_type": "code",
   "execution_count": 69,
   "metadata": {},
   "outputs": [],
   "source": [
    "library(e1071)"
   ]
  },
  {
   "cell_type": "code",
   "execution_count": null,
   "metadata": {},
   "outputs": [],
   "source": [
    "\n"
   ]
  },
  {
   "cell_type": "code",
   "execution_count": 70,
   "metadata": {},
   "outputs": [
    {
     "name": "stdout",
     "output_type": "stream",
     "text": [
      "         1          2          3          4          5          6 \n",
      "Short Trip Short Trip Short Trip Short Trip Short Trip Short Trip \n",
      "Levels: Short Trip Long Trip\n"
     ]
    },
    {
     "data": {
      "text/plain": [
       "Confusion Matrix and Statistics\n",
       "\n",
       "            Reference\n",
       "Prediction   Short Trip Long Trip\n",
       "  Short Trip      13422       453\n",
       "  Long Trip           0         0\n",
       "                                          \n",
       "               Accuracy : 0.9674          \n",
       "                 95% CI : (0.9643, 0.9702)\n",
       "    No Information Rate : 0.9674          \n",
       "    P-Value [Acc > NIR] : 0.5125          \n",
       "                                          \n",
       "                  Kappa : 0               \n",
       "                                          \n",
       " Mcnemar's Test P-Value : <2e-16          \n",
       "                                          \n",
       "            Sensitivity : 1.0000          \n",
       "            Specificity : 0.0000          \n",
       "         Pos Pred Value : 0.9674          \n",
       "         Neg Pred Value :    NaN          \n",
       "             Prevalence : 0.9674          \n",
       "         Detection Rate : 0.9674          \n",
       "   Detection Prevalence : 1.0000          \n",
       "      Balanced Accuracy : 0.5000          \n",
       "                                          \n",
       "       'Positive' Class : Short Trip      \n",
       "                                          "
      ]
     },
     "metadata": {},
     "output_type": "display_data"
    },
    {
     "data": {
      "text/plain": [
       "Area under the curve (AUC): 0.500"
      ]
     },
     "metadata": {},
     "output_type": "display_data"
    },
    {
     "data": {
      "image/png": "[encoded data removed]",
      "text/plain": [
       "Plot with title \"ROC curve\""
      ]
     },
     "metadata": {},
     "output_type": "display_data"
    }
   ],
   "source": [
    "## Build model – linear kernel and C-classification (soft margin) \n",
    "# with default cost (C=1), all default settings.\n",
    "svm_model <- svm(trip_duration ~ ., data=train, method=\"C-classification\", \n",
    "                 kernel=\"radial\")\n",
    "\n",
    "# prediction \n",
    "y_predict_svm <- predict(svm_model, test, type = 'class')\n",
    "print(head(y_predict_svm))\n",
    "\n",
    "## Confusion matrix\n",
    "confusionMatrix(y_predict_svm, test$trip_duration, positive = 'Short Trip')\n",
    "\n",
    "# ROC curve\n",
    "options(repr.plot.width = 5, repr.plot.height = 5)\n",
    "roc.curve(test$trip_duration, y_predict_svm, plotit=T)"
   ]
  },
  {
   "cell_type": "markdown",
   "metadata": {},
   "source": [
    "### SVM - over"
   ]
  },
  {
   "cell_type": "code",
   "execution_count": 71,
   "metadata": {},
   "outputs": [
    {
     "name": "stdout",
     "output_type": "stream",
     "text": [
      "         1          2          3          4          5          6 \n",
      "Short Trip Short Trip Short Trip Short Trip Short Trip Short Trip \n",
      "Levels: Short Trip Long Trip\n"
     ]
    },
    {
     "data": {
      "text/plain": [
       "Confusion Matrix and Statistics\n",
       "\n",
       "            Reference\n",
       "Prediction   Short Trip Long Trip\n",
       "  Short Trip      11570       129\n",
       "  Long Trip        1852       324\n",
       "                                         \n",
       "               Accuracy : 0.8572         \n",
       "                 95% CI : (0.8513, 0.863)\n",
       "    No Information Rate : 0.9674         \n",
       "    P-Value [Acc > NIR] : 1              \n",
       "                                         \n",
       "                  Kappa : 0.2034         \n",
       "                                         \n",
       " Mcnemar's Test P-Value : <2e-16         \n",
       "                                         \n",
       "            Sensitivity : 0.8620         \n",
       "            Specificity : 0.7152         \n",
       "         Pos Pred Value : 0.9890         \n",
       "         Neg Pred Value : 0.1489         \n",
       "             Prevalence : 0.9674         \n",
       "         Detection Rate : 0.8339         \n",
       "   Detection Prevalence : 0.8432         \n",
       "      Balanced Accuracy : 0.7886         \n",
       "                                         \n",
       "       'Positive' Class : Short Trip     \n",
       "                                         "
      ]
     },
     "metadata": {},
     "output_type": "display_data"
    },
    {
     "data": {
      "text/plain": [
       "Area under the curve (AUC): 0.789"
      ]
     },
     "metadata": {},
     "output_type": "display_data"
    },
    {
     "data": {
      "image/png": "[encoded data removed]",
      "text/plain": [
       "Plot with title \"ROC curve\""
      ]
     },
     "metadata": {},
     "output_type": "display_data"
    }
   ],
   "source": [
    "## Build model – linear kernel and C-classification (soft margin) \n",
    "# with default cost (C=1), all default settings.\n",
    "svm_model_over <- svm(trip_duration ~ ., data=over, method=\"C-classification\", \n",
    "                      kernel=\"radial\")\n",
    "\n",
    "# prediction \n",
    "y_predict_svm_over <- predict(svm_model_over, test, type = 'class')\n",
    "print(head(y_predict_svm_over))\n",
    "\n",
    "## Confusion matrix\n",
    "confusionMatrix(y_predict_svm_over, test$trip_duration, positive = 'Short Trip')\n",
    "\n",
    "# ROC curve\n",
    "options(repr.plot.width = 5, repr.plot.height = 5)\n",
    "roc.curve(test$trip_duration, y_predict_svm_over, plotit=T)"
   ]
  },
  {
   "cell_type": "markdown",
   "metadata": {},
   "source": [
    "## SVM - under"
   ]
  },
  {
   "cell_type": "code",
   "execution_count": 72,
   "metadata": {},
   "outputs": [
    {
     "name": "stdout",
     "output_type": "stream",
     "text": [
      "         1          2          3          4          5          6 \n",
      "Short Trip Short Trip Short Trip Short Trip Short Trip Short Trip \n",
      "Levels: Short Trip Long Trip\n"
     ]
    },
    {
     "data": {
      "text/plain": [
       "Confusion Matrix and Statistics\n",
       "\n",
       "            Reference\n",
       "Prediction   Short Trip Long Trip\n",
       "  Short Trip      12857       242\n",
       "  Long Trip         565       211\n",
       "                                          \n",
       "               Accuracy : 0.9418          \n",
       "                 95% CI : (0.9378, 0.9457)\n",
       "    No Information Rate : 0.9674          \n",
       "    P-Value [Acc > NIR] : 1               \n",
       "                                          \n",
       "                  Kappa : 0.3151          \n",
       "                                          \n",
       " Mcnemar's Test P-Value : <2e-16          \n",
       "                                          \n",
       "            Sensitivity : 0.9579          \n",
       "            Specificity : 0.4658          \n",
       "         Pos Pred Value : 0.9815          \n",
       "         Neg Pred Value : 0.2719          \n",
       "             Prevalence : 0.9674          \n",
       "         Detection Rate : 0.9266          \n",
       "   Detection Prevalence : 0.9441          \n",
       "      Balanced Accuracy : 0.7118          \n",
       "                                          \n",
       "       'Positive' Class : Short Trip      \n",
       "                                          "
      ]
     },
     "metadata": {},
     "output_type": "display_data"
    },
    {
     "data": {
      "text/plain": [
       "Area under the curve (AUC): 0.712"
      ]
     },
     "metadata": {},
     "output_type": "display_data"
    },
    {
     "data": {
      "image/png": "[encoded data removed]",
      "text/plain": [
       "Plot with title \"ROC curve\""
      ]
     },
     "metadata": {},
     "output_type": "display_data"
    }
   ],
   "source": [
    "## Build model – linear kernel and C-classification (soft margin) \n",
    "# with default cost (C=1), all default settings.\n",
    "svm_model_under <- svm(trip_duration ~ ., data=under, method=\"C-classification\", \n",
    "                      kernel=\"radial\")\n",
    "\n",
    "# prediction \n",
    "y_predict_svm_under <- predict(svm_model_under, test, type = 'class')\n",
    "print(head(y_predict_svm_under))\n",
    "\n",
    "## Confusion matrix\n",
    "confusionMatrix(y_predict_svm_under, test$trip_duration, positive = 'Short Trip')\n",
    "\n",
    "# ROC curve\n",
    "options(repr.plot.width = 5, repr.plot.height = 5)\n",
    "roc.curve(test$trip_duration, y_predict_svm_under, plotit=T)"
   ]
  },
  {
   "cell_type": "markdown",
   "metadata": {},
   "source": [
    "## SVM - Both"
   ]
  },
  {
   "cell_type": "code",
   "execution_count": 73,
   "metadata": {},
   "outputs": [
    {
     "name": "stdout",
     "output_type": "stream",
     "text": [
      "         1          2          3          4          5          6 \n",
      "Short Trip Short Trip Short Trip Short Trip Short Trip Short Trip \n",
      "Levels: Short Trip Long Trip\n"
     ]
    },
    {
     "data": {
      "text/plain": [
       "Confusion Matrix and Statistics\n",
       "\n",
       "            Reference\n",
       "Prediction   Short Trip Long Trip\n",
       "  Short Trip      11602       123\n",
       "  Long Trip        1820       330\n",
       "                                          \n",
       "               Accuracy : 0.86            \n",
       "                 95% CI : (0.8541, 0.8657)\n",
       "    No Information Rate : 0.9674          \n",
       "    P-Value [Acc > NIR] : 1               \n",
       "                                          \n",
       "                  Kappa : 0.211           \n",
       "                                          \n",
       " Mcnemar's Test P-Value : <2e-16          \n",
       "                                          \n",
       "            Sensitivity : 0.8644          \n",
       "            Specificity : 0.7285          \n",
       "         Pos Pred Value : 0.9895          \n",
       "         Neg Pred Value : 0.1535          \n",
       "             Prevalence : 0.9674          \n",
       "         Detection Rate : 0.8362          \n",
       "   Detection Prevalence : 0.8450          \n",
       "      Balanced Accuracy : 0.7964          \n",
       "                                          \n",
       "       'Positive' Class : Short Trip      \n",
       "                                          "
      ]
     },
     "metadata": {},
     "output_type": "display_data"
    },
    {
     "data": {
      "text/plain": [
       "Area under the curve (AUC): 0.796"
      ]
     },
     "metadata": {},
     "output_type": "display_data"
    },
    {
     "data": {
      "image/png": "[encoded data removed]",
      "text/plain": [
       "Plot with title \"ROC curve\""
      ]
     },
     "metadata": {},
     "output_type": "display_data"
    }
   ],
   "source": [
    "## Build model – linear kernel and C-classification (soft margin) \n",
    "# with default cost (C=1), all default settings.\n",
    "svm_model_both <- svm(trip_duration ~ ., data=both, method=\"C-classification\", \n",
    "                      kernel=\"radial\")\n",
    "\n",
    "# prediction \n",
    "y_predict_svm_both <- predict(svm_model_both, test, type = 'class')\n",
    "print(head(y_predict_svm_both))\n",
    "\n",
    "## Confusion matrix\n",
    "confusionMatrix(y_predict_svm_both, test$trip_duration, positive = 'Short Trip')\n",
    "\n",
    "# ROC curve\n",
    "options(repr.plot.width = 5, repr.plot.height = 5)\n",
    "roc.curve(test$trip_duration, y_predict_svm_both, plotit=T)"
   ]
  },
  {
   "cell_type": "code",
   "execution_count": null,
   "metadata": {},
   "outputs": [],
   "source": []
  },
  {
   "cell_type": "code",
   "execution_count": null,
   "metadata": {},
   "outputs": [],
   "source": []
  },
  {
   "cell_type": "code",
   "execution_count": null,
   "metadata": {},
   "outputs": [],
   "source": []
  },
  {
   "cell_type": "code",
   "execution_count": null,
   "metadata": {},
   "outputs": [],
   "source": []
  },
  {
   "cell_type": "code",
   "execution_count": null,
   "metadata": {},
   "outputs": [],
   "source": []
  },
  {
   "cell_type": "code",
   "execution_count": null,
   "metadata": {},
   "outputs": [],
   "source": []
  }
 ],
 "metadata": {
  "kernelspec": {
   "display_name": "R",
   "language": "R",
   "name": "ir"
  },
  "language_info": {
   "codemirror_mode": "r",
   "file_extension": ".r",
   "mimetype": "text/x-r-source",
   "name": "R",
   "pygments_lexer": "r",
   "version": "3.6.1"
  }
 },
 "nbformat": 4,
 "nbformat_minor": 4
}
