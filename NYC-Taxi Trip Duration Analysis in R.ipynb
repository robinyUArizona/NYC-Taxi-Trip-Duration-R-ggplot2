{
 "cells": [
  {
   "cell_type": "markdown",
   "metadata": {},
   "source": [
    "# NYC Trip Duration Analysis"
   ]
  },
  {
   "cell_type": "markdown",
   "metadata": {},
   "source": [
    "![](https://github.com/robinyUArizona/NYC-Taxi-Trip-Duration-R-ggplot2/blob/master/NYC-Taxi-Trip-Duration-Pic.PNG?raw=true)"
   ]
  },
  {
   "cell_type": "code",
   "execution_count": 1,
   "metadata": {},
   "outputs": [],
   "source": [
    "#### New York Taxi trip duration ####\n",
    "\n",
    "#### Libraries or Packages #####################################\n",
    "# install.packages('dplyr') \n",
    "# install.packages('lubridate')\n",
    "# install.packages('vcd')\n",
    "# install.packages('ggplot2')\n",
    "# install.packages('gridExtra')\n",
    "# install.packages('geosphere')\n",
    "# install.packages('caret')\n",
    "# install.packages('ellipse')\n",
    "# install.packages('e1071')\n",
    "# install.packages('class')\n",
    "# install.packages('klaR')\n"
   ]
  },
  {
   "cell_type": "code",
   "execution_count": 2,
   "metadata": {},
   "outputs": [
    {
     "name": "stderr",
     "output_type": "stream",
     "text": [
      "Warning message:\n",
      "\"package 'dplyr' was built under R version 3.6.3\"\n",
      "Attaching package: 'dplyr'\n",
      "\n",
      "The following objects are masked from 'package:stats':\n",
      "\n",
      "    filter, lag\n",
      "\n",
      "The following objects are masked from 'package:base':\n",
      "\n",
      "    intersect, setdiff, setequal, union\n",
      "\n",
      "Warning message:\n",
      "\"package 'lubridate' was built under R version 3.6.3\"\n",
      "Attaching package: 'lubridate'\n",
      "\n",
      "The following object is masked from 'package:base':\n",
      "\n",
      "    date\n",
      "\n",
      "Warning message:\n",
      "\"package 'vcd' was built under R version 3.6.3\"Loading required package: grid\n",
      "Warning message:\n",
      "\"package 'ggplot2' was built under R version 3.6.2\"Warning message:\n",
      "\"package 'gridExtra' was built under R version 3.6.3\"\n",
      "Attaching package: 'gridExtra'\n",
      "\n",
      "The following object is masked from 'package:dplyr':\n",
      "\n",
      "    combine\n",
      "\n",
      "Warning message:\n",
      "\"package 'geosphere' was built under R version 3.6.3\"Warning message:\n",
      "\"package 'caret' was built under R version 3.6.3\"Loading required package: lattice\n",
      "Warning message:\n",
      "\"package 'ellipse' was built under R version 3.6.3\"\n",
      "Attaching package: 'ellipse'\n",
      "\n",
      "The following object is masked from 'package:graphics':\n",
      "\n",
      "    pairs\n",
      "\n",
      "Warning message:\n",
      "\"package 'e1071' was built under R version 3.6.3\"Warning message:\n",
      "\"package 'class' was built under R version 3.6.3\"Warning message:\n",
      "\"package 'klaR' was built under R version 3.6.3\"Loading required package: MASS\n",
      "Warning message:\n",
      "\"package 'MASS' was built under R version 3.6.2\"\n",
      "Attaching package: 'MASS'\n",
      "\n",
      "The following object is masked from 'package:dplyr':\n",
      "\n",
      "    select\n",
      "\n"
     ]
    }
   ],
   "source": [
    "## load packages\n",
    "library(dplyr)\n",
    "library(lubridate) # for date-time formatting\n",
    "library(vcd) # for distribution plot\n",
    "library(ggplot2) # for visualisation\n",
    "library(gridExtra) # for grid for multiplot\n",
    "library(geosphere)\n",
    "library(caret)\n",
    "library(ellipse)\n",
    "library(e1071) # for svm\n",
    "library(class) # for knn\n",
    "library(klaR) # for nb-naiveBayes\n",
    "library(repr)\n",
    "options(repr.plot.width=4, repr.plot.height=3)"
   ]
  },
  {
   "cell_type": "code",
   "execution_count": 3,
   "metadata": {},
   "outputs": [],
   "source": [
    "#################################################################\n",
    "\n",
    "# train_data <- read.csv('train.csv')\n",
    "# \n",
    "# set.seed(123)\n",
    "# sample_size <- 70000\n",
    "# sample_train_data <- train_data[sample(nrow(train_data), size=sample_size,\n",
    "#                             replace=FALSE), ]\n",
    "# \n",
    "# ## Save sample_train_data as 'sample_train.csv' file\n",
    "# write.csv(sample_train_data, \"sample_train.csv\", row.names = FALSE)"
   ]
  },
  {
   "cell_type": "code",
   "execution_count": 4,
   "metadata": {},
   "outputs": [
    {
     "name": "stdout",
     "output_type": "stream",
     "text": [
      "Dimension of Sample Train Data: \n",
      "[1] 70000    11\n",
      "Column Names: \n",
      " [1] \"id\"                 \"vendor_id\"          \"pickup_datetime\"   \n",
      " [4] \"dropoff_datetime\"   \"passenger_count\"    \"pickup_longitude\"  \n",
      " [7] \"pickup_latitude\"    \"dropoff_longitude\"  \"dropoff_latitude\"  \n",
      "[10] \"store_and_fwd_flag\" \"trip_duration\"     \n"
     ]
    }
   ],
   "source": [
    "new_train_data <- read.csv('sample_train.csv')\n",
    "cat('Dimension of Sample Train Data: \\n')\n",
    "print(dim(new_train_data))\n",
    "cat('Column Names: \\n')\n",
    "print(colnames(new_train_data))"
   ]
  },
  {
   "cell_type": "code",
   "execution_count": 5,
   "metadata": {},
   "outputs": [
    {
     "name": "stdout",
     "output_type": "stream",
     "text": [
      "Check for missing value: \n",
      "[1] 0\n",
      "check missing value in each column: \n",
      "                id          vendor_id    pickup_datetime   dropoff_datetime \n",
      "                 0                  0                  0                  0 \n",
      "   passenger_count   pickup_longitude    pickup_latitude  dropoff_longitude \n",
      "                 0                  0                  0                  0 \n",
      "  dropoff_latitude store_and_fwd_flag      trip_duration \n",
      "                 0                  0                  0 \n"
     ]
    }
   ],
   "source": [
    "## Check for missing value\n",
    "cat('Check for missing value: \\n')\n",
    "print(sum(is.na(new_train_data)))\n",
    "cat('check missing value in each column: \\n')\n",
    "print(colSums(is.na(new_train_data)))\n"
   ]
  },
  {
   "cell_type": "code",
   "execution_count": 6,
   "metadata": {},
   "outputs": [
    {
     "name": "stdout",
     "output_type": "stream",
     "text": [
      "Origina Data Format: \n",
      "'data.frame':\t70000 obs. of  11 variables:\n",
      " $ id                : Factor w/ 70000 levels \"id0000003\",\"id0000023\",..: 49664 8613 69213 68729 55700 35130 58637 53179 47855 66101 ...\n",
      " $ vendor_id         : int  1 1 2 2 1 1 1 2 1 2 ...\n",
      " $ pickup_datetime   : Factor w/ 69805 levels \"2016-01-01 00:01:01\",..: 61853 36201 18131 39258 15901 39772 43253 17290 29266 20824 ...\n",
      " $ dropoff_datetime  : Factor w/ 69814 levels \"2016-01-01 00:07:49\",..: 61852 36206 18128 39268 15901 39776 43249 17284 29280 20825 ...\n",
      " $ passenger_count   : int  1 4 1 1 1 1 1 2 1 1 ...\n",
      " $ pickup_longitude  : num  -74 -74 -74 -74 -74 ...\n",
      " $ pickup_latitude   : num  40.7 40.7 40.8 40.8 40.8 ...\n",
      " $ dropoff_longitude : num  -74 -74 -74 -74 -74 ...\n",
      " $ dropoff_latitude  : num  40.8 40.7 40.8 40.8 40.8 ...\n",
      " $ store_and_fwd_flag: Factor w/ 2 levels \"N\",\"Y\": 1 1 1 1 1 1 1 1 1 1 ...\n",
      " $ trip_duration     : int  1034 422 93 1518 532 303 239 263 581 387 ...\n",
      "NULL\n"
     ]
    }
   ],
   "source": [
    "## Summary of data\n",
    "# cat('Summary of New Train Data: \\n')\n",
    "# print(summary(new_train_data))\n",
    "cat('Origina Data Format: \\n')\n",
    "print(str(new_train_data))"
   ]
  },
  {
   "cell_type": "code",
   "execution_count": 7,
   "metadata": {},
   "outputs": [
    {
     "name": "stdout",
     "output_type": "stream",
     "text": [
      "List the types of Attributes: \n",
      "'data.frame':\t70000 obs. of  11 variables:\n",
      " $ id                : Factor w/ 70000 levels \"id0000003\",\"id0000023\",..: 49664 8613 69213 68729 55700 35130 58637 53179 47855 66101 ...\n",
      " $ vendor_id         : int  1 1 2 2 1 1 1 2 1 2 ...\n",
      " $ pickup_datetime   : POSIXct, format: \"2016-06-09 08:28:09\" \"2016-04-04 13:25:16\" ...\n",
      " $ dropoff_datetime  : POSIXct, format: \"2016-06-09 08:45:23\" \"2016-04-04 13:32:18\" ...\n",
      " $ passenger_count   : int  1 4 1 1 1 1 1 2 1 1 ...\n",
      " $ pickup_longitude  : num  -74 -74 -74 -74 -74 ...\n",
      " $ pickup_latitude   : num  40.7 40.7 40.8 40.8 40.8 ...\n",
      " $ dropoff_longitude : num  -74 -74 -74 -74 -74 ...\n",
      " $ dropoff_latitude  : num  40.8 40.7 40.8 40.8 40.8 ...\n",
      " $ store_and_fwd_flag: num  1 1 1 1 1 1 1 1 1 1 ...\n",
      " $ trip_duration     : int  1034 422 93 1518 532 303 239 263 581 387 ...\n",
      "NULL\n"
     ]
    }
   ],
   "source": [
    "#### Formatting Features: #####################################################\n",
    "## 'pickup_datetime' and 'dropoff_datetime'\n",
    "# convert 'Factor' into 'data/time' data type\n",
    "new_train_data$pickup_datetime <- ymd_hms(new_train_data$pickup_datetime)\n",
    "new_train_data$dropoff_datetime <- ymd_hms(new_train_data$dropoff_datetime)\n",
    "\n",
    "## formatting feature 'store_and_fwd_flag'\n",
    "# convert 'Factor' to 'numeric' data type\n",
    "new_train_data$store_and_fwd_flag <- as.numeric(as.factor(new_train_data$store_and_fwd_flag))\n",
    "\n",
    "# cat('Summary after data formatting: \\n')\n",
    "# print(summary(new_train_data))\n",
    "cat('List the types of Attributes: \\n')\n",
    "print(str(new_train_data))\n",
    "\n",
    "#######################################################################################"
   ]
  },
  {
   "cell_type": "code",
   "execution_count": 8,
   "metadata": {},
   "outputs": [
    {
     "data": {
      "image/png": "[encoded data removed]",
      "text/plain": [
       "plot without title"
      ]
     },
     "metadata": {},
     "output_type": "display_data"
    },
    {
     "data": {
      "image/png": "[encoded data removed]",
      "text/plain": [
       "plot without title"
      ]
     },
     "metadata": {},
     "output_type": "display_data"
    },
    {
     "data": {
      "image/png": "[encoded data removed]",
      "text/plain": [
       "plot without title"
      ]
     },
     "metadata": {},
     "output_type": "display_data"
    }
   ],
   "source": [
    "## formatting target variable 'trip_duration'\n",
    "# Dr. Zhang suggestion comment, \"Since we mainly use classification- \n",
    "# methods, I suggest you convert your Ride Duration to Long/Short.\"\n",
    "\n",
    "#### Some plots to decide where to cutoff for short and long -- 'trip_duration' ####\n",
    "# distribution plot\n",
    "distplot(new_train_data$trip_duration)\n",
    "\n",
    "# density plot\n",
    "dens_dist <- ggplot(new_train_data, aes(x=trip_duration)) +\n",
    "  geom_density()\n",
    "dens_dist\n",
    "\n",
    "# boxplot\n",
    "boxplot(new_train_data$trip_duration)"
   ]
  },
  {
   "cell_type": "code",
   "execution_count": 9,
   "metadata": {},
   "outputs": [],
   "source": [
    "## 'Distance Travelled during each Trip' using\n",
    "# 'pickup_latitude', 'pickup_longitude', 'dropoff_latitude', 'dropoff_longitude' features\n",
    "\n",
    "i  <- cbind(pick_longitude = new_train_data$pickup_longitude,\n",
    "            pick_latitude = new_train_data$pickup_latitude)\n",
    "j <- cbind(drop_longitude = new_train_data$dropoff_longitude,\n",
    "           drop_latitude = new_train_data$dropoff_latitude)\n",
    "\n",
    "#computing haversine distance from co-ordinates\n",
    "new_train_data$distance <- distHaversine(i, j)"
   ]
  },
  {
   "cell_type": "code",
   "execution_count": 10,
   "metadata": {},
   "outputs": [
    {
     "name": "stdout",
     "output_type": "stream",
     "text": [
      "Median of trip_duration in Seconds: Median \n",
      "   662 \n"
     ]
    }
   ],
   "source": [
    "summary_trip_duration <- summary(new_train_data$trip_duration)\n",
    "# print(summary_trip_duration)\n",
    "median_trip_duration <- summary_trip_duration['Median']\n",
    "max_trip_duration <- summary_trip_duration['Max.']\n",
    "cat('Median of trip_duration in Seconds: ')\n",
    "print(median_trip_duration)"
   ]
  },
  {
   "cell_type": "code",
   "execution_count": 11,
   "metadata": {},
   "outputs": [
    {
     "name": "stdout",
     "output_type": "stream",
     "text": [
      "Changing regression problem to classification problem: \n"
     ]
    }
   ],
   "source": [
    "cat('Changing regression problem to classification problem: \\n')\n",
    "new_train_data$trip_duration <- cut(new_train_data$trip_duration,\n",
    "                                    breaks=c(0, 6000, max_trip_duration),\n",
    "                                    labels=c(\"Short Trip\",\"Long Trip\"))"
   ]
  },
  {
   "cell_type": "code",
   "execution_count": 12,
   "metadata": {},
   "outputs": [
    {
     "name": "stdout",
     "output_type": "stream",
     "text": [
      "Summary of Trip Duration: \n",
      "Short Trip  Long Trip \n",
      "     69887        113 \n"
     ]
    }
   ],
   "source": [
    "##\n",
    "## Analyis of \"trip_duration\" target/dependent variable\n",
    "cat('Summary of Trip Duration: \\n')\n",
    "print(summary(new_train_data$trip_duration))"
   ]
  },
  {
   "cell_type": "code",
   "execution_count": 13,
   "metadata": {},
   "outputs": [
    {
     "data": {
      "image/png": "[encoded data removed]",
      "text/plain": [
       "plot without title"
      ]
     },
     "metadata": {},
     "output_type": "display_data"
    }
   ],
   "source": [
    "## Analysis of independent variable features\n",
    "\n",
    "# 'vender_id' feature\n",
    "new_train_data %>%\n",
    "  group_by(vendor_id) %>%\n",
    "  count() %>%\n",
    "  ggplot(aes(x=factor(vendor_id), y=n))+\n",
    "  geom_col(aes(fill = factor(vendor_id))) +\n",
    "  ggtitle(\"Vendor ID Feature\") +\n",
    "  xlab(\"vendor_id\") +\n",
    "  ylab(\"No. of Passenger\") +\n",
    "  theme(legend.position = \"none\")"
   ]
  },
  {
   "cell_type": "code",
   "execution_count": 14,
   "metadata": {},
   "outputs": [
    {
     "data": {
      "image/png": "[encoded data removed]",
      "text/plain": [
       "plot without title"
      ]
     },
     "metadata": {},
     "output_type": "display_data"
    }
   ],
   "source": [
    "# 'store_and_fwd_flag' feature\n",
    "new_train_data %>%\n",
    "  group_by(store_and_fwd_flag) %>%\n",
    "  count() %>%\n",
    "  ggplot(aes(x=factor(store_and_fwd_flag), y=n))+\n",
    "  geom_col(aes(fill = factor(store_and_fwd_flag))) +\n",
    "  ggtitle(\"Store and Forward Feature\") +\n",
    "  xlab(\"store_and_fwd_flag\") +\n",
    "  ylab(\"No. of Passenger\") +\n",
    "  theme(legend.position = \"none\")\n"
   ]
  },
  {
   "cell_type": "code",
   "execution_count": 15,
   "metadata": {},
   "outputs": [
    {
     "data": {
      "text/html": [
       "<table>\n",
       "<thead><tr><th scope=col>passenger_count</th><th scope=col>n</th></tr></thead>\n",
       "<tbody>\n",
       "\t<tr><td>0    </td><td>    2</td></tr>\n",
       "\t<tr><td>1    </td><td>49579</td></tr>\n",
       "\t<tr><td>2    </td><td>10126</td></tr>\n",
       "\t<tr><td>3    </td><td> 2830</td></tr>\n",
       "\t<tr><td>4    </td><td> 1368</td></tr>\n",
       "\t<tr><td>5    </td><td> 3802</td></tr>\n",
       "\t<tr><td>6    </td><td> 2293</td></tr>\n",
       "</tbody>\n",
       "</table>\n"
      ],
      "text/latex": [
       "\\begin{tabular}{r|ll}\n",
       " passenger\\_count & n\\\\\n",
       "\\hline\n",
       "\t 0     &     2\\\\\n",
       "\t 1     & 49579\\\\\n",
       "\t 2     & 10126\\\\\n",
       "\t 3     &  2830\\\\\n",
       "\t 4     &  1368\\\\\n",
       "\t 5     &  3802\\\\\n",
       "\t 6     &  2293\\\\\n",
       "\\end{tabular}\n"
      ],
      "text/markdown": [
       "\n",
       "| passenger_count | n |\n",
       "|---|---|\n",
       "| 0     |     2 |\n",
       "| 1     | 49579 |\n",
       "| 2     | 10126 |\n",
       "| 3     |  2830 |\n",
       "| 4     |  1368 |\n",
       "| 5     |  3802 |\n",
       "| 6     |  2293 |\n",
       "\n"
      ],
      "text/plain": [
       "  passenger_count n    \n",
       "1 0                   2\n",
       "2 1               49579\n",
       "3 2               10126\n",
       "4 3                2830\n",
       "5 4                1368\n",
       "6 5                3802\n",
       "7 6                2293"
      ]
     },
     "metadata": {},
     "output_type": "display_data"
    },
    {
     "data": {
      "image/png": "[encoded data removed]",
      "text/plain": [
       "plot without title"
      ]
     },
     "metadata": {},
     "output_type": "display_data"
    }
   ],
   "source": [
    "# 'passenger_count' feature\n",
    "new_train_data_1 <- new_train_data %>%\n",
    "  group_by(passenger_count) %>%\n",
    "  count() \n",
    "new_train_data_1\n",
    "\n",
    "new_train_data_1 %>%\n",
    "  ggplot(aes(x=passenger_count, y=n))+\n",
    "  geom_col(aes(fill = factor(passenger_count)))+\n",
    "  ggtitle(\"Passenger Count Feature\") +\n",
    "  xlab(\"passenger_count\") +\n",
    "  ylab(\"No. of Passenger\") +\n",
    "  theme(legend.position = \"none\")"
   ]
  },
  {
   "cell_type": "code",
   "execution_count": 16,
   "metadata": {},
   "outputs": [
    {
     "data": {
      "text/html": [
       "<table>\n",
       "<thead><tr><th scope=col>hour_24</th><th scope=col>n</th></tr></thead>\n",
       "<tbody>\n",
       "\t<tr><td> 0  </td><td>2577</td></tr>\n",
       "\t<tr><td> 1  </td><td>1863</td></tr>\n",
       "\t<tr><td> 2  </td><td>1368</td></tr>\n",
       "\t<tr><td> 3  </td><td>1059</td></tr>\n",
       "\t<tr><td> 4  </td><td> 725</td></tr>\n",
       "\t<tr><td> 5  </td><td> 683</td></tr>\n",
       "\t<tr><td> 6  </td><td>1643</td></tr>\n",
       "\t<tr><td> 7  </td><td>2673</td></tr>\n",
       "\t<tr><td> 8  </td><td>3124</td></tr>\n",
       "\t<tr><td> 9  </td><td>3249</td></tr>\n",
       "\t<tr><td>10  </td><td>3108</td></tr>\n",
       "\t<tr><td>11  </td><td>3312</td></tr>\n",
       "\t<tr><td>12  </td><td>3358</td></tr>\n",
       "\t<tr><td>13  </td><td>3351</td></tr>\n",
       "\t<tr><td>14  </td><td>3663</td></tr>\n",
       "\t<tr><td>15  </td><td>3477</td></tr>\n",
       "\t<tr><td>16  </td><td>3017</td></tr>\n",
       "\t<tr><td>17  </td><td>3693</td></tr>\n",
       "\t<tr><td>18  </td><td>4459</td></tr>\n",
       "\t<tr><td>19  </td><td>4372</td></tr>\n",
       "\t<tr><td>20  </td><td>4039</td></tr>\n",
       "\t<tr><td>21  </td><td>4036</td></tr>\n",
       "\t<tr><td>22  </td><td>3826</td></tr>\n",
       "\t<tr><td>23  </td><td>3325</td></tr>\n",
       "</tbody>\n",
       "</table>\n"
      ],
      "text/latex": [
       "\\begin{tabular}{r|ll}\n",
       " hour\\_24 & n\\\\\n",
       "\\hline\n",
       "\t  0   & 2577\\\\\n",
       "\t  1   & 1863\\\\\n",
       "\t  2   & 1368\\\\\n",
       "\t  3   & 1059\\\\\n",
       "\t  4   &  725\\\\\n",
       "\t  5   &  683\\\\\n",
       "\t  6   & 1643\\\\\n",
       "\t  7   & 2673\\\\\n",
       "\t  8   & 3124\\\\\n",
       "\t  9   & 3249\\\\\n",
       "\t 10   & 3108\\\\\n",
       "\t 11   & 3312\\\\\n",
       "\t 12   & 3358\\\\\n",
       "\t 13   & 3351\\\\\n",
       "\t 14   & 3663\\\\\n",
       "\t 15   & 3477\\\\\n",
       "\t 16   & 3017\\\\\n",
       "\t 17   & 3693\\\\\n",
       "\t 18   & 4459\\\\\n",
       "\t 19   & 4372\\\\\n",
       "\t 20   & 4039\\\\\n",
       "\t 21   & 4036\\\\\n",
       "\t 22   & 3826\\\\\n",
       "\t 23   & 3325\\\\\n",
       "\\end{tabular}\n"
      ],
      "text/markdown": [
       "\n",
       "| hour_24 | n |\n",
       "|---|---|\n",
       "|  0   | 2577 |\n",
       "|  1   | 1863 |\n",
       "|  2   | 1368 |\n",
       "|  3   | 1059 |\n",
       "|  4   |  725 |\n",
       "|  5   |  683 |\n",
       "|  6   | 1643 |\n",
       "|  7   | 2673 |\n",
       "|  8   | 3124 |\n",
       "|  9   | 3249 |\n",
       "| 10   | 3108 |\n",
       "| 11   | 3312 |\n",
       "| 12   | 3358 |\n",
       "| 13   | 3351 |\n",
       "| 14   | 3663 |\n",
       "| 15   | 3477 |\n",
       "| 16   | 3017 |\n",
       "| 17   | 3693 |\n",
       "| 18   | 4459 |\n",
       "| 19   | 4372 |\n",
       "| 20   | 4039 |\n",
       "| 21   | 4036 |\n",
       "| 22   | 3826 |\n",
       "| 23   | 3325 |\n",
       "\n"
      ],
      "text/plain": [
       "   hour_24 n   \n",
       "1   0      2577\n",
       "2   1      1863\n",
       "3   2      1368\n",
       "4   3      1059\n",
       "5   4       725\n",
       "6   5       683\n",
       "7   6      1643\n",
       "8   7      2673\n",
       "9   8      3124\n",
       "10  9      3249\n",
       "11 10      3108\n",
       "12 11      3312\n",
       "13 12      3358\n",
       "14 13      3351\n",
       "15 14      3663\n",
       "16 15      3477\n",
       "17 16      3017\n",
       "18 17      3693\n",
       "19 18      4459\n",
       "20 19      4372\n",
       "21 20      4039\n",
       "22 21      4036\n",
       "23 22      3826\n",
       "24 23      3325"
      ]
     },
     "metadata": {},
     "output_type": "display_data"
    },
    {
     "data": {
      "image/png": "[encoded data removed]",
      "text/plain": [
       "plot without title"
      ]
     },
     "metadata": {},
     "output_type": "display_data"
    }
   ],
   "source": [
    "# 'Number of Pickup' in 24-Hours\n",
    "new_train_data$hour_24 <- hour(new_train_data$pickup_datetime)\n",
    "new_train_data_2 <- new_train_data %>%\n",
    "  group_by(hour_24) %>%\n",
    "  count()\n",
    "new_train_data_2\n",
    "\n",
    "new_train_data_2 %>%\n",
    "  ggplot(aes(x=hour_24, y=n)) +\n",
    "  geom_col(aes(fill = factor(hour_24))) +\n",
    "  ggtitle(\"Passenger Count in 24-Hours\") +\n",
    "  xlab(\"Hours of a Day\") +\n",
    "  ylab(\"No. of Pickups\") +\n",
    "  theme(legend.position = \"none\")\n"
   ]
  },
  {
   "cell_type": "code",
   "execution_count": 17,
   "metadata": {},
   "outputs": [
    {
     "data": {
      "image/png": "[encoded data removed]",
      "text/plain": [
       "plot without title"
      ]
     },
     "metadata": {},
     "output_type": "display_data"
    }
   ],
   "source": [
    "##### 'pick_up_datetime' feature\n",
    "new_train_data %>%\n",
    "  mutate(hpick = hour(pickup_datetime),\n",
    "         wday  = factor(wday(pickup_datetime, label=TRUE))) %>%\n",
    "  group_by(hpick, wday) %>%\n",
    "  count() %>%\n",
    "  ggplot(aes(x=hpick, y=n, color=wday)) +\n",
    "  geom_point(size=2) +\n",
    "  ggtitle(\"Pick Up Hours by Day\") +\n",
    "  xlab(\"pick_up_hours\") +\n",
    "  ylab(\"No. of pick up\")"
   ]
  },
  {
   "cell_type": "code",
   "execution_count": 18,
   "metadata": {},
   "outputs": [
    {
     "data": {
      "image/png": "[encoded data removed]",
      "text/plain": [
       "plot without title"
      ]
     },
     "metadata": {},
     "output_type": "display_data"
    }
   ],
   "source": [
    "new_train_data %>%\n",
    "  mutate(hpick = hour(pickup_datetime),\n",
    "         month  = factor(month(pickup_datetime, label=TRUE))) %>%\n",
    "  group_by(hpick, month) %>%\n",
    "  count() %>%\n",
    "  ggplot(aes(x=hpick, y=n, color=month)) +\n",
    "  geom_point(size=2) +\n",
    "  ggtitle(\"Pick Up Hours by Month\") +\n",
    "  xlab(\"pick_up_hours\") +\n",
    "  ylab(\"No. of pick up\")\n"
   ]
  },
  {
   "cell_type": "code",
   "execution_count": 19,
   "metadata": {},
   "outputs": [
    {
     "data": {
      "image/png": "[encoded data removed]",
      "text/plain": [
       "plot without title"
      ]
     },
     "metadata": {},
     "output_type": "display_data"
    }
   ],
   "source": [
    "new_train_data %>%\n",
    "  mutate(hpick = hour(pickup_datetime)) %>%\n",
    "  group_by(hpick) %>%\n",
    "  count() %>%\n",
    "  ggplot(aes(x=hpick, y=n)) +\n",
    "  geom_point(size=2) +\n",
    "  ggtitle(\"Pick Up by Hours\") +\n",
    "  xlab(\"pick_up_hours\") +\n",
    "  ylab(\"No. of pick up\")\n",
    "#"
   ]
  },
  {
   "cell_type": "code",
   "execution_count": 20,
   "metadata": {},
   "outputs": [
    {
     "data": {
      "image/png": "[encoded data removed]",
      "text/plain": [
       "plot without title"
      ]
     },
     "metadata": {},
     "output_type": "display_data"
    }
   ],
   "source": [
    "new_train_data %>%\n",
    "  mutate(wday  = factor(wday(pickup_datetime, label=TRUE))) %>%\n",
    "  group_by(wday) %>%\n",
    "  count() %>%\n",
    "  ggplot(aes(x=wday, y=n)) +\n",
    "  geom_point(size=2) +\n",
    "  ggtitle(\"Pick Up by Day\") +\n",
    "  xlab(\"pick_up_hours\") +\n",
    "  ylab(\"No. of pick up\")"
   ]
  },
  {
   "cell_type": "code",
   "execution_count": 21,
   "metadata": {},
   "outputs": [
    {
     "data": {
      "image/png": "[encoded data removed]",
      "text/plain": [
       "plot without title"
      ]
     },
     "metadata": {},
     "output_type": "display_data"
    }
   ],
   "source": [
    "# 'pickup_latitude', pickup_longitude', dropoff_latitude', 'dropoff_longitude' features\n",
    "options(repr.plot.width = 6, repr.plot.height = 5)\n",
    "p1 <- new_train_data %>%\n",
    "  filter(pickup_latitude > min(new_train_data$pickup_latitude) &\n",
    "          pickup_latitude < max(new_train_data$pickup_latitude)) %>%\n",
    "  ggplot(aes(x=pickup_latitude)) +\n",
    "  geom_histogram(bins=40)\n",
    "\n",
    "p2 <- new_train_data %>%\n",
    "  filter(pickup_longitude > min(new_train_data$pickup_longitude) &\n",
    "           pickup_longitude < max(new_train_data$pickup_longitude)) %>%\n",
    "  ggplot(aes(x=pickup_longitude)) +\n",
    "  geom_histogram(bins=40)\n",
    "\n",
    "p3 <- new_train_data %>%\n",
    "  filter(dropoff_latitude > min(new_train_data$dropoff_latitude) &\n",
    "           dropoff_latitude < max(new_train_data$dropoff_latitude)) %>%\n",
    "  ggplot(aes(x=dropoff_latitude)) +\n",
    "  geom_histogram(bins=40)\n",
    "\n",
    "p4 <- new_train_data %>%\n",
    "  filter(dropoff_longitude > min(new_train_data$dropoff_longitude) &\n",
    "           dropoff_longitude < max(new_train_data$dropoff_longitude)) %>%\n",
    "  ggplot(aes(x=dropoff_longitude)) +\n",
    "  geom_histogram(bins=40)\n",
    "\n",
    "grid.arrange(p1, p2, p3, p4)"
   ]
  },
  {
   "cell_type": "code",
   "execution_count": 22,
   "metadata": {},
   "outputs": [
    {
     "data": {
      "image/png": "[encoded data removed]",
      "text/plain": [
       "plot without title"
      ]
     },
     "metadata": {},
     "output_type": "display_data"
    }
   ],
   "source": [
    "# featuresplot, #scatterplot matrix\n",
    "options(repr.plot.width = 8, repr.plot.height = 7)\n",
    "featurePlot(x=new_train_data[,6:9], y=new_train_data[,11], plot=\"ellipse\")\n"
   ]
  },
  {
   "cell_type": "code",
   "execution_count": 23,
   "metadata": {},
   "outputs": [
    {
     "data": {
      "image/png": "[encoded data removed]",
      "text/plain": [
       "plot without title"
      ]
     },
     "metadata": {},
     "output_type": "display_data"
    }
   ],
   "source": [
    "# density plots for each attribute by class value\n",
    "options(repr.plot.width = 6, repr.plot.height = 5)\n",
    "scales <- list(x=list(relation=\"free\"), y=list(relation=\"free\"))\n",
    "featurePlot(x=new_train_data[,12], y=new_train_data[,11], plot=\"density\", scales=scales)"
   ]
  },
  {
   "cell_type": "code",
   "execution_count": 24,
   "metadata": {},
   "outputs": [
    {
     "data": {
      "image/png": "[encoded data removed]",
      "text/plain": [
       "plot without title"
      ]
     },
     "metadata": {},
     "output_type": "display_data"
    }
   ],
   "source": [
    "## Relationship between different features with 'trip_duration'\n",
    "options(repr.plot.width = 6, repr.plot.height = 5)\n",
    "b1 <- ggplot(data = new_train_data,\n",
    "             aes(x=trip_duration, y=hour(pickup_datetime),\n",
    "                 fill=trip_duration)) +\n",
    "  geom_boxplot() +\n",
    "  ggtitle(\"Trip Duration for 24-Hours\") +\n",
    "  xlab(\"Trip Duration Class\") +\n",
    "  ylab(\"Hours of the Day\") +\n",
    "  theme(legend.position=\"none\")\n",
    "\n",
    "b2 <- ggplot(data = new_train_data,\n",
    "             aes(x=trip_duration, y=day(pickup_datetime),\n",
    "                 fill=trip_duration)) +\n",
    "  geom_boxplot() +\n",
    "  ggtitle(\"Trip Duration for Day\") +\n",
    "  xlab(\"Trip Duration Class\") +\n",
    "  ylab(\"Day\") +\n",
    "  theme(legend.position=\"none\")\n",
    "\n",
    "b3 <- ggplot(data = new_train_data,\n",
    "             aes(x=trip_duration, y=month(pickup_datetime),\n",
    "                 fill=trip_duration)) +\n",
    "  geom_boxplot() +\n",
    "  ggtitle(\"Trip Duration for Month\") +\n",
    "  xlab(\"Trip Duration Class\") +\n",
    "  ylab(\"Month\") +\n",
    "  theme(legend.position=\"none\")\n",
    "\n",
    "grid.arrange(b1, b2, b3, ncol=2)\n"
   ]
  },
  {
   "cell_type": "code",
   "execution_count": 25,
   "metadata": {},
   "outputs": [
    {
     "name": "stdout",
     "output_type": "stream",
     "text": [
      " [1] \"id\"                 \"vendor_id\"          \"pickup_datetime\"   \n",
      " [4] \"dropoff_datetime\"   \"passenger_count\"    \"pickup_longitude\"  \n",
      " [7] \"pickup_latitude\"    \"dropoff_longitude\"  \"dropoff_latitude\"  \n",
      "[10] \"store_and_fwd_flag\" \"trip_duration\"      \"distance\"          \n",
      "[13] \"hour_24\"           \n"
     ]
    }
   ],
   "source": [
    "###############################################################################################\n",
    "## Model Preparation\n",
    "\n",
    "# create a validation dataset from 'new_train_data'\n",
    "# 70 % 'new_train_data' data\n",
    "print(colnames(new_train_data))\n",
    "new_train_data <- new_train_data[, -which(names(new_train_data) \n",
    "                                          %in% c(\"id\",\"distance\")) ]\n",
    "sample_size <- floor(0.7 * nrow(new_train_data))\n",
    "\n",
    "# randomly select index of observations for training\n",
    "training_index_2 <- sample(nrow(new_train_data), size=sample_size, replace=FALSE)\n",
    "train <- new_train_data[training_index_2, ]\n",
    "validation <- new_train_data[-training_index_2, ]"
   ]
  },
  {
   "cell_type": "code",
   "execution_count": 26,
   "metadata": {},
   "outputs": [],
   "source": [
    "# Run algorithms using 5-fold cross validation\n",
    "control <- trainControl(method=\"cv\", number=5)\n",
    "metric <- \"Accuracy\"\n"
   ]
  },
  {
   "cell_type": "code",
   "execution_count": 27,
   "metadata": {},
   "outputs": [],
   "source": [
    "# linear algorithms \n",
    "set.seed(123)\n",
    "lda.model <- train(as.factor(trip_duration)~., data=train, method=\"lda\", \n",
    "                 metric=metric, trControl=control)\n"
   ]
  },
  {
   "cell_type": "code",
   "execution_count": 28,
   "metadata": {},
   "outputs": [],
   "source": [
    "# kNN\n",
    "set.seed(123)\n",
    "knn.model <- train(as.factor(trip_duration)~., data=train, method=\"knn\",\n",
    "                 metric=metric, trControl=control)\n"
   ]
  },
  {
   "cell_type": "code",
   "execution_count": 29,
   "metadata": {},
   "outputs": [],
   "source": [
    "# # SVM\n",
    "# set.seed(123)\n",
    "# svm.model <- train(as.factor(trip_duration)~., data=train, method=\"svmRadial\",\n",
    "#                  metric=metric, trControl=control)"
   ]
  },
  {
   "cell_type": "code",
   "execution_count": 30,
   "metadata": {},
   "outputs": [],
   "source": [
    "# #naive bayes\n",
    "# set.seed(123)\n",
    "# naiveBayes.model <- train(as.factor(trip_duration)~., data=train, method=\"nb\",\n",
    "#                           metric=metric, trControl=control)\n"
   ]
  },
  {
   "cell_type": "code",
   "execution_count": 31,
   "metadata": {},
   "outputs": [],
   "source": [
    "# # Random Forest\n",
    "# set.seed(123)\n",
    "# fit.rf <- train(as.factor(trip_duration)~., data=train, method=\"rf\", \n",
    "#                 metric=metric, trControl=control)"
   ]
  },
  {
   "cell_type": "code",
   "execution_count": 32,
   "metadata": {},
   "outputs": [
    {
     "name": "stdout",
     "output_type": "stream",
     "text": [
      "\n",
      "Call:\n",
      "summary.resamples(object = results_best)\n",
      "\n",
      "Models: lda, knn \n",
      "Number of resamples: 5 \n",
      "\n",
      "Accuracy \n",
      "         Min.   1st Qu.    Median      Mean   3rd Qu.      Max. NA's\n",
      "lda 0.9993878 0.9994898 0.9995918 0.9995714 0.9995918 0.9997959    0\n",
      "knn 0.9983673 0.9983673 0.9983675 0.9984082 0.9984692 0.9984694    0\n",
      "\n",
      "Kappa \n",
      "         Min.   1st Qu.    Median      Mean   3rd Qu.      Max. NA's\n",
      "lda 0.7689406 0.8145681 0.8459543 0.8429751 0.8569427 0.9284698    0\n",
      "knn 0.0000000 0.0000000 0.0000000 0.0000000 0.0000000 0.0000000    0\n",
      "\n"
     ]
    }
   ],
   "source": [
    "## Select best model\n",
    "# summarize accuracy of models\n",
    "results_best <- resamples(list(lda=lda.model, knn=knn.model))\n",
    "print(summary(results_best))\n"
   ]
  },
  {
   "cell_type": "code",
   "execution_count": 33,
   "metadata": {},
   "outputs": [
    {
     "name": "stdout",
     "output_type": "stream",
     "text": [
      "Linear Discriminant Analysis \n",
      "\n",
      "49000 samples\n",
      "   10 predictor\n",
      "    2 classes: 'Short Trip', 'Long Trip' \n",
      "\n",
      "No pre-processing\n",
      "Resampling: Cross-Validated (5 fold) \n",
      "Summary of sample sizes: 39200, 39200, 39199, 39201, 39200 \n",
      "Resampling results:\n",
      "\n",
      "  Accuracy   Kappa    \n",
      "  0.9995714  0.8429751\n",
      "\n"
     ]
    }
   ],
   "source": [
    "# summarize Best Model\n",
    "print(lda.model)"
   ]
  },
  {
   "cell_type": "code",
   "execution_count": 34,
   "metadata": {},
   "outputs": [
    {
     "name": "stdout",
     "output_type": "stream",
     "text": [
      "            predicted\n",
      "actual       Short Trip Long Trip\n",
      "  Short Trip      20965         0\n",
      "  Long Trip           9        26\n"
     ]
    }
   ],
   "source": [
    "# prediction on the validation dataset\n",
    "predictions <- predict(lda.model, validation)\n",
    "\n",
    "# pick actual value and predicted value together in a dataframe\n",
    "# called results\n",
    "results <- data.frame(actual = validation[, 'trip_duration'],\n",
    "                      predicted = predictions)\n",
    "# confusion matrix\n",
    "print(table(results))"
   ]
  },
  {
   "cell_type": "code",
   "execution_count": null,
   "metadata": {},
   "outputs": [],
   "source": []
  }
 ],
 "metadata": {
  "kernelspec": {
   "display_name": "R",
   "language": "R",
   "name": "ir"
  },
  "language_info": {
   "codemirror_mode": "r",
   "file_extension": ".r",
   "mimetype": "text/x-r-source",
   "name": "R",
   "pygments_lexer": "r",
   "version": "3.6.1"
  }
 },
 "nbformat": 4,
 "nbformat_minor": 4
}
