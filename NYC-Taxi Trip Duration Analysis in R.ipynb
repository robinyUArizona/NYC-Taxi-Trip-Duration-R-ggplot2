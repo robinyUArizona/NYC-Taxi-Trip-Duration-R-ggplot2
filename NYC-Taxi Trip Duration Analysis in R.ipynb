{
 "cells": [
  {
   "cell_type": "markdown",
   "metadata": {},
   "source": [
    "# NYC Trip Duration Analysis"
   ]
  },
  {
   "cell_type": "markdown",
   "metadata": {},
   "source": [
    "![](https://github.com/robinyUArizona/NYC-Taxi-Trip-Duration-R-ggplot2/blob/master/NYC-Taxi-Trip-Duration-Pic.PNG?raw=true)"
   ]
  },
  {
   "cell_type": "markdown",
   "metadata": {},
   "source": [
    "### Hide Warnings"
   ]
  },
  {
   "cell_type": "code",
   "execution_count": 1,
   "metadata": {},
   "outputs": [],
   "source": [
    "options(warn=-1)"
   ]
  },
  {
   "cell_type": "markdown",
   "metadata": {},
   "source": [
    "### Install R Packages"
   ]
  },
  {
   "cell_type": "code",
   "execution_count": 2,
   "metadata": {},
   "outputs": [],
   "source": [
    "#### New York Taxi trip duration ####\n",
    "\n",
    "#### Libraries or Packages #####################################\n",
    "# install.packages('dplyr') \n",
    "# install.packages('lubridate')\n",
    "# install.packages('vcd')\n",
    "# install.packages('ggplot2')\n",
    "# install.packages('gridExtra')\n",
    "# install.packages('geosphere')\n",
    "# install.packages('caret')\n",
    "# install.packages('ellipse')\n",
    "# install.packages('e1071')\n",
    "# install.packages('class')\n",
    "# install.packages('klaR')\n"
   ]
  },
  {
   "cell_type": "markdown",
   "metadata": {},
   "source": [
    "### Load Packages"
   ]
  },
  {
   "cell_type": "code",
   "execution_count": 3,
   "metadata": {},
   "outputs": [
    {
     "name": "stderr",
     "output_type": "stream",
     "text": [
      "\n",
      "Attaching package: 'dplyr'\n",
      "\n",
      "The following objects are masked from 'package:stats':\n",
      "\n",
      "    filter, lag\n",
      "\n",
      "The following objects are masked from 'package:base':\n",
      "\n",
      "    intersect, setdiff, setequal, union\n",
      "\n",
      "\n",
      "Attaching package: 'lubridate'\n",
      "\n",
      "The following object is masked from 'package:base':\n",
      "\n",
      "    date\n",
      "\n",
      "Loading required package: grid\n",
      "\n",
      "Attaching package: 'gridExtra'\n",
      "\n",
      "The following object is masked from 'package:dplyr':\n",
      "\n",
      "    combine\n",
      "\n",
      "Loading required package: lattice\n",
      "\n",
      "Attaching package: 'ellipse'\n",
      "\n",
      "The following object is masked from 'package:graphics':\n",
      "\n",
      "    pairs\n",
      "\n",
      "Loading required package: MASS\n",
      "\n",
      "Attaching package: 'MASS'\n",
      "\n",
      "The following object is masked from 'package:dplyr':\n",
      "\n",
      "    select\n",
      "\n"
     ]
    }
   ],
   "source": [
    "## load packages\n",
    "library(dplyr)\n",
    "library(lubridate) # for date-time formatting\n",
    "library(vcd) # for distribution plot\n",
    "library(ggplot2) # for visualisation\n",
    "library(gridExtra) # for grid for multiplot\n",
    "library(geosphere)\n",
    "library(caret)\n",
    "library(ellipse)\n",
    "library(e1071) # for svm\n",
    "library(class) # for knn\n",
    "library(klaR) # for nb-naiveBayes\n",
    "\n",
    "library(repr) # for plot margin\n",
    "options(repr.plot.width=4, repr.plot.height=3)"
   ]
  },
  {
   "cell_type": "markdown",
   "metadata": {},
   "source": [
    "### Read original data file, and save sampled data from original to new file"
   ]
  },
  {
   "cell_type": "code",
   "execution_count": 4,
   "metadata": {},
   "outputs": [],
   "source": [
    "#################################################################\n",
    "\n",
    "# train_data <- read.csv('train.csv')\n",
    "# \n",
    "# set.seed(123)\n",
    "# sample_size <- 70000\n",
    "# sample_train_data <- train_data[sample(nrow(train_data), size=sample_size,\n",
    "#                             replace=FALSE), ]\n",
    "# \n",
    "# ## Save sample_train_data as 'sample_train.csv' file\n",
    "# write.csv(sample_train_data, \"sample_train.csv\", row.names = FALSE)"
   ]
  },
  {
   "cell_type": "markdown",
   "metadata": {},
   "source": [
    "### Load sampled data\n",
    "- Check dimension of the data\n",
    "- Explore first five sample from the data"
   ]
  },
  {
   "cell_type": "code",
   "execution_count": 5,
   "metadata": {},
   "outputs": [
    {
     "name": "stdout",
     "output_type": "stream",
     "text": [
      "Dimension of Sample Train Data: \n",
      "[1] 70000    11\n",
      "Column Names: \n",
      " [1] \"id\"                 \"vendor_id\"          \"pickup_datetime\"   \n",
      " [4] \"dropoff_datetime\"   \"passenger_count\"    \"pickup_longitude\"  \n",
      " [7] \"pickup_latitude\"    \"dropoff_longitude\"  \"dropoff_latitude\"  \n",
      "[10] \"store_and_fwd_flag\" \"trip_duration\"     \n",
      "View Datasets: \n"
     ]
    },
    {
     "data": {
      "text/html": [
       "<table>\n",
       "<thead><tr><th scope=col>id</th><th scope=col>vendor_id</th><th scope=col>pickup_datetime</th><th scope=col>dropoff_datetime</th><th scope=col>passenger_count</th><th scope=col>pickup_longitude</th><th scope=col>pickup_latitude</th><th scope=col>dropoff_longitude</th><th scope=col>dropoff_latitude</th><th scope=col>store_and_fwd_flag</th><th scope=col>trip_duration</th></tr></thead>\n",
       "<tbody>\n",
       "\t<tr><td>id2826034          </td><td>1                  </td><td>2016-06-09 08:28:09</td><td>2016-06-09 08:45:23</td><td>1                  </td><td>-73.99175          </td><td>40.74547           </td><td>-73.97902          </td><td>40.76099           </td><td>N                  </td><td>1034               </td></tr>\n",
       "\t<tr><td>id0486626          </td><td>1                  </td><td>2016-04-04 13:25:16</td><td>2016-04-04 13:32:18</td><td>4                  </td><td>-73.98820          </td><td>40.74594           </td><td>-74.00010          </td><td>40.73305           </td><td>N                  </td><td> 422               </td></tr>\n",
       "\t<tr><td>id3953928          </td><td>2                  </td><td>2016-02-19 00:51:25</td><td>2016-02-19 00:52:58</td><td>1                  </td><td>-73.96552          </td><td>40.80609           </td><td>-73.96155          </td><td>40.80202           </td><td>N                  </td><td>  93               </td></tr>\n",
       "\t<tr><td>id3925513          </td><td>2                  </td><td>2016-04-11 17:48:22</td><td>2016-04-11 18:13:40</td><td>1                  </td><td>-73.97545          </td><td>40.75371           </td><td>-73.97767          </td><td>40.77701           </td><td>N                  </td><td>1518               </td></tr>\n",
       "\t<tr><td>id3176117          </td><td>1                  </td><td>2016-02-13 13:48:27</td><td>2016-02-13 13:57:19</td><td>1                  </td><td>-73.95798          </td><td>40.78236           </td><td>-73.96026          </td><td>40.76311           </td><td>N                  </td><td> 532               </td></tr>\n",
       "\t<tr><td>id1997857          </td><td>1                  </td><td>2016-04-12 22:26:39</td><td>2016-04-12 22:31:42</td><td>1                  </td><td>-73.95249          </td><td>40.78394           </td><td>-73.94897          </td><td>40.77415           </td><td>N                  </td><td> 303               </td></tr>\n",
       "</tbody>\n",
       "</table>\n"
      ],
      "text/latex": [
       "\\begin{tabular}{r|lllllllllll}\n",
       " id & vendor\\_id & pickup\\_datetime & dropoff\\_datetime & passenger\\_count & pickup\\_longitude & pickup\\_latitude & dropoff\\_longitude & dropoff\\_latitude & store\\_and\\_fwd\\_flag & trip\\_duration\\\\\n",
       "\\hline\n",
       "\t id2826034           & 1                   & 2016-06-09 08:28:09 & 2016-06-09 08:45:23 & 1                   & -73.99175           & 40.74547            & -73.97902           & 40.76099            & N                   & 1034               \\\\\n",
       "\t id0486626           & 1                   & 2016-04-04 13:25:16 & 2016-04-04 13:32:18 & 4                   & -73.98820           & 40.74594            & -74.00010           & 40.73305            & N                   &  422               \\\\\n",
       "\t id3953928           & 2                   & 2016-02-19 00:51:25 & 2016-02-19 00:52:58 & 1                   & -73.96552           & 40.80609            & -73.96155           & 40.80202            & N                   &   93               \\\\\n",
       "\t id3925513           & 2                   & 2016-04-11 17:48:22 & 2016-04-11 18:13:40 & 1                   & -73.97545           & 40.75371            & -73.97767           & 40.77701            & N                   & 1518               \\\\\n",
       "\t id3176117           & 1                   & 2016-02-13 13:48:27 & 2016-02-13 13:57:19 & 1                   & -73.95798           & 40.78236            & -73.96026           & 40.76311            & N                   &  532               \\\\\n",
       "\t id1997857           & 1                   & 2016-04-12 22:26:39 & 2016-04-12 22:31:42 & 1                   & -73.95249           & 40.78394            & -73.94897           & 40.77415            & N                   &  303               \\\\\n",
       "\\end{tabular}\n"
      ],
      "text/markdown": [
       "\n",
       "| id | vendor_id | pickup_datetime | dropoff_datetime | passenger_count | pickup_longitude | pickup_latitude | dropoff_longitude | dropoff_latitude | store_and_fwd_flag | trip_duration |\n",
       "|---|---|---|---|---|---|---|---|---|---|---|\n",
       "| id2826034           | 1                   | 2016-06-09 08:28:09 | 2016-06-09 08:45:23 | 1                   | -73.99175           | 40.74547            | -73.97902           | 40.76099            | N                   | 1034                |\n",
       "| id0486626           | 1                   | 2016-04-04 13:25:16 | 2016-04-04 13:32:18 | 4                   | -73.98820           | 40.74594            | -74.00010           | 40.73305            | N                   |  422                |\n",
       "| id3953928           | 2                   | 2016-02-19 00:51:25 | 2016-02-19 00:52:58 | 1                   | -73.96552           | 40.80609            | -73.96155           | 40.80202            | N                   |   93                |\n",
       "| id3925513           | 2                   | 2016-04-11 17:48:22 | 2016-04-11 18:13:40 | 1                   | -73.97545           | 40.75371            | -73.97767           | 40.77701            | N                   | 1518                |\n",
       "| id3176117           | 1                   | 2016-02-13 13:48:27 | 2016-02-13 13:57:19 | 1                   | -73.95798           | 40.78236            | -73.96026           | 40.76311            | N                   |  532                |\n",
       "| id1997857           | 1                   | 2016-04-12 22:26:39 | 2016-04-12 22:31:42 | 1                   | -73.95249           | 40.78394            | -73.94897           | 40.77415            | N                   |  303                |\n",
       "\n"
      ],
      "text/plain": [
       "  id        vendor_id pickup_datetime     dropoff_datetime    passenger_count\n",
       "1 id2826034 1         2016-06-09 08:28:09 2016-06-09 08:45:23 1              \n",
       "2 id0486626 1         2016-04-04 13:25:16 2016-04-04 13:32:18 4              \n",
       "3 id3953928 2         2016-02-19 00:51:25 2016-02-19 00:52:58 1              \n",
       "4 id3925513 2         2016-04-11 17:48:22 2016-04-11 18:13:40 1              \n",
       "5 id3176117 1         2016-02-13 13:48:27 2016-02-13 13:57:19 1              \n",
       "6 id1997857 1         2016-04-12 22:26:39 2016-04-12 22:31:42 1              \n",
       "  pickup_longitude pickup_latitude dropoff_longitude dropoff_latitude\n",
       "1 -73.99175        40.74547        -73.97902         40.76099        \n",
       "2 -73.98820        40.74594        -74.00010         40.73305        \n",
       "3 -73.96552        40.80609        -73.96155         40.80202        \n",
       "4 -73.97545        40.75371        -73.97767         40.77701        \n",
       "5 -73.95798        40.78236        -73.96026         40.76311        \n",
       "6 -73.95249        40.78394        -73.94897         40.77415        \n",
       "  store_and_fwd_flag trip_duration\n",
       "1 N                  1034         \n",
       "2 N                   422         \n",
       "3 N                    93         \n",
       "4 N                  1518         \n",
       "5 N                   532         \n",
       "6 N                   303         "
      ]
     },
     "metadata": {},
     "output_type": "display_data"
    }
   ],
   "source": [
    "new_train_data <- read.csv('sample_train.csv')\n",
    "\n",
    "cat('Dimension of Sample Train Data: \\n')\n",
    "print(dim(new_train_data))\n",
    "cat('Column Names: \\n')\n",
    "print(colnames(new_train_data))\n",
    "\n",
    "cat('View Datasets: \\n')\n",
    "head(new_train_data)"
   ]
  },
  {
   "cell_type": "markdown",
   "metadata": {},
   "source": [
    "### Explore the data types of each column in the datasets"
   ]
  },
  {
   "cell_type": "code",
   "execution_count": 6,
   "metadata": {},
   "outputs": [
    {
     "name": "stdout",
     "output_type": "stream",
     "text": [
      "Origina Data Format: \n",
      "'data.frame':\t70000 obs. of  11 variables:\n",
      " $ id                : Factor w/ 70000 levels \"id0000003\",\"id0000023\",..: 49664 8613 69213 68729 55700 35130 58637 53179 47855 66101 ...\n",
      " $ vendor_id         : int  1 1 2 2 1 1 1 2 1 2 ...\n",
      " $ pickup_datetime   : Factor w/ 69805 levels \"2016-01-01 00:01:01\",..: 61853 36201 18131 39258 15901 39772 43253 17290 29266 20824 ...\n",
      " $ dropoff_datetime  : Factor w/ 69814 levels \"2016-01-01 00:07:49\",..: 61852 36206 18128 39268 15901 39776 43249 17284 29280 20825 ...\n",
      " $ passenger_count   : int  1 4 1 1 1 1 1 2 1 1 ...\n",
      " $ pickup_longitude  : num  -74 -74 -74 -74 -74 ...\n",
      " $ pickup_latitude   : num  40.7 40.7 40.8 40.8 40.8 ...\n",
      " $ dropoff_longitude : num  -74 -74 -74 -74 -74 ...\n",
      " $ dropoff_latitude  : num  40.8 40.7 40.8 40.8 40.8 ...\n",
      " $ store_and_fwd_flag: Factor w/ 2 levels \"N\",\"Y\": 1 1 1 1 1 1 1 1 1 1 ...\n",
      " $ trip_duration     : int  1034 422 93 1518 532 303 239 263 581 387 ...\n",
      "NULL\n"
     ]
    }
   ],
   "source": [
    "# checking data types for each columns in the dataset\n",
    "cat('Origina Data Format: \\n')\n",
    "print(str(new_train_data))"
   ]
  },
  {
   "cell_type": "markdown",
   "metadata": {},
   "source": [
    "### Summary"
   ]
  },
  {
   "cell_type": "code",
   "execution_count": 7,
   "metadata": {},
   "outputs": [
    {
     "name": "stdout",
     "output_type": "stream",
     "text": [
      "Summary of New Train Data: \n",
      "         id          vendor_id                pickup_datetime \n",
      " id0000003:    1   Min.   :1.000   2016-01-03 16:22:04:    2  \n",
      " id0000023:    1   1st Qu.:1.000   2016-01-05 19:31:25:    2  \n",
      " id0000107:    1   Median :2.000   2016-01-05 21:08:17:    2  \n",
      " id0000186:    1   Mean   :1.532   2016-01-07 19:17:30:    2  \n",
      " id0000246:    1   3rd Qu.:2.000   2016-01-07 20:07:30:    2  \n",
      " id0000278:    1   Max.   :2.000   2016-01-10 01:22:15:    2  \n",
      " (Other)  :69994                   (Other)            :69988  \n",
      "            dropoff_datetime passenger_count pickup_longitude pickup_latitude\n",
      " 2016-01-03 14:12:01:    2   Min.   :0.000   Min.   :-75.46   Min.   :39.80  \n",
      " 2016-01-04 11:05:55:    2   1st Qu.:1.000   1st Qu.:-73.99   1st Qu.:40.74  \n",
      " 2016-01-04 11:40:56:    2   Median :1.000   Median :-73.98   Median :40.75  \n",
      " 2016-01-04 13:31:08:    2   Mean   :1.665   Mean   :-73.97   Mean   :40.75  \n",
      " 2016-01-04 21:08:58:    2   3rd Qu.:2.000   3rd Qu.:-73.97   3rd Qu.:40.77  \n",
      " 2016-01-05 12:43:25:    2   Max.   :6.000   Max.   :-73.59   Max.   :41.06  \n",
      " (Other)            :69988                                                   \n",
      " dropoff_longitude dropoff_latitude store_and_fwd_flag trip_duration    \n",
      " Min.   :-74.46    Min.   :40.53    N:69614            Min.   :    1.0  \n",
      " 1st Qu.:-73.99    1st Qu.:40.74    Y:  386            1st Qu.:  397.0  \n",
      " Median :-73.98    Median :40.75                       Median :  662.0  \n",
      " Mean   :-73.97    Mean   :40.75                       Mean   :  936.5  \n",
      " 3rd Qu.:-73.96    3rd Qu.:40.77                       3rd Qu.: 1075.0  \n",
      " Max.   :-72.91    Max.   :41.32                       Max.   :86358.0  \n",
      "                                                                        \n"
     ]
    }
   ],
   "source": [
    "## Summary of data\n",
    "cat('Summary of New Train Data: \\n')\n",
    "print(summary(new_train_data))"
   ]
  },
  {
   "cell_type": "markdown",
   "metadata": {},
   "source": [
    "### Missing value in dataframe and across each columns"
   ]
  },
  {
   "cell_type": "code",
   "execution_count": 8,
   "metadata": {},
   "outputs": [
    {
     "name": "stdout",
     "output_type": "stream",
     "text": [
      "Check for missing value: \n",
      "[1] 0\n",
      "check missing value in each column: \n",
      "                id          vendor_id    pickup_datetime   dropoff_datetime \n",
      "                 0                  0                  0                  0 \n",
      "   passenger_count   pickup_longitude    pickup_latitude  dropoff_longitude \n",
      "                 0                  0                  0                  0 \n",
      "  dropoff_latitude store_and_fwd_flag      trip_duration \n",
      "                 0                  0                  0 \n"
     ]
    }
   ],
   "source": [
    "## Check for missing value\n",
    "cat('Check for missing value: \\n')\n",
    "print(sum(is.na(new_train_data)))\n",
    "cat('check missing value in each column: \\n')\n",
    "print(colSums(is.na(new_train_data)))\n"
   ]
  },
  {
   "cell_type": "markdown",
   "metadata": {},
   "source": [
    "### Format Features"
   ]
  },
  {
   "cell_type": "code",
   "execution_count": 9,
   "metadata": {},
   "outputs": [
    {
     "name": "stdout",
     "output_type": "stream",
     "text": [
      "List the types of Attributes: \n",
      "'data.frame':\t70000 obs. of  11 variables:\n",
      " $ id                : Factor w/ 70000 levels \"id0000003\",\"id0000023\",..: 49664 8613 69213 68729 55700 35130 58637 53179 47855 66101 ...\n",
      " $ vendor_id         : int  1 1 2 2 1 1 1 2 1 2 ...\n",
      " $ pickup_datetime   : POSIXct, format: \"2016-06-09 08:28:09\" \"2016-04-04 13:25:16\" ...\n",
      " $ dropoff_datetime  : POSIXct, format: \"2016-06-09 08:45:23\" \"2016-04-04 13:32:18\" ...\n",
      " $ passenger_count   : int  1 4 1 1 1 1 1 2 1 1 ...\n",
      " $ pickup_longitude  : num  -74 -74 -74 -74 -74 ...\n",
      " $ pickup_latitude   : num  40.7 40.7 40.8 40.8 40.8 ...\n",
      " $ dropoff_longitude : num  -74 -74 -74 -74 -74 ...\n",
      " $ dropoff_latitude  : num  40.8 40.7 40.8 40.8 40.8 ...\n",
      " $ store_and_fwd_flag: num  1 1 1 1 1 1 1 1 1 1 ...\n",
      " $ trip_duration     : int  1034 422 93 1518 532 303 239 263 581 387 ...\n",
      "NULL\n"
     ]
    }
   ],
   "source": [
    "#### Formatting Features: #####################################################\n",
    "## 'pickup_datetime' and 'dropoff_datetime'\n",
    "# convert 'Factor' into 'data/time' data type\n",
    "new_train_data$pickup_datetime <- ymd_hms(new_train_data$pickup_datetime)\n",
    "new_train_data$dropoff_datetime <- ymd_hms(new_train_data$dropoff_datetime)\n",
    "\n",
    "## formatting feature 'store_and_fwd_flag'\n",
    "# convert 'Factor' to 'numeric' data type\n",
    "new_train_data$store_and_fwd_flag <- as.numeric(as.factor(new_train_data$store_and_fwd_flag))\n",
    "\n",
    "# cat('Summary after data formatting: \\n')\n",
    "# print(summary(new_train_data))\n",
    "cat('List the types of Attributes: \\n')\n",
    "print(str(new_train_data))\n",
    "\n",
    "#######################################################################################"
   ]
  },
  {
   "cell_type": "markdown",
   "metadata": {},
   "source": [
    "### Changing regression problem to classifcation problem\n",
    "- Divding the continuous \"trip_duration\" continous target variable to discrete target variable\n",
    "- The discrete target variable is divided into two groups: \"Short Trip\" and \"Long Trip\""
   ]
  },
  {
   "cell_type": "code",
   "execution_count": 10,
   "metadata": {},
   "outputs": [
    {
     "data": {
      "image/png": "[encoded data removed]",
      "text/plain": [
       "plot without title"
      ]
     },
     "metadata": {},
     "output_type": "display_data"
    },
    {
     "data": {
      "image/png": "[encoded data removed]",
      "text/plain": [
       "plot without title"
      ]
     },
     "metadata": {},
     "output_type": "display_data"
    },
    {
     "name": "stdout",
     "output_type": "stream",
     "text": [
      "Median of trip_duration in Seconds: Median \n",
      "   662 \n"
     ]
    },
    {
     "data": {
      "image/png": "[encoded data removed]",
      "text/plain": [
       "plot without title"
      ]
     },
     "metadata": {},
     "output_type": "display_data"
    }
   ],
   "source": [
    "## formatting target variable 'trip_duration'\n",
    "# Dr. Zhang suggestion comment, \"Since we mainly use classification- \n",
    "# methods, I suggest you convert your Ride Duration to Long/Short.\"\n",
    "\n",
    "#### Some plots to decide where to cutoff for short and long -- 'trip_duration' ####\n",
    "# distribution plot\n",
    "distplot(new_train_data$trip_duration)\n",
    "\n",
    "# density plot\n",
    "dens_dist <- ggplot(new_train_data, aes(x=trip_duration)) +\n",
    "  geom_density()\n",
    "dens_dist\n",
    "\n",
    "# boxplot\n",
    "boxplot(new_train_data$trip_duration)\n",
    "\n",
    "summary_trip_duration <- summary(new_train_data$trip_duration)\n",
    "# print(summary_trip_duration)\n",
    "median_trip_duration <- summary_trip_duration['Median']\n",
    "max_trip_duration <- summary_trip_duration['Max.']\n",
    "cat('Median of trip_duration in Seconds: ')\n",
    "print(median_trip_duration)"
   ]
  },
  {
   "cell_type": "code",
   "execution_count": 11,
   "metadata": {},
   "outputs": [
    {
     "name": "stdout",
     "output_type": "stream",
     "text": [
      "Changing regression problem to classification problem: \n"
     ]
    }
   ],
   "source": [
    "cat('Changing regression problem to classification problem: \\n')\n",
    "new_train_data$trip_duration <- cut(new_train_data$trip_duration,\n",
    "                                    breaks=c(0, 6000, max_trip_duration),\n",
    "                                    labels=c(\"Short Trip\",\"Long Trip\"))"
   ]
  },
  {
   "cell_type": "markdown",
   "metadata": {},
   "source": [
    "### Distance Travelled during each Trip based on features like:\n",
    "- 'pickup_latitude', 'pickup_longitude', 'dropoff_latitude', 'dropoff_longitude' "
   ]
  },
  {
   "cell_type": "code",
   "execution_count": 12,
   "metadata": {},
   "outputs": [],
   "source": [
    "## 'Distance Travelled during each Trip' using\n",
    "# 'pickup_latitude', 'pickup_longitude', 'dropoff_latitude', 'dropoff_longitude' features\n",
    "\n",
    "i  <- cbind(pick_longitude = new_train_data$pickup_longitude,\n",
    "            pick_latitude = new_train_data$pickup_latitude)\n",
    "j <- cbind(drop_longitude = new_train_data$dropoff_longitude,\n",
    "           drop_latitude = new_train_data$dropoff_latitude)\n",
    "\n",
    "#computing haversine distance from co-ordinates\n",
    "new_train_data$distance <- distHaversine(i, j)"
   ]
  },
  {
   "cell_type": "code",
   "execution_count": null,
   "metadata": {},
   "outputs": [],
   "source": []
  },
  {
   "cell_type": "markdown",
   "metadata": {},
   "source": [
    "### Insight of Target Variable"
   ]
  },
  {
   "cell_type": "code",
   "execution_count": 13,
   "metadata": {},
   "outputs": [
    {
     "name": "stdout",
     "output_type": "stream",
     "text": [
      "Summary of Trip Duration: \n",
      "Short Trip  Long Trip \n",
      "     69887        113 \n"
     ]
    }
   ],
   "source": [
    "\n",
    "## Analyis of \"trip_duration\" target/dependent variable\n",
    "cat('Summary of Trip Duration: \\n')\n",
    "print(summary(new_train_data$trip_duration))"
   ]
  },
  {
   "cell_type": "markdown",
   "metadata": {},
   "source": [
    "### Analysis of Independent Features"
   ]
  },
  {
   "cell_type": "code",
   "execution_count": 14,
   "metadata": {},
   "outputs": [
    {
     "data": {
      "image/png": "[encoded data removed]",
      "text/plain": [
       "plot without title"
      ]
     },
     "metadata": {},
     "output_type": "display_data"
    }
   ],
   "source": [
    "## Analysis of independent variable features\n",
    "\n",
    "# 'vender_id' feature\n",
    "vendorID <- new_train_data %>%\n",
    "  group_by(vendor_id) %>%\n",
    "  count() \n",
    "\n",
    "vendorID %>% ggplot(aes(x=factor(vendor_id), y=n))+\n",
    "  geom_col(aes(fill = factor(vendor_id))) +\n",
    "  ggtitle(\"Vendor ID Feature\") +\n",
    "  xlab(\"vendor_id\") +\n",
    "  ylab(\"No. of Passenger\") +\n",
    "  theme(legend.position = \"none\")"
   ]
  },
  {
   "cell_type": "code",
   "execution_count": 15,
   "metadata": {},
   "outputs": [
    {
     "data": {
      "image/png": "[encoded data removed]",
      "text/plain": [
       "plot without title"
      ]
     },
     "metadata": {},
     "output_type": "display_data"
    }
   ],
   "source": [
    "# 'store_and_fwd_flag' feature\n",
    "store_flag <- new_train_data %>%\n",
    "  group_by(store_and_fwd_flag) %>%\n",
    "  count()\n",
    "\n",
    "store_flag %>% ggplot(aes(x=factor(store_and_fwd_flag), y=n))+\n",
    "  geom_col(aes(fill = factor(store_and_fwd_flag))) +\n",
    "  ggtitle(\"Store and Forward Feature\") +\n",
    "  xlab(\"store_and_fwd_flag\") +\n",
    "  ylab(\"No. of Passenger\") +\n",
    "  theme(legend.position = \"none\")\n"
   ]
  },
  {
   "cell_type": "code",
   "execution_count": 16,
   "metadata": {},
   "outputs": [
    {
     "data": {
      "image/png": "[encoded data removed]",
      "text/plain": [
       "plot without title"
      ]
     },
     "metadata": {},
     "output_type": "display_data"
    }
   ],
   "source": [
    "# 'passenger_count' feature\n",
    "passeng_count <- new_train_data %>%\n",
    "  group_by(passenger_count) %>%\n",
    "  count() \n",
    "\n",
    "passeng_count %>% ggplot(aes(x=passenger_count, y=n))+\n",
    "  geom_col(aes(fill = factor(passenger_count)))+\n",
    "  ggtitle(\"Passenger Count in Each Pick Up\") +\n",
    "  xlab(\"passenger_count\") +\n",
    "  ylab(\"No. of Pick Up\") +\n",
    "  theme(legend.position = \"none\")"
   ]
  },
  {
   "cell_type": "code",
   "execution_count": 17,
   "metadata": {},
   "outputs": [
    {
     "data": {
      "image/png": "[encoded data removed]",
      "text/plain": [
       "plot without title"
      ]
     },
     "metadata": {},
     "output_type": "display_data"
    }
   ],
   "source": [
    "# 'Number of Pickup' in 24-Hours\n",
    "new_train_data$hour_24 <- hour(new_train_data$pickup_datetime)\n",
    "num_pickup_24 <- new_train_data %>%\n",
    "  group_by(hour_24) %>%\n",
    "  count()\n",
    "\n",
    "num_pickup_24 %>%\n",
    "  ggplot(aes(x=hour_24, y=n)) +\n",
    "  geom_col(aes(fill = factor(hour_24))) +\n",
    "  ggtitle(\"No. of Pick Up During 24-Hours\") +\n",
    "  xlab(\"Hours of a Day\") +\n",
    "  ylab(\"No. of Pickups\") +\n",
    "  theme(legend.position = \"none\")"
   ]
  },
  {
   "cell_type": "markdown",
   "metadata": {},
   "source": [
    "#### 'Pickup_datetime' features exploration"
   ]
  },
  {
   "cell_type": "code",
   "execution_count": 18,
   "metadata": {},
   "outputs": [
    {
     "data": {
      "image/png": "[encoded data removed]",
      "text/plain": [
       "plot without title"
      ]
     },
     "metadata": {},
     "output_type": "display_data"
    }
   ],
   "source": [
    "##### 'pickup_datetime' feature\n",
    "num_pickup_24hours_day <- new_train_data %>%\n",
    "  mutate(hpick = hour(pickup_datetime),\n",
    "         wday  = factor(wday(pickup_datetime, label=TRUE))) %>%\n",
    "  group_by(hpick, wday) %>%\n",
    "  count()\n",
    "\n",
    "num_pickup_24hours_day %>% ggplot(aes(x=hpick, y=n, color=wday)) +\n",
    "  geom_point(size=2) +\n",
    "  ggtitle(\"Pick Up Hours by Day\") +\n",
    "  xlab(\"Hours of a Day\") +\n",
    "  ylab(\"No. of pick up\")"
   ]
  },
  {
   "cell_type": "code",
   "execution_count": 19,
   "metadata": {},
   "outputs": [
    {
     "data": {
      "image/png": "[encoded data removed]",
      "text/plain": [
       "plot without title"
      ]
     },
     "metadata": {},
     "output_type": "display_data"
    }
   ],
   "source": [
    "num_pickup_24hours_month <- new_train_data %>%\n",
    "  mutate(hpick = hour(pickup_datetime),\n",
    "         month  = factor(month(pickup_datetime, label=TRUE))) %>%\n",
    "  group_by(hpick, month) %>%\n",
    "  count()\n",
    "\n",
    "num_pickup_24hours_month %>% ggplot(aes(x=hpick, y=n, color=month)) +\n",
    "  geom_point(size=2) +\n",
    "  ggtitle(\"Pick Up Hours by Month\") +\n",
    "  xlab(\"Hours of a Day\") +\n",
    "  ylab(\"No. of pick up\")\n"
   ]
  },
  {
   "cell_type": "code",
   "execution_count": 20,
   "metadata": {},
   "outputs": [
    {
     "data": {
      "image/png": "[encoded data removed]",
      "text/plain": [
       "plot without title"
      ]
     },
     "metadata": {},
     "output_type": "display_data"
    }
   ],
   "source": [
    "new_train_data %>%\n",
    "  mutate(hpick = hour(pickup_datetime)) %>%\n",
    "  group_by(hpick) %>%\n",
    "  count() %>%\n",
    "  ggplot(aes(x=hpick, y=n)) +\n",
    "  geom_point(size=2) +\n",
    "  ggtitle(\"Pick Up by Hours\") +\n",
    "  xlab(\"Hours in a Day\") +\n",
    "  ylab(\"No. of pick up\")\n"
   ]
  },
  {
   "cell_type": "code",
   "execution_count": 21,
   "metadata": {},
   "outputs": [
    {
     "data": {
      "image/png": "[encoded data removed]",
      "text/plain": [
       "plot without title"
      ]
     },
     "metadata": {},
     "output_type": "display_data"
    }
   ],
   "source": [
    "new_train_data %>%\n",
    "  mutate(wday  = factor(wday(pickup_datetime, label=TRUE))) %>%\n",
    "  group_by(wday) %>%\n",
    "  count() %>%\n",
    "  ggplot(aes(x=wday, y=n)) +\n",
    "  geom_point(size=2) +\n",
    "  ggtitle(\"Pick Up by Day\") +\n",
    "  xlab(\"Days in a Week\") +\n",
    "  ylab(\"No. of pick up\")"
   ]
  },
  {
   "cell_type": "code",
   "execution_count": 22,
   "metadata": {},
   "outputs": [
    {
     "data": {
      "image/png": "[encoded data removed]",
      "text/plain": [
       "plot without title"
      ]
     },
     "metadata": {},
     "output_type": "display_data"
    }
   ],
   "source": [
    "# 'pickup_latitude', pickup_longitude', dropoff_latitude', 'dropoff_longitude' features\n",
    "options(repr.plot.width = 6, repr.plot.height = 5)\n",
    "p1 <- new_train_data %>%\n",
    "  filter(pickup_latitude > min(new_train_data$pickup_latitude) &\n",
    "          pickup_latitude < max(new_train_data$pickup_latitude)) %>%\n",
    "  ggplot(aes(x=pickup_latitude)) +\n",
    "  geom_histogram(bins=40)\n",
    "\n",
    "p2 <- new_train_data %>%\n",
    "  filter(pickup_longitude > min(new_train_data$pickup_longitude) &\n",
    "           pickup_longitude < max(new_train_data$pickup_longitude)) %>%\n",
    "  ggplot(aes(x=pickup_longitude)) +\n",
    "  geom_histogram(bins=40)\n",
    "\n",
    "p3 <- new_train_data %>%\n",
    "  filter(dropoff_latitude > min(new_train_data$dropoff_latitude) &\n",
    "           dropoff_latitude < max(new_train_data$dropoff_latitude)) %>%\n",
    "  ggplot(aes(x=dropoff_latitude)) +\n",
    "  geom_histogram(bins=40)\n",
    "\n",
    "p4 <- new_train_data %>%\n",
    "  filter(dropoff_longitude > min(new_train_data$dropoff_longitude) &\n",
    "           dropoff_longitude < max(new_train_data$dropoff_longitude)) %>%\n",
    "  ggplot(aes(x=dropoff_longitude)) +\n",
    "  geom_histogram(bins=40)\n",
    "\n",
    "grid.arrange(p1, p2, p3, p4)"
   ]
  },
  {
   "cell_type": "code",
   "execution_count": 23,
   "metadata": {},
   "outputs": [
    {
     "data": {
      "image/png": "[encoded data removed]",
      "text/plain": [
       "plot without title"
      ]
     },
     "metadata": {},
     "output_type": "display_data"
    }
   ],
   "source": [
    "# featuresplot, #scatterplot matrix\n",
    "options(repr.plot.width = 8, repr.plot.height = 7)\n",
    "featurePlot(x=new_train_data[,6:9], y=new_train_data[,11], plot=\"ellipse\")\n"
   ]
  },
  {
   "cell_type": "code",
   "execution_count": 24,
   "metadata": {},
   "outputs": [
    {
     "data": {
      "image/png": "[encoded data removed]",
      "text/plain": [
       "plot without title"
      ]
     },
     "metadata": {},
     "output_type": "display_data"
    }
   ],
   "source": [
    "# density plots for each attribute by class value\n",
    "options(repr.plot.width = 6, repr.plot.height = 5)\n",
    "scales <- list(x=list(relation=\"free\"), y=list(relation=\"free\"))\n",
    "featurePlot(x=new_train_data[,12], y=new_train_data[,11], plot=\"density\", scales=scales)"
   ]
  },
  {
   "cell_type": "code",
   "execution_count": 25,
   "metadata": {},
   "outputs": [
    {
     "data": {
      "image/png": "[encoded data removed]",
      "text/plain": [
       "plot without title"
      ]
     },
     "metadata": {},
     "output_type": "display_data"
    }
   ],
   "source": [
    "## Relationship between different features with 'trip_duration'\n",
    "options(repr.plot.width = 6, repr.plot.height = 5)\n",
    "b1 <- ggplot(data = new_train_data,\n",
    "             aes(x=trip_duration, y=hour(pickup_datetime),\n",
    "                 fill=trip_duration)) +\n",
    "  geom_boxplot() +\n",
    "  ggtitle(\"Trip Duration for 24-Hours\") +\n",
    "  xlab(\"Trip Duration Class\") +\n",
    "  ylab(\"Hours of the Day\") +\n",
    "  theme(legend.position=\"none\")\n",
    "\n",
    "b2 <- ggplot(data = new_train_data,\n",
    "             aes(x=trip_duration, y=day(pickup_datetime),\n",
    "                 fill=trip_duration)) +\n",
    "  geom_boxplot() +\n",
    "  ggtitle(\"Trip Duration for Day\") +\n",
    "  xlab(\"Trip Duration Class\") +\n",
    "  ylab(\"Day\") +\n",
    "  theme(legend.position=\"none\")\n",
    "\n",
    "b3 <- ggplot(data = new_train_data,\n",
    "             aes(x=trip_duration, y=month(pickup_datetime),\n",
    "                 fill=trip_duration)) +\n",
    "  geom_boxplot() +\n",
    "  ggtitle(\"Trip Duration for Month\") +\n",
    "  xlab(\"Trip Duration Class\") +\n",
    "  ylab(\"6-Months\") +\n",
    "  theme(legend.position=\"none\")\n",
    "\n",
    "grid.arrange(b1, b2, b3, ncol=2)\n"
   ]
  },
  {
   "cell_type": "code",
   "execution_count": 26,
   "metadata": {},
   "outputs": [
    {
     "name": "stdout",
     "output_type": "stream",
     "text": [
      " [1] \"id\"                 \"vendor_id\"          \"pickup_datetime\"   \n",
      " [4] \"dropoff_datetime\"   \"passenger_count\"    \"pickup_longitude\"  \n",
      " [7] \"pickup_latitude\"    \"dropoff_longitude\"  \"dropoff_latitude\"  \n",
      "[10] \"store_and_fwd_flag\" \"trip_duration\"      \"distance\"          \n",
      "[13] \"hour_24\"           \n"
     ]
    }
   ],
   "source": [
    "###############################################################################################\n",
    "## Model Preparation\n",
    "\n",
    "# create a validation dataset from 'new_train_data'\n",
    "# 70 % 'new_train_data' data\n",
    "print(colnames(new_train_data))\n",
    "new_train_data <- new_train_data[, -which(names(new_train_data) \n",
    "                                          %in% c(\"id\",\"distance\")) ]\n",
    "sample_size <- floor(0.7 * nrow(new_train_data))\n",
    "\n",
    "# randomly select index of observations for training\n",
    "training_index_2 <- sample(nrow(new_train_data), size=sample_size, replace=FALSE)\n",
    "train <- new_train_data[training_index_2, ]\n",
    "validation <- new_train_data[-training_index_2, ]"
   ]
  },
  {
   "cell_type": "code",
   "execution_count": 27,
   "metadata": {},
   "outputs": [],
   "source": [
    "# Run algorithms using 5-fold cross validation\n",
    "control <- trainControl(method=\"cv\", number=5)\n",
    "metric <- \"Accuracy\"\n"
   ]
  },
  {
   "cell_type": "code",
   "execution_count": 28,
   "metadata": {},
   "outputs": [],
   "source": [
    "# linear algorithms \n",
    "set.seed(123)\n",
    "lda.model <- train(as.factor(trip_duration)~., data=train, method=\"lda\", \n",
    "                 metric=metric, trControl=control)\n"
   ]
  },
  {
   "cell_type": "code",
   "execution_count": 29,
   "metadata": {},
   "outputs": [],
   "source": [
    "# kNN\n",
    "set.seed(123)\n",
    "knn.model <- train(as.factor(trip_duration)~., data=train, method=\"knn\",\n",
    "                 metric=metric, trControl=control)\n"
   ]
  },
  {
   "cell_type": "code",
   "execution_count": 30,
   "metadata": {},
   "outputs": [],
   "source": [
    "# # SVM\n",
    "# set.seed(123)\n",
    "# svm.model <- train(as.factor(trip_duration)~., data=train, method=\"svmRadial\",\n",
    "#                  metric=metric, trControl=control)"
   ]
  },
  {
   "cell_type": "code",
   "execution_count": 31,
   "metadata": {},
   "outputs": [],
   "source": [
    "# #naive bayes\n",
    "# set.seed(123)\n",
    "# naiveBayes.model <- train(as.factor(trip_duration)~., data=train, method=\"nb\",\n",
    "#                           metric=metric, trControl=control)\n"
   ]
  },
  {
   "cell_type": "code",
   "execution_count": 32,
   "metadata": {},
   "outputs": [],
   "source": [
    "# # Random Forest\n",
    "# set.seed(123)\n",
    "# fit.rf <- train(as.factor(trip_duration)~., data=train, method=\"rf\", \n",
    "#                 metric=metric, trControl=control)"
   ]
  },
  {
   "cell_type": "code",
   "execution_count": 33,
   "metadata": {},
   "outputs": [
    {
     "name": "stdout",
     "output_type": "stream",
     "text": [
      "\n",
      "Call:\n",
      "summary.resamples(object = results_best)\n",
      "\n",
      "Models: lda, knn \n",
      "Number of resamples: 5 \n",
      "\n",
      "Accuracy \n",
      "         Min.   1st Qu.    Median      Mean   3rd Qu.      Max. NA's\n",
      "lda 0.9994898 0.9994898 0.9994898 0.9995918 0.9996939 0.9997959    0\n",
      "knn 0.9982653 0.9982655 0.9983672 0.9983265 0.9983673 0.9983673    0\n",
      "\n",
      "Kappa \n",
      "         Min.   1st Qu.    Median     Mean  3rd Qu.      Max. NA's\n",
      "lda 0.8145681 0.8145681 0.8273383 0.858556 0.903074 0.9332316    0\n",
      "knn 0.0000000 0.0000000 0.0000000 0.000000 0.000000 0.0000000    0\n",
      "\n"
     ]
    }
   ],
   "source": [
    "## Select best model\n",
    "# summarize accuracy of models\n",
    "results_best <- resamples(list(lda=lda.model, knn=knn.model))\n",
    "print(summary(results_best))\n"
   ]
  },
  {
   "cell_type": "code",
   "execution_count": 34,
   "metadata": {},
   "outputs": [
    {
     "name": "stdout",
     "output_type": "stream",
     "text": [
      "Linear Discriminant Analysis \n",
      "\n",
      "49000 samples\n",
      "   10 predictor\n",
      "    2 classes: 'Short Trip', 'Long Trip' \n",
      "\n",
      "No pre-processing\n",
      "Resampling: Cross-Validated (5 fold) \n",
      "Summary of sample sizes: 39201, 39200, 39199, 39200, 39200 \n",
      "Resampling results:\n",
      "\n",
      "  Accuracy   Kappa   \n",
      "  0.9995918  0.858556\n",
      "\n"
     ]
    }
   ],
   "source": [
    "# summarize Best Model\n",
    "print(lda.model)"
   ]
  },
  {
   "cell_type": "code",
   "execution_count": 35,
   "metadata": {},
   "outputs": [
    {
     "name": "stdout",
     "output_type": "stream",
     "text": [
      "            predicted\n",
      "actual       Short Trip Long Trip\n",
      "  Short Trip      20969         0\n",
      "  Long Trip          10        21\n"
     ]
    }
   ],
   "source": [
    "# prediction on the validation dataset\n",
    "predictions <- predict(lda.model, validation)\n",
    "\n",
    "# pick actual value and predicted value together in a dataframe\n",
    "# called results\n",
    "results <- data.frame(actual = validation[, 'trip_duration'],\n",
    "                      predicted = predictions)\n",
    "# confusion matrix\n",
    "print(table(results))"
   ]
  },
  {
   "cell_type": "code",
   "execution_count": 36,
   "metadata": {},
   "outputs": [
    {
     "data": {
      "text/html": [
       "0.999523809523809"
      ],
      "text/latex": [
       "0.999523809523809"
      ],
      "text/markdown": [
       "0.999523809523809"
      ],
      "text/plain": [
       "[1] 0.9995238"
      ]
     },
     "metadata": {},
     "output_type": "display_data"
    }
   ],
   "source": [
    "# Accuracy\n",
    "mean(results$actual == results$predicted)"
   ]
  },
  {
   "cell_type": "code",
   "execution_count": null,
   "metadata": {},
   "outputs": [],
   "source": []
  },
  {
   "cell_type": "code",
   "execution_count": null,
   "metadata": {},
   "outputs": [],
   "source": []
  }
 ],
 "metadata": {
  "kernelspec": {
   "display_name": "R",
   "language": "R",
   "name": "ir"
  },
  "language_info": {
   "codemirror_mode": "r",
   "file_extension": ".r",
   "mimetype": "text/x-r-source",
   "name": "R",
   "pygments_lexer": "r",
   "version": "3.6.1"
  }
 },
 "nbformat": 4,
 "nbformat_minor": 4
}
